{
 "cells": [
  {
   "cell_type": "code",
   "execution_count": 1,
   "metadata": {
    "colab": {
     "base_uri": "https://localhost:8080/"
    },
    "id": "cfvs_bq88E7d",
    "outputId": "542dbcea-de44-4ae5-f0da-377bb250658c"
   },
   "outputs": [
    {
     "name": "stdout",
     "output_type": "stream",
     "text": [
      "\u001b[K     |████████████████████████████████| 778kB 15.9MB/s \n",
      "\u001b[K     |████████████████████████████████| 3.0MB 55.2MB/s \n",
      "\u001b[K     |████████████████████████████████| 1.2MB 51.6MB/s \n",
      "\u001b[K     |████████████████████████████████| 890kB 59.2MB/s \n",
      "\u001b[?25h  Building wheel for sacremoses (setup.py) ... \u001b[?25l\u001b[?25hdone\n"
     ]
    }
   ],
   "source": [
    "!pip install transformers==3.0.2 -q"
   ]
  },
  {
   "cell_type": "code",
   "execution_count": 2,
   "metadata": {
    "id": "yUAD-ou38I_w"
   },
   "outputs": [],
   "source": [
    "import pandas as pd\n",
    "import os\n",
    "from google.colab import files\n",
    "import random\n",
    "from tqdm.notebook import tqdm\n",
    "from transformers import BertTokenizer, BertModel, AdamW, get_linear_schedule_with_warmup\n",
    "import torch\n",
    "import torch.nn as nn\n",
    "import torch.nn.functional as F\n",
    "from torch.optim import lr_scheduler\n",
    "import pickle\n",
    "import numpy as np\n",
    "from sklearn import metrics\n",
    "from pathlib import Path\n",
    "import warnings\n",
    "\n",
    "warnings.filterwarnings('ignore')"
   ]
  },
  {
   "cell_type": "code",
   "execution_count": 4,
   "metadata": {
    "colab": {
     "base_uri": "https://localhost:8080/"
    },
    "id": "nR0urZ1F8PCj",
    "outputId": "f2a32e4a-9c44-4bf1-9dd0-a34cbc1a4633"
   },
   "outputs": [
    {
     "name": "stdout",
     "output_type": "stream",
     "text": [
      "Mounted at /content/drive\n"
     ]
    }
   ],
   "source": [
    "from google.colab import drive\n",
    "drive.mount('/content/drive')"
   ]
  },
  {
   "cell_type": "code",
   "execution_count": 5,
   "metadata": {
    "colab": {
     "base_uri": "https://localhost:8080/"
    },
    "id": "bclM34Ol85TO",
    "outputId": "a283992b-179b-423f-eca9-7ea20fa6b3d7"
   },
   "outputs": [
    {
     "name": "stdout",
     "output_type": "stream",
     "text": [
      "/content/drive/MyDrive/WSD-projekt\n"
     ]
    }
   ],
   "source": [
    "cd drive/MyDrive/WSD-projekt"
   ]
  },
  {
   "cell_type": "code",
   "execution_count": 8,
   "metadata": {
    "colab": {
     "base_uri": "https://localhost:8080/"
    },
    "id": "ph3P52fQ_Ttb",
    "outputId": "655b7e3d-bd7c-4d2f-bafd-6704e1b21192"
   },
   "outputs": [
    {
     "name": "stdout",
     "output_type": "stream",
     "text": [
      "\u001b[0m\u001b[01;34mpoleval20-wsd-master\u001b[0m/  \u001b[01;34mtest_gold_standard\u001b[0m/   wsddata.pkl\n",
      "\u001b[01;34mresults\u001b[0m/               train_valid_data.pkl  WSD_polbert_model3.bin\n"
     ]
    }
   ],
   "source": [
    "ls"
   ]
  },
  {
   "cell_type": "code",
   "execution_count": null,
   "metadata": {
    "colab": {
     "base_uri": "https://localhost:8080/"
    },
    "id": "M6NpmgkX9Ds0",
    "outputId": "c57b6f69-b240-4805-f89e-fad9a8e7db11"
   },
   "outputs": [
    {
     "name": "stdout",
     "output_type": "stream",
     "text": [
      "mkdir: cannot create directory ‘drive/MyDrive/WSD-projekt/results’: File exists\n",
      "mkdir: cannot create directory ‘drive/MyDrive/WSD-projekt/results/kpwr’: File exists\n",
      "mkdir: cannot create directory ‘drive/MyDrive/WSD-projekt/results/sherlock’: File exists\n"
     ]
    }
   ],
   "source": [
    "!mkdir results\n",
    "!mkdir results/kpwr\n",
    "!mkdir results/sherlock"
   ]
  },
  {
   "cell_type": "markdown",
   "metadata": {
    "id": "T2XTP7D3DhRh"
   },
   "source": [
    "Training data"
   ]
  },
  {
   "cell_type": "code",
   "execution_count": null,
   "metadata": {
    "colab": {
     "base_uri": "https://localhost:8080/"
    },
    "id": "52O2IQKzDp8p",
    "outputId": "86122405-6b91-4581-a1d9-9189b7ed447e"
   },
   "outputs": [
    {
     "name": "stdout",
     "output_type": "stream",
     "text": [
      "\u001b[0m\u001b[01;34mdata\u001b[0m/  README.md  \u001b[01;34mtestdata\u001b[0m/\n"
     ]
    }
   ],
   "source": [
    "ls poleval20-wsd-master/"
   ]
  },
  {
   "cell_type": "code",
   "execution_count": 9,
   "metadata": {
    "colab": {
     "base_uri": "https://localhost:8080/",
     "height": 979
    },
    "id": "NeA8TU7IC4fY",
    "outputId": "814e3e81-4a7c-4067-add7-7b7584c54551"
   },
   "outputs": [
    {
     "data": {
      "text/html": [
       "<div>\n",
       "<style scoped>\n",
       "    .dataframe tbody tr th:only-of-type {\n",
       "        vertical-align: middle;\n",
       "    }\n",
       "\n",
       "    .dataframe tbody tr th {\n",
       "        vertical-align: top;\n",
       "    }\n",
       "\n",
       "    .dataframe thead th {\n",
       "        text-align: right;\n",
       "    }\n",
       "</style>\n",
       "<table border=\"1\" class=\"dataframe\">\n",
       "  <thead>\n",
       "    <tr style=\"text-align: right;\">\n",
       "      <th></th>\n",
       "      <th>lemma</th>\n",
       "      <th>POS</th>\n",
       "      <th>synset</th>\n",
       "      <th>example</th>\n",
       "    </tr>\n",
       "  </thead>\n",
       "  <tbody>\n",
       "    <tr>\n",
       "      <th>0</th>\n",
       "      <td>absolutny</td>\n",
       "      <td>adj</td>\n",
       "      <td>s238698</td>\n",
       "      <td>**absolutystyczny**, oparty na zasadach, idei ...</td>\n",
       "    </tr>\n",
       "    <tr>\n",
       "      <th>1</th>\n",
       "      <td>absolutny</td>\n",
       "      <td>adj</td>\n",
       "      <td>s238698</td>\n",
       "      <td>Różnica między monarchią **absolutną** a despo...</td>\n",
       "    </tr>\n",
       "    <tr>\n",
       "      <th>2</th>\n",
       "      <td>absolutny</td>\n",
       "      <td>adj</td>\n",
       "      <td>s238698</td>\n",
       "      <td>Księstwo oficjalnie było de jure od 1905 monar...</td>\n",
       "    </tr>\n",
       "    <tr>\n",
       "      <th>3</th>\n",
       "      <td>absolutny</td>\n",
       "      <td>adj</td>\n",
       "      <td>s238698</td>\n",
       "      <td>Aby zaprowadzić rządy **absolutne** i despotyc...</td>\n",
       "    </tr>\n",
       "    <tr>\n",
       "      <th>4</th>\n",
       "      <td>absolutny</td>\n",
       "      <td>adj</td>\n",
       "      <td>s238698</td>\n",
       "      <td>Jego nowa, **absolutystyczna** polityka, połąc...</td>\n",
       "    </tr>\n",
       "    <tr>\n",
       "      <th>5</th>\n",
       "      <td>absolutny</td>\n",
       "      <td>adj</td>\n",
       "      <td>s238698</td>\n",
       "      <td>Armia jest zabawką w rękach władcy **absolutne...</td>\n",
       "    </tr>\n",
       "    <tr>\n",
       "      <th>6</th>\n",
       "      <td>absolutny</td>\n",
       "      <td>adj</td>\n",
       "      <td>s238698</td>\n",
       "      <td>Po zniknięciu z Europy **absolutystycznych** w...</td>\n",
       "    </tr>\n",
       "    <tr>\n",
       "      <th>7</th>\n",
       "      <td>absolutny</td>\n",
       "      <td>adj</td>\n",
       "      <td>s238698</td>\n",
       "      <td>oparty na zasadach, idei absolutyzmu, uzsadnio...</td>\n",
       "    </tr>\n",
       "    <tr>\n",
       "      <th>8</th>\n",
       "      <td>absolwent</td>\n",
       "      <td>noun</td>\n",
       "      <td>s12</td>\n",
       "      <td>NaN</td>\n",
       "    </tr>\n",
       "    <tr>\n",
       "      <th>9</th>\n",
       "      <td>abstrakcyjny</td>\n",
       "      <td>adj</td>\n",
       "      <td>s103631</td>\n",
       "      <td>Był to dość **abstrakcyjny** pomysł, zwłaszcza...</td>\n",
       "    </tr>\n",
       "    <tr>\n",
       "      <th>10</th>\n",
       "      <td>abstrakcyjny</td>\n",
       "      <td>adj</td>\n",
       "      <td>s103631</td>\n",
       "      <td>Mam **abstrakcyjny** pomysł na wakacje, ale to...</td>\n",
       "    </tr>\n",
       "    <tr>\n",
       "      <th>11</th>\n",
       "      <td>abstrakcyjny</td>\n",
       "      <td>adj</td>\n",
       "      <td>s103631</td>\n",
       "      <td>nie wiadomo, na czym oparty, oryginalny, niesz...</td>\n",
       "    </tr>\n",
       "    <tr>\n",
       "      <th>12</th>\n",
       "      <td>adherent</td>\n",
       "      <td>noun</td>\n",
       "      <td>s4450</td>\n",
       "      <td>NaN</td>\n",
       "    </tr>\n",
       "    <tr>\n",
       "      <th>13</th>\n",
       "      <td>administracja</td>\n",
       "      <td>noun</td>\n",
       "      <td>s14</td>\n",
       "      <td>Po spotkaniu ze swoją **administracją**, prezy...</td>\n",
       "    </tr>\n",
       "    <tr>\n",
       "      <th>14</th>\n",
       "      <td>administracja</td>\n",
       "      <td>noun</td>\n",
       "      <td>s14</td>\n",
       "      <td>grupa ludzi będących pracownikami administracy...</td>\n",
       "    </tr>\n",
       "    <tr>\n",
       "      <th>15</th>\n",
       "      <td>administracja</td>\n",
       "      <td>noun</td>\n",
       "      <td>s4746</td>\n",
       "      <td>siedziba **zarządu**.</td>\n",
       "    </tr>\n",
       "    <tr>\n",
       "      <th>16</th>\n",
       "      <td>administracja</td>\n",
       "      <td>noun</td>\n",
       "      <td>s4746</td>\n",
       "      <td>siedziba urzędników.</td>\n",
       "    </tr>\n",
       "    <tr>\n",
       "      <th>17</th>\n",
       "      <td>administracja</td>\n",
       "      <td>noun</td>\n",
       "      <td>s4746</td>\n",
       "      <td>siedziba **kierownictwa**.</td>\n",
       "    </tr>\n",
       "    <tr>\n",
       "      <th>18</th>\n",
       "      <td>administracja</td>\n",
       "      <td>noun</td>\n",
       "      <td>s4746</td>\n",
       "      <td>siedziba **dyrekcji**.</td>\n",
       "    </tr>\n",
       "    <tr>\n",
       "      <th>19</th>\n",
       "      <td>administracyjny</td>\n",
       "      <td>adj</td>\n",
       "      <td>s103612</td>\n",
       "      <td>związany z zapleczem organizacyjnym przedsiębi...</td>\n",
       "    </tr>\n",
       "    <tr>\n",
       "      <th>20</th>\n",
       "      <td>administracyjny</td>\n",
       "      <td>adj</td>\n",
       "      <td>s103612</td>\n",
       "      <td>Zosia została pracownikiem **administracyjnym**.</td>\n",
       "    </tr>\n",
       "    <tr>\n",
       "      <th>21</th>\n",
       "      <td>administrator</td>\n",
       "      <td>noun</td>\n",
       "      <td>s4239</td>\n",
       "      <td>Wytykano zarządzającemu niegospodarność. **zar...</td>\n",
       "    </tr>\n",
       "    <tr>\n",
       "      <th>22</th>\n",
       "      <td>administrator</td>\n",
       "      <td>noun</td>\n",
       "      <td>s4239</td>\n",
       "      <td>ten, kto czymś zarządza.</td>\n",
       "    </tr>\n",
       "    <tr>\n",
       "      <th>23</th>\n",
       "      <td>administrator</td>\n",
       "      <td>noun</td>\n",
       "      <td>s4239</td>\n",
       "      <td>**zarządca**, **administrator**.</td>\n",
       "    </tr>\n",
       "    <tr>\n",
       "      <th>24</th>\n",
       "      <td>administrator</td>\n",
       "      <td>noun</td>\n",
       "      <td>s4239</td>\n",
       "      <td>ten, który czymś zarządza, sprawuje zarząd nad...</td>\n",
       "    </tr>\n",
       "    <tr>\n",
       "      <th>25</th>\n",
       "      <td>administrować</td>\n",
       "      <td>verb</td>\n",
       "      <td>s4240</td>\n",
       "      <td>decydować o kimś, czymś, **zawiadywać** czymś,...</td>\n",
       "    </tr>\n",
       "    <tr>\n",
       "      <th>26</th>\n",
       "      <td>administrować</td>\n",
       "      <td>verb</td>\n",
       "      <td>s4240</td>\n",
       "      <td>Nie **rozrządzam** już dziećmi moimi, które są...</td>\n",
       "    </tr>\n",
       "    <tr>\n",
       "      <th>27</th>\n",
       "      <td>adorator</td>\n",
       "      <td>noun</td>\n",
       "      <td>s6621</td>\n",
       "      <td>mężczyzna, który adoruje kobietę i zaleca się ...</td>\n",
       "    </tr>\n",
       "    <tr>\n",
       "      <th>28</th>\n",
       "      <td>adorator</td>\n",
       "      <td>noun</td>\n",
       "      <td>s6621</td>\n",
       "      <td>Znalazła sobie takiego **amanta**, że głowa bo...</td>\n",
       "    </tr>\n",
       "    <tr>\n",
       "      <th>29</th>\n",
       "      <td>adres</td>\n",
       "      <td>noun</td>\n",
       "      <td>s16</td>\n",
       "      <td>określenie miejsca zamieszkania lub pobytu oso...</td>\n",
       "    </tr>\n",
       "  </tbody>\n",
       "</table>\n",
       "</div>"
      ],
      "text/plain": [
       "              lemma  ...                                            example\n",
       "0         absolutny  ...  **absolutystyczny**, oparty na zasadach, idei ...\n",
       "1         absolutny  ...  Różnica między monarchią **absolutną** a despo...\n",
       "2         absolutny  ...  Księstwo oficjalnie było de jure od 1905 monar...\n",
       "3         absolutny  ...  Aby zaprowadzić rządy **absolutne** i despotyc...\n",
       "4         absolutny  ...  Jego nowa, **absolutystyczna** polityka, połąc...\n",
       "5         absolutny  ...  Armia jest zabawką w rękach władcy **absolutne...\n",
       "6         absolutny  ...  Po zniknięciu z Europy **absolutystycznych** w...\n",
       "7         absolutny  ...  oparty na zasadach, idei absolutyzmu, uzsadnio...\n",
       "8         absolwent  ...                                                NaN\n",
       "9      abstrakcyjny  ...  Był to dość **abstrakcyjny** pomysł, zwłaszcza...\n",
       "10     abstrakcyjny  ...  Mam **abstrakcyjny** pomysł na wakacje, ale to...\n",
       "11     abstrakcyjny  ...  nie wiadomo, na czym oparty, oryginalny, niesz...\n",
       "12         adherent  ...                                                NaN\n",
       "13    administracja  ...  Po spotkaniu ze swoją **administracją**, prezy...\n",
       "14    administracja  ...  grupa ludzi będących pracownikami administracy...\n",
       "15    administracja  ...                              siedziba **zarządu**.\n",
       "16    administracja  ...                               siedziba urzędników.\n",
       "17    administracja  ...                         siedziba **kierownictwa**.\n",
       "18    administracja  ...                             siedziba **dyrekcji**.\n",
       "19  administracyjny  ...  związany z zapleczem organizacyjnym przedsiębi...\n",
       "20  administracyjny  ...   Zosia została pracownikiem **administracyjnym**.\n",
       "21    administrator  ...  Wytykano zarządzającemu niegospodarność. **zar...\n",
       "22    administrator  ...                           ten, kto czymś zarządza.\n",
       "23    administrator  ...                   **zarządca**, **administrator**.\n",
       "24    administrator  ...  ten, który czymś zarządza, sprawuje zarząd nad...\n",
       "25    administrować  ...  decydować o kimś, czymś, **zawiadywać** czymś,...\n",
       "26    administrować  ...  Nie **rozrządzam** już dziećmi moimi, które są...\n",
       "27         adorator  ...  mężczyzna, który adoruje kobietę i zaleca się ...\n",
       "28         adorator  ...  Znalazła sobie takiego **amanta**, że głowa bo...\n",
       "29            adres  ...  określenie miejsca zamieszkania lub pobytu oso...\n",
       "\n",
       "[30 rows x 4 columns]"
      ]
     },
     "execution_count": 9,
     "metadata": {
      "tags": []
     },
     "output_type": "execute_result"
    }
   ],
   "source": [
    "path_lemmas = 'poleval20-wsd-master/data/lemmas.txt'\n",
    "path_synsets = 'poleval20-wsd-master/data/synsets.txt'\n",
    "path_lexicalunits = 'poleval20-wsd-master/data/lexicalunits.txt'\n",
    "path_synsets_examples = 'poleval20-wsd-master/data/synset_defs_examples.txt'\n",
    "\n",
    "lemmas_df = pd.read_csv(path_lemmas, names=['lemma', 'POS'])\n",
    "synsets_df = pd.read_csv(path_synsets, names=['synset'])\n",
    "lexicalunits_df = pd.read_csv(path_lexicalunits, sep='\\t', names=['lemma_idx', 'synset_idx'])\n",
    "synsets_examples_df = pd.read_csv(path_synsets_examples, sep='\\t', names=['synset', 'example'])\n",
    "\n",
    "lemmas_df['lemma_idx'] = lemmas_df.index\n",
    "lemmas_df['lemma_idx'] = lemmas_df['lemma_idx'].apply(lambda i: i+1)\n",
    "\n",
    "synsets_df['synset_idx'] = synsets_df.index\n",
    "synsets_df['synset_idx'] = synsets_df['synset_idx'].apply(lambda i: i+1)\n",
    "synsets_df['synset'] = synsets_df['synset'].apply(lambda i: \"s\"+str(i))\n",
    "\n",
    "full_df = pd.merge(lexicalunits_df, lemmas_df, how='left', on='lemma_idx')\n",
    "full_df = pd.merge(full_df, synsets_df, how='left', on='synset_idx')\n",
    "full_df = pd.merge(full_df, synsets_examples_df, how='left', on='synset')\n",
    "\n",
    "full_df = full_df.drop(['lemma_idx', 'synset_idx'], axis=1)\n",
    "\n",
    "full_df.head(30)"
   ]
  },
  {
   "cell_type": "code",
   "execution_count": null,
   "metadata": {
    "colab": {
     "base_uri": "https://localhost:8080/",
     "height": 300
    },
    "id": "gLOeDeUGFzNy",
    "outputId": "9498033e-896d-4dc7-da54-6152a44419c4"
   },
   "outputs": [
    {
     "data": {
      "text/html": [
       "<div>\n",
       "<style scoped>\n",
       "    .dataframe tbody tr th:only-of-type {\n",
       "        vertical-align: middle;\n",
       "    }\n",
       "\n",
       "    .dataframe tbody tr th {\n",
       "        vertical-align: top;\n",
       "    }\n",
       "\n",
       "    .dataframe thead th {\n",
       "        text-align: right;\n",
       "    }\n",
       "</style>\n",
       "<table border=\"1\" class=\"dataframe\">\n",
       "  <thead>\n",
       "    <tr style=\"text-align: right;\">\n",
       "      <th></th>\n",
       "      <th>lemma</th>\n",
       "      <th>POS</th>\n",
       "      <th>synset</th>\n",
       "      <th>example</th>\n",
       "    </tr>\n",
       "  </thead>\n",
       "  <tbody>\n",
       "    <tr>\n",
       "      <th>601922</th>\n",
       "      <td>brukwiowy</td>\n",
       "      <td>adj</td>\n",
       "      <td>s445000</td>\n",
       "      <td>W powietrzu unosił się ciężki zapach **brukwio...</td>\n",
       "    </tr>\n",
       "    <tr>\n",
       "      <th>601923</th>\n",
       "      <td>brukwiowy</td>\n",
       "      <td>adj</td>\n",
       "      <td>s445000</td>\n",
       "      <td>Może to i dziwne, ale czasem z nostalgią wspom...</td>\n",
       "    </tr>\n",
       "    <tr>\n",
       "      <th>601924</th>\n",
       "      <td>brukwiowy</td>\n",
       "      <td>adj</td>\n",
       "      <td>s445000</td>\n",
       "      <td>związany z brukwią - warzywem.</td>\n",
       "    </tr>\n",
       "    <tr>\n",
       "      <th>601925</th>\n",
       "      <td>brukwiowy</td>\n",
       "      <td>adj</td>\n",
       "      <td>s445000</td>\n",
       "      <td>Pozbierała szybko **brukwiowe** łupiny i wrzuc...</td>\n",
       "    </tr>\n",
       "    <tr>\n",
       "      <th>601927</th>\n",
       "      <td>brukwiany</td>\n",
       "      <td>adj</td>\n",
       "      <td>s445000</td>\n",
       "      <td>W powietrzu unosił się ciężki zapach **brukwio...</td>\n",
       "    </tr>\n",
       "    <tr>\n",
       "      <th>601928</th>\n",
       "      <td>brukwiany</td>\n",
       "      <td>adj</td>\n",
       "      <td>s445000</td>\n",
       "      <td>Może to i dziwne, ale czasem z nostalgią wspom...</td>\n",
       "    </tr>\n",
       "    <tr>\n",
       "      <th>601929</th>\n",
       "      <td>brukwiany</td>\n",
       "      <td>adj</td>\n",
       "      <td>s445000</td>\n",
       "      <td>związany z brukwią - warzywem.</td>\n",
       "    </tr>\n",
       "    <tr>\n",
       "      <th>601930</th>\n",
       "      <td>brukwiany</td>\n",
       "      <td>adj</td>\n",
       "      <td>s445000</td>\n",
       "      <td>Pozbierała szybko **brukwiowe** łupiny i wrzuc...</td>\n",
       "    </tr>\n",
       "  </tbody>\n",
       "</table>\n",
       "</div>"
      ],
      "text/plain": [
       "            lemma  ...                                            example\n",
       "601922  brukwiowy  ...  W powietrzu unosił się ciężki zapach **brukwio...\n",
       "601923  brukwiowy  ...  Może to i dziwne, ale czasem z nostalgią wspom...\n",
       "601924  brukwiowy  ...                     związany z brukwią - warzywem.\n",
       "601925  brukwiowy  ...  Pozbierała szybko **brukwiowe** łupiny i wrzuc...\n",
       "601927  brukwiany  ...  W powietrzu unosił się ciężki zapach **brukwio...\n",
       "601928  brukwiany  ...  Może to i dziwne, ale czasem z nostalgią wspom...\n",
       "601929  brukwiany  ...                     związany z brukwią - warzywem.\n",
       "601930  brukwiany  ...  Pozbierała szybko **brukwiowe** łupiny i wrzuc...\n",
       "\n",
       "[8 rows x 4 columns]"
      ]
     },
     "execution_count": 23,
     "metadata": {
      "tags": []
     },
     "output_type": "execute_result"
    }
   ],
   "source": [
    "full_df[full_df.synset == \"s445000\"]"
   ]
  },
  {
   "cell_type": "code",
   "execution_count": null,
   "metadata": {
    "colab": {
     "base_uri": "https://localhost:8080/"
    },
    "id": "JwoT7947GzF-",
    "outputId": "3b70272d-a028-404f-87a8-b399fe337822"
   },
   "outputs": [
    {
     "name": "stdout",
     "output_type": "stream",
     "text": [
      "<class 'pandas.core.frame.DataFrame'>\n",
      "Int64Index: 729174 entries, 0 to 729173\n",
      "Data columns (total 4 columns):\n",
      " #   Column   Non-Null Count   Dtype \n",
      "---  ------   --------------   ----- \n",
      " 0   lemma    729168 non-null  object\n",
      " 1   POS      729174 non-null  object\n",
      " 2   synset   729174 non-null  object\n",
      " 3   example  396035 non-null  object\n",
      "dtypes: object(4)\n",
      "memory usage: 27.8+ MB\n"
     ]
    }
   ],
   "source": [
    "full_df.info()"
   ]
  },
  {
   "cell_type": "code",
   "execution_count": 11,
   "metadata": {
    "colab": {
     "base_uri": "https://localhost:8080/"
    },
    "id": "zMolLSxsMXZX",
    "outputId": "fcf8535b-8d56-48a0-e0d3-7a7d02b2cf15"
   },
   "outputs": [
    {
     "data": {
      "text/plain": [
       "505229"
      ]
     },
     "execution_count": 11,
     "metadata": {
      "tags": []
     },
     "output_type": "execute_result"
    }
   ],
   "source": [
    "lemma_synset_df = full_df[['lemma', 'synset']].drop_duplicates().reset_index(drop=True)\n",
    "len(lemma_synset_df)"
   ]
  },
  {
   "cell_type": "code",
   "execution_count": 12,
   "metadata": {
    "colab": {
     "base_uri": "https://localhost:8080/"
    },
    "id": "wRKB8CzUP3p6",
    "outputId": "baea2686-17e9-4b43-ea47-588a880d67d7"
   },
   "outputs": [
    {
     "data": {
      "text/plain": [
       "505229"
      ]
     },
     "execution_count": 12,
     "metadata": {
      "tags": []
     },
     "output_type": "execute_result"
    }
   ],
   "source": [
    "lemma_synset_pairs_df = full_df[['lemma', 'synset']].drop_duplicates().reset_index(drop=True)\n",
    "len(lemma_synset_pairs_df)"
   ]
  },
  {
   "cell_type": "code",
   "execution_count": null,
   "metadata": {
    "colab": {
     "base_uri": "https://localhost:8080/",
     "height": 206
    },
    "id": "Tq4ZIRIzP-25",
    "outputId": "1cbce3c5-e919-43e4-ffe1-fdb59868bf26"
   },
   "outputs": [
    {
     "data": {
      "text/html": [
       "<div>\n",
       "<style scoped>\n",
       "    .dataframe tbody tr th:only-of-type {\n",
       "        vertical-align: middle;\n",
       "    }\n",
       "\n",
       "    .dataframe tbody tr th {\n",
       "        vertical-align: top;\n",
       "    }\n",
       "\n",
       "    .dataframe thead th {\n",
       "        text-align: right;\n",
       "    }\n",
       "</style>\n",
       "<table border=\"1\" class=\"dataframe\">\n",
       "  <thead>\n",
       "    <tr style=\"text-align: right;\">\n",
       "      <th></th>\n",
       "      <th>lemma</th>\n",
       "      <th>synset</th>\n",
       "    </tr>\n",
       "  </thead>\n",
       "  <tbody>\n",
       "    <tr>\n",
       "      <th>0</th>\n",
       "      <td>absolutny</td>\n",
       "      <td>s238698</td>\n",
       "    </tr>\n",
       "    <tr>\n",
       "      <th>1</th>\n",
       "      <td>absolwent</td>\n",
       "      <td>s12</td>\n",
       "    </tr>\n",
       "    <tr>\n",
       "      <th>2</th>\n",
       "      <td>abstrakcyjny</td>\n",
       "      <td>s103631</td>\n",
       "    </tr>\n",
       "    <tr>\n",
       "      <th>3</th>\n",
       "      <td>adherent</td>\n",
       "      <td>s4450</td>\n",
       "    </tr>\n",
       "    <tr>\n",
       "      <th>4</th>\n",
       "      <td>administracja</td>\n",
       "      <td>s14</td>\n",
       "    </tr>\n",
       "  </tbody>\n",
       "</table>\n",
       "</div>"
      ],
      "text/plain": [
       "           lemma   synset\n",
       "0      absolutny  s238698\n",
       "1      absolwent      s12\n",
       "2   abstrakcyjny  s103631\n",
       "3       adherent    s4450\n",
       "4  administracja      s14"
      ]
     },
     "execution_count": 48,
     "metadata": {
      "tags": []
     },
     "output_type": "execute_result"
    }
   ],
   "source": [
    "lemma_synset_pairs_df.head()"
   ]
  },
  {
   "cell_type": "code",
   "execution_count": null,
   "metadata": {
    "id": "rHn7cWkrPyUr"
   },
   "outputs": [],
   "source": [
    "lemma_synset_df['n_synset_per_lemma'] = lemma_synset_df.groupby('lemma')['lemma'].transform('count')"
   ]
  },
  {
   "cell_type": "code",
   "execution_count": null,
   "metadata": {
    "colab": {
     "base_uri": "https://localhost:8080/",
     "height": 238
    },
    "id": "pxcRzQtrcHg9",
    "outputId": "e648f9ca-7dcf-4002-eebd-8e3f426d0ad4"
   },
   "outputs": [
    {
     "data": {
      "text/html": [
       "<div>\n",
       "<style scoped>\n",
       "    .dataframe tbody tr th:only-of-type {\n",
       "        vertical-align: middle;\n",
       "    }\n",
       "\n",
       "    .dataframe tbody tr th {\n",
       "        vertical-align: top;\n",
       "    }\n",
       "\n",
       "    .dataframe thead th {\n",
       "        text-align: right;\n",
       "    }\n",
       "</style>\n",
       "<table border=\"1\" class=\"dataframe\">\n",
       "  <thead>\n",
       "    <tr style=\"text-align: right;\">\n",
       "      <th></th>\n",
       "      <th>lemma</th>\n",
       "      <th>synset</th>\n",
       "      <th>n_synset_per_lemma</th>\n",
       "    </tr>\n",
       "  </thead>\n",
       "  <tbody>\n",
       "    <tr>\n",
       "      <th>0</th>\n",
       "      <td>absolutny</td>\n",
       "      <td>s238698</td>\n",
       "      <td>6.0</td>\n",
       "    </tr>\n",
       "    <tr>\n",
       "      <th>13910</th>\n",
       "      <td>absolutny</td>\n",
       "      <td>s442011</td>\n",
       "      <td>6.0</td>\n",
       "    </tr>\n",
       "    <tr>\n",
       "      <th>13911</th>\n",
       "      <td>absolutny</td>\n",
       "      <td>s9107</td>\n",
       "      <td>6.0</td>\n",
       "    </tr>\n",
       "    <tr>\n",
       "      <th>13912</th>\n",
       "      <td>absolutny</td>\n",
       "      <td>s9681</td>\n",
       "      <td>6.0</td>\n",
       "    </tr>\n",
       "    <tr>\n",
       "      <th>428126</th>\n",
       "      <td>absolutny</td>\n",
       "      <td>s442023</td>\n",
       "      <td>6.0</td>\n",
       "    </tr>\n",
       "    <tr>\n",
       "      <th>499007</th>\n",
       "      <td>absolutny</td>\n",
       "      <td>s7073629</td>\n",
       "      <td>6.0</td>\n",
       "    </tr>\n",
       "  </tbody>\n",
       "</table>\n",
       "</div>"
      ],
      "text/plain": [
       "            lemma    synset  n_synset_per_lemma\n",
       "0       absolutny   s238698                 6.0\n",
       "13910   absolutny   s442011                 6.0\n",
       "13911   absolutny     s9107                 6.0\n",
       "13912   absolutny     s9681                 6.0\n",
       "428126  absolutny   s442023                 6.0\n",
       "499007  absolutny  s7073629                 6.0"
      ]
     },
     "execution_count": 29,
     "metadata": {
      "tags": []
     },
     "output_type": "execute_result"
    }
   ],
   "source": [
    "lemma_synset_df[lemma_synset_df.lemma == \"absolutny\"]"
   ]
  },
  {
   "cell_type": "code",
   "execution_count": null,
   "metadata": {
    "colab": {
     "base_uri": "https://localhost:8080/"
    },
    "id": "E8MZlAHQdBGp",
    "outputId": "10ce72d0-e3e2-4eba-cd16-f0c5b88a6d7f"
   },
   "outputs": [
    {
     "data": {
      "text/plain": [
       "396035"
      ]
     },
     "execution_count": 30,
     "metadata": {
      "tags": []
     },
     "output_type": "execute_result"
    }
   ],
   "source": [
    "non_missing_examples_df = full_df[full_df['example'].notna()]\n",
    "len(non_missing_examples_df)"
   ]
  },
  {
   "cell_type": "code",
   "execution_count": null,
   "metadata": {
    "colab": {
     "base_uri": "https://localhost:8080/"
    },
    "id": "IkbpM0JKdU5T",
    "outputId": "5c148746-89c8-4b8e-8202-31b80aef3a0b"
   },
   "outputs": [
    {
     "data": {
      "text/plain": [
       "172168"
      ]
     },
     "execution_count": 31,
     "metadata": {
      "tags": []
     },
     "output_type": "execute_result"
    }
   ],
   "source": [
    "non_missing_examples_lemma_synset_df = non_missing_examples_df[['lemma', 'synset']].drop_duplicates().reset_index(drop=True)\n",
    "len(non_missing_examples_lemma_synset_df)"
   ]
  },
  {
   "cell_type": "code",
   "execution_count": null,
   "metadata": {
    "id": "Et0rIlEQdhU4"
   },
   "outputs": [],
   "source": [
    "non_missing_examples_lemma_synset_df['n_synset_per_lemma_with_example'] = non_missing_examples_lemma_synset_df.groupby('lemma')['lemma'].transform('count')"
   ]
  },
  {
   "cell_type": "code",
   "execution_count": null,
   "metadata": {
    "id": "itVPtnNOeGCA"
   },
   "outputs": [],
   "source": [
    "lemma_synset_df = lemma_synset_df[['lemma', 'n_synset_per_lemma']].drop_duplicates().reset_index(drop=True)\n",
    "non_missing_examples_lemma_synset_df = non_missing_examples_lemma_synset_df[['lemma', 'n_synset_per_lemma_with_example']].drop_duplicates().reset_index(drop=True)\n",
    "lemmas_with_synset_counts_df = pd.merge(lemma_synset_df, non_missing_examples_lemma_synset_df, how='left', on='lemma')\n",
    "lemmas_with_synset_counts_df['n_synset_per_lemma_with_example'] = lemmas_with_synset_counts_df['n_synset_per_lemma_with_example'].fillna(0)\n",
    "lemmas_with_synset_counts_df['n_synset_per_lemma_with_example'] = lemmas_with_synset_counts_df['n_synset_per_lemma_with_example'].astype(int)"
   ]
  },
  {
   "cell_type": "code",
   "execution_count": null,
   "metadata": {
    "colab": {
     "base_uri": "https://localhost:8080/",
     "height": 206
    },
    "id": "aO3uBCrXeiyH",
    "outputId": "ef1fba62-613d-48ff-ed00-fe024988971a"
   },
   "outputs": [
    {
     "data": {
      "text/html": [
       "<div>\n",
       "<style scoped>\n",
       "    .dataframe tbody tr th:only-of-type {\n",
       "        vertical-align: middle;\n",
       "    }\n",
       "\n",
       "    .dataframe tbody tr th {\n",
       "        vertical-align: top;\n",
       "    }\n",
       "\n",
       "    .dataframe thead th {\n",
       "        text-align: right;\n",
       "    }\n",
       "</style>\n",
       "<table border=\"1\" class=\"dataframe\">\n",
       "  <thead>\n",
       "    <tr style=\"text-align: right;\">\n",
       "      <th></th>\n",
       "      <th>lemma</th>\n",
       "      <th>n_synset_per_lemma</th>\n",
       "      <th>n_synset_per_lemma_with_example</th>\n",
       "    </tr>\n",
       "  </thead>\n",
       "  <tbody>\n",
       "    <tr>\n",
       "      <th>0</th>\n",
       "      <td>absolutny</td>\n",
       "      <td>6.0</td>\n",
       "      <td>6</td>\n",
       "    </tr>\n",
       "    <tr>\n",
       "      <th>1</th>\n",
       "      <td>absolwent</td>\n",
       "      <td>1.0</td>\n",
       "      <td>0</td>\n",
       "    </tr>\n",
       "    <tr>\n",
       "      <th>2</th>\n",
       "      <td>abstrakcyjny</td>\n",
       "      <td>6.0</td>\n",
       "      <td>6</td>\n",
       "    </tr>\n",
       "    <tr>\n",
       "      <th>3</th>\n",
       "      <td>adherent</td>\n",
       "      <td>3.0</td>\n",
       "      <td>0</td>\n",
       "    </tr>\n",
       "    <tr>\n",
       "      <th>4</th>\n",
       "      <td>administracja</td>\n",
       "      <td>4.0</td>\n",
       "      <td>4</td>\n",
       "    </tr>\n",
       "  </tbody>\n",
       "</table>\n",
       "</div>"
      ],
      "text/plain": [
       "           lemma  n_synset_per_lemma  n_synset_per_lemma_with_example\n",
       "0      absolutny                 6.0                                6\n",
       "1      absolwent                 1.0                                0\n",
       "2   abstrakcyjny                 6.0                                6\n",
       "3       adherent                 3.0                                0\n",
       "4  administracja                 4.0                                4"
      ]
     },
     "execution_count": 34,
     "metadata": {
      "tags": []
     },
     "output_type": "execute_result"
    }
   ],
   "source": [
    "lemmas_with_synset_counts_df.head()"
   ]
  },
  {
   "cell_type": "code",
   "execution_count": null,
   "metadata": {
    "id": "KyCrPAC0fk3u"
   },
   "outputs": [],
   "source": [
    "def concat_columns(row):\n",
    "  a, b = str(row[1])[0], str(row[2])\n",
    "  return a + '_' + b\n",
    "\n",
    "lemmas_with_synset_counts_df['n_syns_per_lemma_all_with_example'] = lemmas_with_synset_counts_df.apply(concat_columns, axis=1)"
   ]
  },
  {
   "cell_type": "code",
   "execution_count": null,
   "metadata": {
    "colab": {
     "base_uri": "https://localhost:8080/",
     "height": 206
    },
    "id": "jXU6vd6KfpAz",
    "outputId": "4e4a5e7c-83f9-4589-a911-d6e01f361478"
   },
   "outputs": [
    {
     "data": {
      "text/html": [
       "<div>\n",
       "<style scoped>\n",
       "    .dataframe tbody tr th:only-of-type {\n",
       "        vertical-align: middle;\n",
       "    }\n",
       "\n",
       "    .dataframe tbody tr th {\n",
       "        vertical-align: top;\n",
       "    }\n",
       "\n",
       "    .dataframe thead th {\n",
       "        text-align: right;\n",
       "    }\n",
       "</style>\n",
       "<table border=\"1\" class=\"dataframe\">\n",
       "  <thead>\n",
       "    <tr style=\"text-align: right;\">\n",
       "      <th></th>\n",
       "      <th>lemma</th>\n",
       "      <th>n_synset_per_lemma</th>\n",
       "      <th>n_synset_per_lemma_with_example</th>\n",
       "      <th>n_syns_per_lemma_all_with_example</th>\n",
       "    </tr>\n",
       "  </thead>\n",
       "  <tbody>\n",
       "    <tr>\n",
       "      <th>0</th>\n",
       "      <td>absolutny</td>\n",
       "      <td>6.0</td>\n",
       "      <td>6</td>\n",
       "      <td>6_6</td>\n",
       "    </tr>\n",
       "    <tr>\n",
       "      <th>1</th>\n",
       "      <td>absolwent</td>\n",
       "      <td>1.0</td>\n",
       "      <td>0</td>\n",
       "      <td>1_0</td>\n",
       "    </tr>\n",
       "    <tr>\n",
       "      <th>2</th>\n",
       "      <td>abstrakcyjny</td>\n",
       "      <td>6.0</td>\n",
       "      <td>6</td>\n",
       "      <td>6_6</td>\n",
       "    </tr>\n",
       "    <tr>\n",
       "      <th>3</th>\n",
       "      <td>adherent</td>\n",
       "      <td>3.0</td>\n",
       "      <td>0</td>\n",
       "      <td>3_0</td>\n",
       "    </tr>\n",
       "    <tr>\n",
       "      <th>4</th>\n",
       "      <td>administracja</td>\n",
       "      <td>4.0</td>\n",
       "      <td>4</td>\n",
       "      <td>4_4</td>\n",
       "    </tr>\n",
       "  </tbody>\n",
       "</table>\n",
       "</div>"
      ],
      "text/plain": [
       "           lemma  ...  n_syns_per_lemma_all_with_example\n",
       "0      absolutny  ...                                6_6\n",
       "1      absolwent  ...                                1_0\n",
       "2   abstrakcyjny  ...                                6_6\n",
       "3       adherent  ...                                3_0\n",
       "4  administracja  ...                                4_4\n",
       "\n",
       "[5 rows x 4 columns]"
      ]
     },
     "execution_count": 39,
     "metadata": {
      "tags": []
     },
     "output_type": "execute_result"
    }
   ],
   "source": [
    "lemmas_with_synset_counts_df.head()"
   ]
  },
  {
   "cell_type": "code",
   "execution_count": null,
   "metadata": {
    "colab": {
     "base_uri": "https://localhost:8080/",
     "height": 206
    },
    "id": "R9PQlpUv7JcZ",
    "outputId": "88e79133-17db-438d-de45-497ebf5da802"
   },
   "outputs": [
    {
     "data": {
      "text/html": [
       "<div>\n",
       "<style scoped>\n",
       "    .dataframe tbody tr th:only-of-type {\n",
       "        vertical-align: middle;\n",
       "    }\n",
       "\n",
       "    .dataframe tbody tr th {\n",
       "        vertical-align: top;\n",
       "    }\n",
       "\n",
       "    .dataframe thead th {\n",
       "        text-align: right;\n",
       "    }\n",
       "</style>\n",
       "<table border=\"1\" class=\"dataframe\">\n",
       "  <thead>\n",
       "    <tr style=\"text-align: right;\">\n",
       "      <th></th>\n",
       "      <th>lemma</th>\n",
       "      <th>POS</th>\n",
       "      <th>synset</th>\n",
       "      <th>example</th>\n",
       "      <th>has_underscore</th>\n",
       "      <th>has_whitespace</th>\n",
       "      <th>n_synset_per_lemma_with_example</th>\n",
       "    </tr>\n",
       "  </thead>\n",
       "  <tbody>\n",
       "    <tr>\n",
       "      <th>0</th>\n",
       "      <td>absolutny</td>\n",
       "      <td>adj</td>\n",
       "      <td>s238698</td>\n",
       "      <td>**absolutystyczny**, oparty na zasadach, idei ...</td>\n",
       "      <td>False</td>\n",
       "      <td>False</td>\n",
       "      <td>6</td>\n",
       "    </tr>\n",
       "    <tr>\n",
       "      <th>1</th>\n",
       "      <td>absolutny</td>\n",
       "      <td>adj</td>\n",
       "      <td>s238698</td>\n",
       "      <td>Różnica między monarchią **absolutną** a despo...</td>\n",
       "      <td>False</td>\n",
       "      <td>False</td>\n",
       "      <td>6</td>\n",
       "    </tr>\n",
       "    <tr>\n",
       "      <th>2</th>\n",
       "      <td>absolutny</td>\n",
       "      <td>adj</td>\n",
       "      <td>s238698</td>\n",
       "      <td>Księstwo oficjalnie było de jure od 1905 monar...</td>\n",
       "      <td>False</td>\n",
       "      <td>False</td>\n",
       "      <td>6</td>\n",
       "    </tr>\n",
       "    <tr>\n",
       "      <th>3</th>\n",
       "      <td>absolutny</td>\n",
       "      <td>adj</td>\n",
       "      <td>s238698</td>\n",
       "      <td>Aby zaprowadzić rządy **absolutne** i despotyc...</td>\n",
       "      <td>False</td>\n",
       "      <td>False</td>\n",
       "      <td>6</td>\n",
       "    </tr>\n",
       "    <tr>\n",
       "      <th>4</th>\n",
       "      <td>absolutny</td>\n",
       "      <td>adj</td>\n",
       "      <td>s238698</td>\n",
       "      <td>Jego nowa, **absolutystyczna** polityka, połąc...</td>\n",
       "      <td>False</td>\n",
       "      <td>False</td>\n",
       "      <td>6</td>\n",
       "    </tr>\n",
       "  </tbody>\n",
       "</table>\n",
       "</div>"
      ],
      "text/plain": [
       "       lemma  POS  ... has_whitespace n_synset_per_lemma_with_example\n",
       "0  absolutny  adj  ...          False                               6\n",
       "1  absolutny  adj  ...          False                               6\n",
       "2  absolutny  adj  ...          False                               6\n",
       "3  absolutny  adj  ...          False                               6\n",
       "4  absolutny  adj  ...          False                               6\n",
       "\n",
       "[5 rows x 7 columns]"
      ]
     },
     "execution_count": 55,
     "metadata": {
      "tags": []
     },
     "output_type": "execute_result"
    }
   ],
   "source": [
    "non_missing_examples_df = pd.merge(non_missing_examples_df, \n",
    "                                   lemmas_with_synset_counts_df[['lemma', 'n_synset_per_lemma_with_example']], \n",
    "                                   how='left', \n",
    "                                   on='lemma')\n",
    "\n",
    "non_missing_examples_df.head()"
   ]
  },
  {
   "cell_type": "code",
   "execution_count": null,
   "metadata": {
    "colab": {
     "base_uri": "https://localhost:8080/",
     "height": 206
    },
    "id": "odkFnKCB9Tou",
    "outputId": "982f9f3c-3606-44b2-8c16-faa354fff522"
   },
   "outputs": [
    {
     "data": {
      "text/html": [
       "<div>\n",
       "<style scoped>\n",
       "    .dataframe tbody tr th:only-of-type {\n",
       "        vertical-align: middle;\n",
       "    }\n",
       "\n",
       "    .dataframe tbody tr th {\n",
       "        vertical-align: top;\n",
       "    }\n",
       "\n",
       "    .dataframe thead th {\n",
       "        text-align: right;\n",
       "    }\n",
       "</style>\n",
       "<table border=\"1\" class=\"dataframe\">\n",
       "  <thead>\n",
       "    <tr style=\"text-align: right;\">\n",
       "      <th></th>\n",
       "      <th>lemma</th>\n",
       "      <th>POS</th>\n",
       "      <th>synset</th>\n",
       "      <th>example</th>\n",
       "      <th>has_underscore</th>\n",
       "      <th>has_whitespace</th>\n",
       "      <th>n_synset_per_lemma_with_example</th>\n",
       "    </tr>\n",
       "  </thead>\n",
       "  <tbody>\n",
       "    <tr>\n",
       "      <th>0</th>\n",
       "      <td>absolutny</td>\n",
       "      <td>adj</td>\n",
       "      <td>s238698</td>\n",
       "      <td>**absolutystyczny**, oparty na zasadach, idei ...</td>\n",
       "      <td>False</td>\n",
       "      <td>False</td>\n",
       "      <td>6</td>\n",
       "    </tr>\n",
       "    <tr>\n",
       "      <th>1</th>\n",
       "      <td>absolutny</td>\n",
       "      <td>adj</td>\n",
       "      <td>s238698</td>\n",
       "      <td>Różnica między monarchią **absolutną** a despo...</td>\n",
       "      <td>False</td>\n",
       "      <td>False</td>\n",
       "      <td>6</td>\n",
       "    </tr>\n",
       "    <tr>\n",
       "      <th>2</th>\n",
       "      <td>absolutny</td>\n",
       "      <td>adj</td>\n",
       "      <td>s238698</td>\n",
       "      <td>Księstwo oficjalnie było de jure od 1905 monar...</td>\n",
       "      <td>False</td>\n",
       "      <td>False</td>\n",
       "      <td>6</td>\n",
       "    </tr>\n",
       "    <tr>\n",
       "      <th>3</th>\n",
       "      <td>absolutny</td>\n",
       "      <td>adj</td>\n",
       "      <td>s238698</td>\n",
       "      <td>Aby zaprowadzić rządy **absolutne** i despotyc...</td>\n",
       "      <td>False</td>\n",
       "      <td>False</td>\n",
       "      <td>6</td>\n",
       "    </tr>\n",
       "    <tr>\n",
       "      <th>4</th>\n",
       "      <td>absolutny</td>\n",
       "      <td>adj</td>\n",
       "      <td>s238698</td>\n",
       "      <td>Jego nowa, **absolutystyczna** polityka, połąc...</td>\n",
       "      <td>False</td>\n",
       "      <td>False</td>\n",
       "      <td>6</td>\n",
       "    </tr>\n",
       "  </tbody>\n",
       "</table>\n",
       "</div>"
      ],
      "text/plain": [
       "       lemma  POS  ... has_whitespace n_synset_per_lemma_with_example\n",
       "0  absolutny  adj  ...          False                               6\n",
       "1  absolutny  adj  ...          False                               6\n",
       "2  absolutny  adj  ...          False                               6\n",
       "3  absolutny  adj  ...          False                               6\n",
       "4  absolutny  adj  ...          False                               6\n",
       "\n",
       "[5 rows x 7 columns]"
      ]
     },
     "execution_count": 57,
     "metadata": {
      "tags": []
     },
     "output_type": "execute_result"
    }
   ],
   "source": [
    "training_df = non_missing_examples_df[non_missing_examples_df['n_synset_per_lemma_with_example'] > 1]\n",
    "training_df = training_df.reset_index(drop=True)\n",
    "training_df.head()"
   ]
  },
  {
   "cell_type": "code",
   "execution_count": null,
   "metadata": {
    "colab": {
     "base_uri": "https://localhost:8080/",
     "height": 67,
     "referenced_widgets": [
      "2e110e21ca9f49d89d319a0cc34bf770",
      "11ef5ba6487a4326903ae5d80a19f708",
      "dd64884844b44e52b0fee0bdbb65359e",
      "8555c760c9814f9f99213abbcf136149",
      "903da59b4c554d3498d117a8cd2ff362",
      "c85ca435aa364a8f9e8395ebca2cacac",
      "cc5fc3674f1a4fdf8279094b9c1566b1",
      "3402e47e6b0441d48d0bf921ec811f03"
     ]
    },
    "id": "la72Fo8n9vFV",
    "outputId": "e7214b24-aab7-40c7-8a58-0594daf6938f"
   },
   "outputs": [
    {
     "data": {
      "application/vnd.jupyter.widget-view+json": {
       "model_id": "2e110e21ca9f49d89d319a0cc34bf770",
       "version_major": 2,
       "version_minor": 0
      },
      "text/plain": [
       "HBox(children=(FloatProgress(value=0.0, max=233238.0), HTML(value='')))"
      ]
     },
     "metadata": {
      "tags": []
     },
     "output_type": "display_data"
    },
    {
     "name": "stdout",
     "output_type": "stream",
     "text": [
      "\n"
     ]
    }
   ],
   "source": [
    "examples = []\n",
    "\n",
    "for i in tqdm(range(len(training_df))):\n",
    "  lemma, synset, example = training_df['lemma'].loc[i], training_df['synset'].loc[i], training_df['example'].loc[i] #lista wszystkich indeksów wierszy z tymi samymi synsetami\n",
    "  trues = training_df.index[training_df['synset'] == synset].tolist() #lista wszystkich indeksów wierszy z tymi samymi synsetami z wykluczeniem obecnego indeksu w pętli\n",
    "  trues = [x for x in trues if x != i] #lista wszystkich indeksów wierszy z tymi samymi lematami\n",
    "  falses = training_df.index[training_df['lemma'] == lemma].tolist() #lista wszystkich indeksów wierszy z tymi samymi lematami z wykluczeniem obecnego indeksu w pętli\n",
    "  falses = [x for x in falses if x not in trues and x != i] \n",
    "  if len(trues) > 0:\n",
    "      rp = random.choice(trues)\n",
    "      lp, ep = training_df['lemma'].loc[rp], training_df['example'].loc[rp]\n",
    "      examples.append({\n",
    "          'l1': lemma,\n",
    "          'e1': example,\n",
    "          'l2': lp,\n",
    "          'e2': ep,\n",
    "          'label': True #wiersze dla których dwa example mówią o tym samym synsecie\n",
    "      })\n",
    "  if len(falses) > 0: \n",
    "      rn = random.choice(falses)\n",
    "      ln, en = training_df['lemma'].loc[rn], training_df['example'].loc[rn]\n",
    "      examples.append({\n",
    "          'l1': lemma,\n",
    "          'e1': example,\n",
    "          'l2': ln,\n",
    "          'e2': en,\n",
    "          'label': False #wiersze dla których dwa example mówią o innym synsecie\n",
    "      })"
   ]
  },
  {
   "cell_type": "code",
   "execution_count": null,
   "metadata": {
    "colab": {
     "base_uri": "https://localhost:8080/"
    },
    "id": "JJNbEUuTiGG8",
    "outputId": "513f80e8-582b-4081-cf3f-05b35631480f"
   },
   "outputs": [
    {
     "data": {
      "text/plain": [
       "[{'e1': 'siedziba **kierownictwa**.',\n",
       "  'e2': 'siedziba **kierownictwa**.',\n",
       "  'l1': 'administracja',\n",
       "  'l2': 'dyrekcja',\n",
       "  'label': True},\n",
       " {'e1': 'siedziba **kierownictwa**.',\n",
       "  'e2': 'zarządzanie.',\n",
       "  'l1': 'administracja',\n",
       "  'l2': 'administracja',\n",
       "  'label': False},\n",
       " {'e1': 'siedziba **dyrekcji**.',\n",
       "  'e2': 'siedziba **zarządu**.',\n",
       "  'l1': 'administracja',\n",
       "  'l2': 'administracja',\n",
       "  'label': True},\n",
       " {'e1': 'siedziba **dyrekcji**.',\n",
       "  'e2': 'Po spotkaniu ze swoją **administracją**, prezydent zapowiedział podpisanie ustawy.',\n",
       "  'l1': 'administracja',\n",
       "  'l2': 'administracja',\n",
       "  'label': False},\n",
       " {'e1': 'związany z zapleczem organizacyjnym przedsiębiorstwa.',\n",
       "  'e2': 'Zosia została pracownikiem **administracyjnym**.',\n",
       "  'l1': 'administracyjny',\n",
       "  'l2': 'administracyjny',\n",
       "  'label': True},\n",
       " {'e1': 'związany z zapleczem organizacyjnym przedsiębiorstwa.',\n",
       "  'e2': 'związany z zarządzeniem czymś.',\n",
       "  'l1': 'administracyjny',\n",
       "  'l2': 'administracyjny',\n",
       "  'label': False},\n",
       " {'e1': 'Zosia została pracownikiem **administracyjnym**.',\n",
       "  'e2': 'związany z zapleczem organizacyjnym przedsiębiorstwa.',\n",
       "  'l1': 'administracyjny',\n",
       "  'l2': 'administracyjny',\n",
       "  'label': True},\n",
       " {'e1': 'Zosia została pracownikiem **administracyjnym**.',\n",
       "  'e2': 'urzędowy; wydany lub ustalony przez urzędy i organy administracji państwowej.',\n",
       "  'l1': 'administracyjny',\n",
       "  'l2': 'administracyjny',\n",
       "  'label': False},\n",
       " {'e1': 'określenie miejsca zamieszkania lub pobytu osoby, także: miejsce, w którym siedzibę ma instytucja.',\n",
       "  'e2': 'zapis stosowany na przesyłkach pocztowych umożliwiający ich dostarczenie adresatom.',\n",
       "  'l1': 'adres',\n",
       "  'l2': 'adres',\n",
       "  'label': True},\n",
       " {'e1': 'określenie miejsca zamieszkania lub pobytu osoby, także: miejsce, w którym siedzibę ma instytucja.',\n",
       "  'e2': 'Podaj mi **adres** jego strony.',\n",
       "  'l1': 'adres',\n",
       "  'l2': 'adres',\n",
       "  'label': False}]"
      ]
     },
     "execution_count": 80,
     "metadata": {
      "tags": []
     },
     "output_type": "execute_result"
    }
   ],
   "source": [
    "examples[30:40]"
   ]
  },
  {
   "cell_type": "code",
   "execution_count": null,
   "metadata": {
    "id": "YN4dcZQ9-5YX"
   },
   "outputs": [],
   "source": [
    "l = [training_df, examples]\n",
    "with open('wsddata.pkl', 'wb') as fp:\n",
    "    pickle.dump(l, fp)"
   ]
  },
  {
   "cell_type": "markdown",
   "metadata": {
    "id": "pzW93rU4zwvA"
   },
   "source": [
    "Model"
   ]
  },
  {
   "cell_type": "code",
   "execution_count": 13,
   "metadata": {
    "id": "XEgjxMzmBrnA"
   },
   "outputs": [],
   "source": [
    "def create_tuple(example):\n",
    "  l1, l2, e1, e2 = example['l1'], example['l2'], example['e1'], example['e2'] \n",
    "  return (l1 +': ' + e1, l2 + ': ' + e2)"
   ]
  },
  {
   "cell_type": "code",
   "execution_count": 14,
   "metadata": {
    "id": "cEIErnU2B-PU"
   },
   "outputs": [],
   "source": [
    "class AverageMeter:\n",
    "    \"\"\"\n",
    "    Computes and stores the average and current value\n",
    "    \"\"\"\n",
    "    def __init__(self):\n",
    "        self.val = 0\n",
    "        self.avg = 0\n",
    "        self.sum = 0\n",
    "        self.count = 0\n",
    "\n",
    "    def reset(self):\n",
    "        self.val = 0\n",
    "        self.avg = 0\n",
    "        self.sum = 0\n",
    "        self.count = 0\n",
    "\n",
    "    def update(self, val, n=1):\n",
    "        self.val = val\n",
    "        self.sum += val * n\n",
    "        self.count += n\n",
    "        self.avg = self.sum / self.count"
   ]
  },
  {
   "cell_type": "code",
   "execution_count": 15,
   "metadata": {
    "id": "6DYGD27xB-3E"
   },
   "outputs": [],
   "source": [
    "class EarlyStopping:\n",
    "    def __init__(self, patience=7, delta=0.0001):\n",
    "        \"\"\"\n",
    "        Args:\n",
    "            patience (int): How long to wait after last time validation loss improved.\n",
    "                            Default: 7\n",
    "            delta (float): Minimum change in the monitored quantity to qualify as an improvement.\n",
    "                            Default: 0\n",
    "        \"\"\"\n",
    "        self.patience = patience\n",
    "        self.counter = 0\n",
    "        self.best_score = None\n",
    "        self.early_stop = False\n",
    "        self.delta = delta\n",
    "        self.val_score = -np.Inf\n",
    "            \n",
    "    def __call__(self, epoch_score, model, model_path):\n",
    "      \n",
    "        score = np.copy(epoch_score)\n",
    "\n",
    "        if self.best_score is None:\n",
    "            self.best_score = score\n",
    "            self.save_checkpoint(epoch_score, model, model_path)\n",
    "        elif score < self.best_score + self.delta:\n",
    "            self.counter += 1\n",
    "            print(\n",
    "                \"EarlyStopping counter: {} out of {}\".format(\n",
    "                    self.counter, self.patience\n",
    "                )\n",
    "            )\n",
    "            if self.counter >= self.patience:\n",
    "                self.early_stop = True\n",
    "        else:\n",
    "            self.best_score = score\n",
    "            self.save_checkpoint(epoch_score, model, model_path)\n",
    "            self.counter = 0\n",
    "\n",
    "    def save_checkpoint(self, epoch_score, model, model_path):\n",
    "        if epoch_score not in [-np.inf, np.inf, -np.nan, np.nan]:\n",
    "            print(\n",
    "                \"Validation score improved ({} --> {}). Saving model!\".format(\n",
    "                    self.val_score, epoch_score\n",
    "                )\n",
    "            )\n",
    "            torch.save(model.state_dict(), model_path)\n",
    "        self.val_score = epoch_score"
   ]
  },
  {
   "cell_type": "code",
   "execution_count": 16,
   "metadata": {
    "colab": {
     "base_uri": "https://localhost:8080/",
     "height": 164,
     "referenced_widgets": [
      "8c7144ae08ab4977b401b18f4055726f",
      "43109e9af42a41a08d6f253731acb59d",
      "7240d3ffb40747a58893123ec3735fc5",
      "4451990ad99e46cb997ec81d6a9f4d5b",
      "0b3e2da65c7a44368ee27497f4527560",
      "f53b18e6750241adafee5e79df1df824",
      "9bf663a5ecd44737a9e8cecd9ee1b66b",
      "73542906b1c24e08b0224d5421a101c0",
      "c4118b6a0c764b2690d70b09b64f4f0f",
      "1acedd95ea954fae80d51e10c31801af",
      "fb0a6cd5cb2244c9bb05e345d39c6732",
      "6d8d819096d94b7a81908eba4a4d6b4b",
      "6218bec85e6247439267a7ed0247181a",
      "71b4c7aee91f4de4abd7eb494b474ef8",
      "6f6aff013e1141888eadefadd98c2cba",
      "d9930990db8e42909eefe8246691c7a4",
      "d814471d05f841a0bf13db7f80f2f2ce",
      "4147b85d8984468cb6f02879aa649653",
      "fd15fd8daace498dbcf5f3604c9ac7e6",
      "2b96ff14c3ce40889231e4061356c97a",
      "683004f5bf074caab0e0b93e1510b8aa",
      "52ac546bacfc465dbe8ea727972ad4ca",
      "81af707873804a438f55feb831f309af",
      "50975fb585a040c78294fda5138d59a4"
     ]
    },
    "id": "LDdNgZJYiUfB",
    "outputId": "15f95283-77fa-46ae-fa0c-679661c7e1cb"
   },
   "outputs": [
    {
     "data": {
      "application/vnd.jupyter.widget-view+json": {
       "model_id": "8c7144ae08ab4977b401b18f4055726f",
       "version_major": 2,
       "version_minor": 0
      },
      "text/plain": [
       "HBox(children=(FloatProgress(value=0.0, description='Downloading', max=494801.0, style=ProgressStyle(descripti…"
      ]
     },
     "metadata": {
      "tags": []
     },
     "output_type": "display_data"
    },
    {
     "name": "stdout",
     "output_type": "stream",
     "text": [
      "\n"
     ]
    },
    {
     "data": {
      "application/vnd.jupyter.widget-view+json": {
       "model_id": "c4118b6a0c764b2690d70b09b64f4f0f",
       "version_major": 2,
       "version_minor": 0
      },
      "text/plain": [
       "HBox(children=(FloatProgress(value=0.0, description='Downloading', max=112.0, style=ProgressStyle(description_…"
      ]
     },
     "metadata": {
      "tags": []
     },
     "output_type": "display_data"
    },
    {
     "name": "stdout",
     "output_type": "stream",
     "text": [
      "\n"
     ]
    },
    {
     "data": {
      "application/vnd.jupyter.widget-view+json": {
       "model_id": "d814471d05f841a0bf13db7f80f2f2ce",
       "version_major": 2,
       "version_minor": 0
      },
      "text/plain": [
       "HBox(children=(FloatProgress(value=0.0, description='Downloading', max=2.0, style=ProgressStyle(description_wi…"
      ]
     },
     "metadata": {
      "tags": []
     },
     "output_type": "display_data"
    },
    {
     "name": "stdout",
     "output_type": "stream",
     "text": [
      "\n"
     ]
    }
   ],
   "source": [
    "pretrained_model = 'dkleczek/bert-base-polish-uncased-v1'\n",
    "LR = 5e-5\n",
    "WARMUP_STEPS = 8\n",
    "MODEL_PATH = \"WSD_polbert_model3.bin\"\n",
    "TOKENIZER = BertTokenizer.from_pretrained(pretrained_model)\n",
    "\n",
    "MAX_LEN = 64\n",
    "TRAIN_BATCH_SIZE = 32\n",
    "VALID_BATCH_SIZE = 16\n",
    "TEST_BATCH_SIZE = 16\n",
    "EPOCHS = 4"
   ]
  },
  {
   "cell_type": "code",
   "execution_count": 17,
   "metadata": {
    "id": "w_1G9uO41lbb"
   },
   "outputs": [],
   "source": [
    "class PolbertWSD(nn.Module):\n",
    "    def __init__(self, pretrained_polbert_path):\n",
    "        super(PolbertWSD, self).__init__()\n",
    "        self.pretrained_polbert_path = pretrained_polbert_path\n",
    "        self.polbert = BertModel.from_pretrained(self.pretrained_polbert_path)\n",
    "        self.dropout = nn.Dropout(0.25)\n",
    "        self.ranking_linear = nn.Linear(768, 1)\n",
    "\n",
    "    def forward(self, ids, mask, token_type_ids):\n",
    "        _, pooled_output = self.polbert(ids, attention_mask=mask, token_type_ids=token_type_ids)\n",
    "        do = self.dropout(pooled_output)\n",
    "        return self.ranking_linear(do)"
   ]
  },
  {
   "cell_type": "code",
   "execution_count": 18,
   "metadata": {
    "id": "NXuFjBuT3Cz3"
   },
   "outputs": [],
   "source": [
    "class PrepareTrainingDataset:\n",
    "    def __init__(self, examples, max_length, tokenizer):\n",
    "        self.examples = examples\n",
    "        self.max_length = max_length\n",
    "        self.tokenizer = tokenizer\n",
    "\n",
    "    def __len__(self):\n",
    "        return len(self.examples)\n",
    "\n",
    "    def __getitem__(self, item):\n",
    "        tpl = create_tuple(self.examples[item])\n",
    "        tgt = int(self.examples[item]['label'])\n",
    "        enc = self.tokenizer.encode_plus(tpl[0], tpl[1], padding='max_length', truncation='longest_first', max_length=self.max_length)      \n",
    "        return {\n",
    "            \"ids\": torch.tensor(enc.input_ids, dtype=torch.long),\n",
    "            \"mask\": torch.tensor(enc.attention_mask, dtype=torch.long),\n",
    "            \"token_type_ids\": torch.tensor(enc.token_type_ids, dtype=torch.long),\n",
    "            \"target\": torch.tensor(tgt, dtype=torch.float) \n",
    "        }"
   ]
  },
  {
   "cell_type": "code",
   "execution_count": 19,
   "metadata": {
    "id": "0q0L0KLs2qxt"
   },
   "outputs": [],
   "source": [
    "class PrepareTestDataset:\n",
    "    def __init__(self, examples, max_length, tokenizer):\n",
    "        self.examples = examples\n",
    "        self.max_length = max_length\n",
    "        self.tokenizer = tokenizer\n",
    "\n",
    "    def __len__(self):\n",
    "        return len(self.examples)\n",
    "\n",
    "    def __getitem__(self, item):\n",
    "        tpl = create_tuple(self.examples[item])\n",
    "        enc = self.tokenizer.encode_plus(tpl[0], tpl[1], padding='max_length', truncation='longest_first', max_length=self.max_length)      \n",
    "        return {\n",
    "            \"ids\": torch.tensor(enc.input_ids, dtype=torch.long),\n",
    "            \"mask\": torch.tensor(enc.attention_mask, dtype=torch.long),\n",
    "            \"token_type_ids\": torch.tensor(enc.token_type_ids, dtype=torch.long)\n",
    "        }        "
   ]
  },
  {
   "cell_type": "code",
   "execution_count": 20,
   "metadata": {
    "id": "AIfBYSOu3fPM"
   },
   "outputs": [],
   "source": [
    "def loss_function(logits, targets):\n",
    "    return nn.BCEWithLogitsLoss()(logits, targets.view(-1, 1))"
   ]
  },
  {
   "cell_type": "code",
   "execution_count": 21,
   "metadata": {
    "id": "uKVn8bu33x7f"
   },
   "outputs": [],
   "source": [
    "def train_loop_fn(data_loader, model, optimizer, device, scheduler=None):\n",
    "    model.train()\n",
    "    losses = AverageMeter()\n",
    "\n",
    "    tk0 = tqdm(data_loader, total=len(data_loader), mininterval=1.)\n",
    "\n",
    "    for bi, d in enumerate(tk0):\n",
    "        ids = d[\"ids\"]\n",
    "        mask = d[\"mask\"]\n",
    "        token_type_ids = d[\"token_type_ids\"]\n",
    "        targets = d[\"target\"]\n",
    "\n",
    "        ids = ids.to(device, dtype=torch.long)\n",
    "        mask = mask.to(device, dtype=torch.long)\n",
    "        token_type_ids = token_type_ids.to(device, dtype=torch.long)\n",
    "        targets = targets.to(device, dtype=torch.float)\n",
    "\n",
    "        optimizer.zero_grad()\n",
    "        outputs = model(ids=ids, mask=mask, token_type_ids=token_type_ids)\n",
    "        loss = loss_function(outputs, targets)\n",
    "        loss.backward()\n",
    "        optimizer.step()\n",
    "        if scheduler is not None:\n",
    "            scheduler.step()\n",
    "        losses.update(loss.item(), ids.size(0))\n",
    "        tk0.set_postfix(loss=losses.avg)\n",
    "\n",
    "def eval_loop_fn(data_loader, model, device):\n",
    "    model.eval()\n",
    "    fin_targets = []\n",
    "    fin_outputs = []\n",
    "    fin_loss = []\n",
    "\n",
    "    with torch.no_grad():\n",
    "        tk0 = tqdm(data_loader, total=len(data_loader), mininterval=1.)\n",
    "        for bi, d in enumerate(tk0):\n",
    "            ids = d[\"ids\"]\n",
    "            mask = d[\"mask\"]\n",
    "            token_type_ids = d[\"token_type_ids\"]\n",
    "            targets = d[\"target\"]\n",
    "\n",
    "            ids = ids.to(device, dtype=torch.long)\n",
    "            mask = mask.to(device, dtype=torch.long)\n",
    "            token_type_ids = token_type_ids.to(device, dtype=torch.long)\n",
    "            targets = targets.to(device, dtype=torch.float)\n",
    "\n",
    "            outputs = model(ids=ids, mask=mask, token_type_ids=token_type_ids)\n",
    "            loss = loss_function(outputs, targets)\n",
    "\n",
    "            fin_targets.append(targets.cpu().detach().numpy())\n",
    "            fin_outputs.append(outputs.cpu().detach().numpy())\n",
    "            fin_loss.append(loss.cpu().detach().numpy())\n",
    "\n",
    "    return np.concatenate(fin_outputs, axis=0), np.concatenate(fin_targets, axis=0), np.average(fin_loss)\n",
    "\n",
    "def final_eval(data_loader, model, device):\n",
    "    model.eval()\n",
    "    fin_outputs = []\n",
    "\n",
    "    with torch.no_grad():\n",
    "        for bi, d in enumerate(data_loader):\n",
    "            ids = d[\"ids\"]\n",
    "            mask = d[\"mask\"]\n",
    "            token_type_ids = d[\"token_type_ids\"]\n",
    "\n",
    "            ids = ids.to(device, dtype=torch.long)\n",
    "            mask = mask.to(device, dtype=torch.long)\n",
    "            token_type_ids = token_type_ids.to(device, dtype=torch.long)\n",
    "\n",
    "            outputs = model(ids=ids, mask=mask, token_type_ids=token_type_ids)\n",
    "            fin_outputs.append(outputs.cpu().detach().numpy())\n",
    "\n",
    "    return np.concatenate(fin_outputs, axis=0)"
   ]
  },
  {
   "cell_type": "code",
   "execution_count": 22,
   "metadata": {
    "id": "8bu459Te4AkB"
   },
   "outputs": [],
   "source": [
    "def run(train, valid, pretrained_model):\n",
    "\n",
    "    train_dataset = PrepareTrainingDataset(\n",
    "        examples=train,   \n",
    "        max_length=MAX_LEN,\n",
    "        tokenizer=TOKENIZER\n",
    "    )\n",
    "    train_data_loader = torch.utils.data.DataLoader(\n",
    "        train_dataset,\n",
    "        batch_size=TRAIN_BATCH_SIZE,\n",
    "        shuffle=True,\n",
    "        num_workers=4\n",
    "    )\n",
    "    valid_dataset = PrepareTrainingDataset(\n",
    "        examples=valid,   \n",
    "        max_length=MAX_LEN,\n",
    "        tokenizer=TOKENIZER\n",
    "    )\n",
    "    valid_data_loader = torch.utils.data.DataLoader(\n",
    "        valid_dataset,\n",
    "        batch_size=VALID_BATCH_SIZE,\n",
    "        shuffle=False,\n",
    "        num_workers=2\n",
    "    )\n",
    "\n",
    "    device = 'cuda'\n",
    "    num_train_steps = int(len(train_dataset) / TRAIN_BATCH_SIZE * EPOCHS)\n",
    "    model = PolbertWSD(pretrained_model).to(device)\n",
    "\n",
    "    param_optimizer = list(model.named_parameters())\n",
    "    no_decay = [\"bias\", \"LayerNorm.bias\", \"LayerNorm.weight\"]\n",
    "    \n",
    "    optimizer_parameters = [\n",
    "        {'params': [p for n, p in param_optimizer if not any(nd in n for nd in no_decay)], 'weight_decay': 0.01},\n",
    "        {'params': [p for n, p in param_optimizer if (any(nd in n for nd in no_decay))], 'weight_decay': 0.0},\n",
    "    ]\n",
    "    optimizer = AdamW(optimizer_parameters, lr=LR)\n",
    "    scheduler = get_linear_schedule_with_warmup(\n",
    "        optimizer, \n",
    "        num_warmup_steps=WARMUP_STEPS, \n",
    "        num_training_steps=num_train_steps\n",
    "    )\n",
    "\n",
    "    es = EarlyStopping(patience=4)\n",
    "    print(f\"Training is starting\")\n",
    "\n",
    "    for epoch in range(EPOCHS):\n",
    "        train_loop_fn(train_data_loader, model, optimizer, device, scheduler=scheduler)\n",
    "        outputs, targets, vloss = eval_loop_fn(valid_data_loader, model, device)\n",
    "        outputs = np.array(outputs) >= 0.5\n",
    "        accuracy = metrics.accuracy_score(targets, outputs)\n",
    "        print(f\"epoch = {epoch}, accuracy = {accuracy}, valid_loss = {vloss}\")\n",
    "        es(accuracy, model, model_path=MODEL_PATH)\n",
    "        if es.early_stop:\n",
    "            print(\"Early stopping\")\n",
    "            break\n",
    "        "
   ]
  },
  {
   "cell_type": "code",
   "execution_count": 23,
   "metadata": {
    "id": "GsD8uy2U4E2B"
   },
   "outputs": [],
   "source": [
    "def evaluate(examples, model):\n",
    "\n",
    "    test_dataset = PrepareTestDataset(\n",
    "        examples=examples,   \n",
    "        max_length=MAX_LEN,\n",
    "        tokenizer=TOKENIZER\n",
    "    )\n",
    "    test_data_loader = torch.utils.data.DataLoader(\n",
    "        test_dataset,\n",
    "        batch_size=TEST_BATCH_SIZE,\n",
    "        shuffle=False,\n",
    "        num_workers=2\n",
    "    )\n",
    "\n",
    "    device = 'cuda'\n",
    "    outputs = final_eval(test_data_loader, model, device)\n",
    "\n",
    "    return outputs"
   ]
  },
  {
   "cell_type": "markdown",
   "metadata": {
    "id": "6if-jCackes5"
   },
   "source": [
    "Load data"
   ]
  },
  {
   "cell_type": "code",
   "execution_count": 24,
   "metadata": {
    "id": "ypkhS2yCkbVE"
   },
   "outputs": [],
   "source": [
    "with open('wsddata.pkl', 'rb') as fp:\n",
    "    [training_df, examples] = pickle.load(fp)"
   ]
  },
  {
   "cell_type": "code",
   "execution_count": null,
   "metadata": {
    "id": "5kvTI1sKkkWg"
   },
   "outputs": [],
   "source": [
    "from numpy.random import shuffle\n",
    "shuffle(examples)\n",
    "\n",
    "train = examples[:-20000]\n",
    "valid = examples[-20000:]"
   ]
  },
  {
   "cell_type": "code",
   "execution_count": null,
   "metadata": {
    "id": "RRuie6KN41KQ"
   },
   "outputs": [],
   "source": [
    "train_dataset = PrepareTrainingDataset(\n",
    "        examples=train,   \n",
    "        max_length=MAX_LEN,\n",
    "        tokenizer=TOKENIZER\n",
    "    )"
   ]
  },
  {
   "cell_type": "code",
   "execution_count": null,
   "metadata": {
    "colab": {
     "base_uri": "https://localhost:8080/"
    },
    "id": "DeWhTTnSk5wK",
    "outputId": "f563f8ec-a3f0-4713-aeb4-3c2807b44775"
   },
   "outputs": [
    {
     "data": {
      "text/plain": [
       "{'ids': tensor([    2,  2908, 42488,  2170,    30,  6771, 46284,    14,    14,  2908,\n",
       "         42488,  2231,    14,    14,  3003, 26091,  3176, 51248,  3650,    16,\n",
       "          2827,  2847,    68,  2891,  8090,  2932, 12468,  2537,  1015,  2243,\n",
       "          1911,  3898,  1008,  2029,  1926,    16,  2301,  4653,     4,  2908,\n",
       "         42488,  8599,  9219,    30,    57, 27839,    30,  2899,    16, 34357,\n",
       "          1919, 25470,  1895,  2908, 42488,  1021,    16, 32624,  2243, 22177,\n",
       "            65, 11806,    18,     4]),\n",
       " 'mask': tensor([1, 1, 1, 1, 1, 1, 1, 1, 1, 1, 1, 1, 1, 1, 1, 1, 1, 1, 1, 1, 1, 1, 1, 1,\n",
       "         1, 1, 1, 1, 1, 1, 1, 1, 1, 1, 1, 1, 1, 1, 1, 1, 1, 1, 1, 1, 1, 1, 1, 1,\n",
       "         1, 1, 1, 1, 1, 1, 1, 1, 1, 1, 1, 1, 1, 1, 1, 1]),\n",
       " 'target': tensor(1.),\n",
       " 'token_type_ids': tensor([0, 0, 0, 0, 0, 0, 0, 0, 0, 0, 0, 0, 0, 0, 0, 0, 0, 0, 0, 0, 0, 0, 0, 0,\n",
       "         0, 0, 0, 0, 0, 0, 0, 0, 0, 0, 0, 0, 0, 0, 0, 1, 1, 1, 1, 1, 1, 1, 1, 1,\n",
       "         1, 1, 1, 1, 1, 1, 1, 1, 1, 1, 1, 1, 1, 1, 1, 1])}"
      ]
     },
     "execution_count": 23,
     "metadata": {
      "tags": []
     },
     "output_type": "execute_result"
    }
   ],
   "source": [
    "train_dataset[1]"
   ]
  },
  {
   "cell_type": "code",
   "execution_count": null,
   "metadata": {
    "colab": {
     "base_uri": "https://localhost:8080/",
     "height": 36
    },
    "id": "QPp0TlnLlfhk",
    "outputId": "b49c13bb-b3db-43fe-82c6-6dce143210b2"
   },
   "outputs": [
    {
     "data": {
      "application/vnd.google.colaboratory.intrinsic+json": {
       "type": "string"
      },
      "text/plain": [
       "'dkleczek/bert-base-polish-uncased-v1'"
      ]
     },
     "execution_count": 24,
     "metadata": {
      "tags": []
     },
     "output_type": "execute_result"
    }
   ],
   "source": [
    "pretrained_model"
   ]
  },
  {
   "cell_type": "markdown",
   "metadata": {
    "id": "-AfvTYLglbGa"
   },
   "source": [
    "Model running and saving"
   ]
  },
  {
   "cell_type": "code",
   "execution_count": 25,
   "metadata": {
    "colab": {
     "base_uri": "https://localhost:8080/"
    },
    "id": "j5m-flq2m5_C",
    "outputId": "0389b62c-1873-444f-e524-44112196a6e3"
   },
   "outputs": [
    {
     "data": {
      "text/plain": [
       "True"
      ]
     },
     "execution_count": 25,
     "metadata": {
      "tags": []
     },
     "output_type": "execute_result"
    }
   ],
   "source": [
    "torch.cuda.is_available()"
   ]
  },
  {
   "cell_type": "code",
   "execution_count": null,
   "metadata": {
    "colab": {
     "base_uri": "https://localhost:8080/",
     "height": 686,
     "referenced_widgets": [
      "64ec6168fd36486d87ea889a655cb3e7",
      "a38d2bf6b4a542c98c6d861a07f9fd0e",
      "a29c69345c10497d8e03e067c96c030a",
      "7d44bada56bd4285ac8f4b20b1164070",
      "1027b5cbf5324af0a7e7e4d6cba63bb9",
      "056fdd9eeaa84e06b8020a0fbd46f553",
      "23260c767c1f4ea9a26d215c29d5c66d",
      "0ab264f18d0440d2bd53a79a70dcf4b3",
      "3e11f50adef34484ba1da5967764df5c",
      "2a0e12e923bf4ccab686f6d4729c68f5",
      "51487afb4c384e028089fc6302ad4487",
      "bb71e4f07d024355a1cc8ffdb40067de",
      "f6423eea4bc149e89b00527a9bcc67b9",
      "e41a546489cf4cafabf75c09056fe92f",
      "2f34b475dd394bc7a505dd4633772768",
      "7722774416ce490a86d3bd9a5b2d7942",
      "1af482932cbe43cdb376f7b494339bf5",
      "ee0771ba919f47e6a679aca7928768cf",
      "a50b59ec5084436c9db1787774ef4a17",
      "2cbbd5a4f3c14bd1a4e9b3f220b3d505",
      "a7208ad4d8f24241a20d3f7ce05bc053",
      "6f4b47ee142f4d20bf72e7d5534436ce",
      "c36ff6315bd44ea8a251a31d3d98a1c2",
      "ffd8c582ead64fdab6c81d830781ef69",
      "03d817ec8a844b57b548d19af2526492",
      "497cd40238a64b7ba30c9cdded20c707",
      "7c751cadbc48435d8d8ad1d0f335ab57",
      "b44a59e0369245e08d292ae3ac11c015",
      "d3ff214447774a5aaaca9f0a61b0c071",
      "016d17dae37f4074b9485761e363d20c",
      "4e95b7331a9447c2b3d29cbccfe5fc21",
      "1932c8a6e3ba4b6081e2c6069c0c4c0f",
      "8bcd511bb5f54b97a6f1325bfd910a2d",
      "b89943cc4099415fbecd12b725d60bcf",
      "383d7c23cf2e483daa4b11502b13df20",
      "7f97412df8f54747955fcae1d31be364",
      "6a61d29d1f6149d484980a0fbe45b211",
      "9a00f46008b243f886ef03ccd0597c73",
      "5a989f3926b04415bad193646e527c99",
      "6046cced038c46fd8a72445cf11f01c8",
      "efd133e617ba4cca9f0010e70ba30bbe",
      "a4a36bf755f74a2c9c5fdc25cc5cbc67",
      "dcae589d07c741caaf12072ad7be35f4",
      "42096046c73d42bb90d4d3c3cc82f69f",
      "5bffc38992da4cf6aded83cd1dde6a18",
      "71777fea35194ac4a15dd45b7d15a11e",
      "abcb33629df941118ff45ad82803aa22",
      "29bc2d141a234d7f93b8440a9c1007d9",
      "616ad06edbad4601ad6736b93f5157c0",
      "5ad656e442f94b0ab2ba15268dfe2879",
      "732e82b3b2004a5c846489e55905f70f",
      "9f3cb648b94c4b0ab627dfad0d0a5b6b",
      "119a664b56f7451da525581fb4615ff9",
      "8535a8bf8fd248a488fe1f7949a8500b",
      "fe62406edad24774b179fa59ddaa3d0c",
      "97ac2f090d174495ae2fc53134eb5ffd",
      "a1dd74da8d164c59946af79076a369da",
      "ba98c819854245e8970312bc59c35524",
      "87109cf7e3694f95831880fab140b52b",
      "ff465577f67a4ebabb1d488d91491d75",
      "c097ea82770a41d6ad68e1978936fea2",
      "181831b0e92b4245a9c09320e7d3930c",
      "9eaf0a97088a4083aca3cb3e12ad8206",
      "ffb86cd4add241549f7716e577b9ae2f",
      "2b67d9448f1a47ccb7182af8c5fc7471",
      "2798cb8389cf448e95bf5e31c74777a5",
      "0f09cbfe0f9e4b5896f71f14db855964",
      "9bbd4bd6ea034d4bbb0382c0a7918368",
      "4ef5230f8216468186c7bd8831a1b640",
      "537825165b284588b41a9798826f4897",
      "fa029ae1c199402a96038c6928763e7c",
      "f84434289a6e40aea216e8cbeda09275",
      "b806fb7ba17a4a6cb62eced957391223",
      "45847f0073864751a441ccd25d83af4c",
      "5b00a80c66d240c5aedbaab4a6e6acac",
      "76da4735fb9242159e443c255910d1a3",
      "eb60511f27844ce3b9c89d605f028e29",
      "45760af16b7341f59643d010d9e6f99a",
      "7f7a042484e44c37815b83eb7fba524e",
      "a6adb703eeaa4cec84c0014d0a75ee85"
     ]
    },
    "id": "yNabykQ9lE54",
    "outputId": "afb9dc7d-f7b7-4d6f-8a74-5e491b0daf3c"
   },
   "outputs": [
    {
     "data": {
      "application/vnd.jupyter.widget-view+json": {
       "model_id": "64ec6168fd36486d87ea889a655cb3e7",
       "version_major": 2,
       "version_minor": 0
      },
      "text/plain": [
       "HBox(children=(FloatProgress(value=0.0, description='Downloading', max=459.0, style=ProgressStyle(description_…"
      ]
     },
     "metadata": {
      "tags": []
     },
     "output_type": "display_data"
    },
    {
     "name": "stdout",
     "output_type": "stream",
     "text": [
      "\n"
     ]
    },
    {
     "data": {
      "application/vnd.jupyter.widget-view+json": {
       "model_id": "3e11f50adef34484ba1da5967764df5c",
       "version_major": 2,
       "version_minor": 0
      },
      "text/plain": [
       "HBox(children=(FloatProgress(value=0.0, description='Downloading', max=531146902.0, style=ProgressStyle(descri…"
      ]
     },
     "metadata": {
      "tags": []
     },
     "output_type": "display_data"
    },
    {
     "name": "stdout",
     "output_type": "stream",
     "text": [
      "\n",
      "Training is starting\n"
     ]
    },
    {
     "data": {
      "application/vnd.jupyter.widget-view+json": {
       "model_id": "1af482932cbe43cdb376f7b494339bf5",
       "version_major": 2,
       "version_minor": 0
      },
      "text/plain": [
       "HBox(children=(FloatProgress(value=0.0, max=13234.0), HTML(value='')))"
      ]
     },
     "metadata": {
      "tags": []
     },
     "output_type": "display_data"
    },
    {
     "name": "stdout",
     "output_type": "stream",
     "text": [
      "\n"
     ]
    },
    {
     "data": {
      "application/vnd.jupyter.widget-view+json": {
       "model_id": "03d817ec8a844b57b548d19af2526492",
       "version_major": 2,
       "version_minor": 0
      },
      "text/plain": [
       "HBox(children=(FloatProgress(value=0.0, max=1250.0), HTML(value='')))"
      ]
     },
     "metadata": {
      "tags": []
     },
     "output_type": "display_data"
    },
    {
     "name": "stdout",
     "output_type": "stream",
     "text": [
      "\n",
      "epoch = 0, accuracy = 0.82665, valid_loss = 0.35719043016433716\n",
      "Validation score improved (-inf --> 0.82665). Saving model!\n"
     ]
    },
    {
     "data": {
      "application/vnd.jupyter.widget-view+json": {
       "model_id": "8bcd511bb5f54b97a6f1325bfd910a2d",
       "version_major": 2,
       "version_minor": 0
      },
      "text/plain": [
       "HBox(children=(FloatProgress(value=0.0, max=13234.0), HTML(value='')))"
      ]
     },
     "metadata": {
      "tags": []
     },
     "output_type": "display_data"
    },
    {
     "name": "stdout",
     "output_type": "stream",
     "text": [
      "\n"
     ]
    },
    {
     "data": {
      "application/vnd.jupyter.widget-view+json": {
       "model_id": "efd133e617ba4cca9f0010e70ba30bbe",
       "version_major": 2,
       "version_minor": 0
      },
      "text/plain": [
       "HBox(children=(FloatProgress(value=0.0, max=1250.0), HTML(value='')))"
      ]
     },
     "metadata": {
      "tags": []
     },
     "output_type": "display_data"
    },
    {
     "name": "stdout",
     "output_type": "stream",
     "text": [
      "\n",
      "epoch = 1, accuracy = 0.86325, valid_loss = 0.3126107156276703\n",
      "Validation score improved (0.82665 --> 0.86325). Saving model!\n"
     ]
    },
    {
     "data": {
      "application/vnd.jupyter.widget-view+json": {
       "model_id": "616ad06edbad4601ad6736b93f5157c0",
       "version_major": 2,
       "version_minor": 0
      },
      "text/plain": [
       "HBox(children=(FloatProgress(value=0.0, max=13234.0), HTML(value='')))"
      ]
     },
     "metadata": {
      "tags": []
     },
     "output_type": "display_data"
    },
    {
     "name": "stdout",
     "output_type": "stream",
     "text": [
      "\n"
     ]
    },
    {
     "data": {
      "application/vnd.jupyter.widget-view+json": {
       "model_id": "a1dd74da8d164c59946af79076a369da",
       "version_major": 2,
       "version_minor": 0
      },
      "text/plain": [
       "HBox(children=(FloatProgress(value=0.0, max=1250.0), HTML(value='')))"
      ]
     },
     "metadata": {
      "tags": []
     },
     "output_type": "display_data"
    },
    {
     "name": "stdout",
     "output_type": "stream",
     "text": [
      "\n",
      "epoch = 2, accuracy = 0.8797, valid_loss = 0.3362606465816498\n",
      "Validation score improved (0.86325 --> 0.8797). Saving model!\n"
     ]
    },
    {
     "data": {
      "application/vnd.jupyter.widget-view+json": {
       "model_id": "2b67d9448f1a47ccb7182af8c5fc7471",
       "version_major": 2,
       "version_minor": 0
      },
      "text/plain": [
       "HBox(children=(FloatProgress(value=0.0, max=13234.0), HTML(value='')))"
      ]
     },
     "metadata": {
      "tags": []
     },
     "output_type": "display_data"
    },
    {
     "name": "stdout",
     "output_type": "stream",
     "text": [
      "\n"
     ]
    },
    {
     "data": {
      "application/vnd.jupyter.widget-view+json": {
       "model_id": "b806fb7ba17a4a6cb62eced957391223",
       "version_major": 2,
       "version_minor": 0
      },
      "text/plain": [
       "HBox(children=(FloatProgress(value=0.0, max=1250.0), HTML(value='')))"
      ]
     },
     "metadata": {
      "tags": []
     },
     "output_type": "display_data"
    },
    {
     "name": "stdout",
     "output_type": "stream",
     "text": [
      "\n",
      "epoch = 3, accuracy = 0.886, valid_loss = 0.46046873927116394\n",
      "Validation score improved (0.8797 --> 0.886). Saving model!\n"
     ]
    }
   ],
   "source": [
    "run(train, valid, pretrained_model)"
   ]
  },
  {
   "cell_type": "code",
   "execution_count": null,
   "metadata": {
    "id": "mXgeZx-eIQe4"
   },
   "outputs": [],
   "source": [
    "train_valid = [train, valid]\n",
    "with open('train_valid_data.pkl', 'wb') as fp:\n",
    "    pickle.dump(train_valid, fp)"
   ]
  },
  {
   "cell_type": "markdown",
   "metadata": {
    "id": "RAjD0yAaKRVG"
   },
   "source": [
    "Disambiguation process"
   ]
  },
  {
   "cell_type": "code",
   "execution_count": 26,
   "metadata": {
    "id": "aklB0qPkMQ6G"
   },
   "outputs": [],
   "source": [
    "def disambiguate(lemma, row, df_conll, lemma_synset_pairs_df, synsets_examples_df, tokenizer, model):\n",
    "  orth = df_conll['ORTH'].loc[row] #właściwa forma słowa \n",
    "  sent = df_conll['SENT'].loc[row] #które to zdanie\n",
    "\n",
    "  words = df_conll[df_conll['SENT'] == sent]['ORTH'].tolist() #lista wszystkich słów w zdaniu\n",
    "  words = ['**' + x + '**' if x == orth else x for x in words] #zmienna orth **(obecny wyraz)**\n",
    "  sent1 = ' '.join(words) #całe zdanie z jednym wyrazem **.**\n",
    "  # find all synsets corresponding to lemma\n",
    "  synsets = lemma_synset_pairs_df['synset'][lemma_synset_pairs_df['lemma'] == lemma].tolist() #wszystkie możliwe synsety dla lematu obecnego wyrazu \n",
    "  # find all examples per synset\n",
    "  scores = [] \n",
    "  for x in synsets: #x = każdy synset możliwy\n",
    "    exmpls = synsets_examples_df[synsets_examples_df['synset'] == x]['example'].tolist() #ściągamy wszystkie zdania z examples dla danego synsetu w pętli\n",
    "    if len(exmpls) == 0:  #dla synsetu który nie posiada żadnego example dajemy score -999\n",
    "      scores.append(-999)\n",
    "      continue #przejdź do kolejnego synsetu\n",
    "    examples = []\n",
    "    for ex in exmpls: #dla kazdego example z synsetu w pętli\n",
    "        examples.append({\n",
    "          'l1': lemma,\n",
    "          'e1': sent1,\n",
    "          'l2': lemma,\n",
    "          'e2': ex \n",
    "        })\n",
    "    scrs = evaluate(examples, model) #w examples mamy tyle elementów ile jest examples dla danego synset, różniące się tylko tym example -> lista scorów\n",
    "    score = np.max(scrs) #maksymalny score dla wszystkich example danego synsetu\n",
    "    scores.append(score) \n",
    "  best_synset = synsets[np.argmax(scores)] #w zbiorze scores mamy score dla każdego z synsetów ; wybieramy ze zbioru synsets element o tym samym indeksie co największy score w scores\n",
    "  return best_synset #synset"
   ]
  },
  {
   "cell_type": "code",
   "execution_count": 27,
   "metadata": {
    "id": "6OPFTRYLMj0w"
   },
   "outputs": [],
   "source": [
    "def check_if_mwe(lemma, mwe_candidate, lemma_synset_pairs_df): #funkcja sprawdzająca czy mamy do czynienia z multi-word-expression\n",
    "  is_mwe = False\n",
    "  cand_lemma = lemma + ' ' + mwe_candidate\n",
    "  if len(lemma_synset_pairs_df[lemma_synset_pairs_df['lemma'] == cand_lemma]) > 0:\n",
    "    lemma = cand_lemma\n",
    "    is_mwe = True\n",
    "  return is_mwe, lemma"
   ]
  },
  {
   "cell_type": "code",
   "execution_count": 28,
   "metadata": {
    "id": "L3T8Y1yVO1EZ"
   },
   "outputs": [],
   "source": [
    "def process_conll(path):\n",
    "    df = pd.read_csv(path, sep='\\t')\n",
    "    tknids = df.TOKEN_ID.to_list()\n",
    "    sntids = []\n",
    "    s = -1\n",
    "    for tknid in tknids:\n",
    "      if tknid == 0: s += 1\n",
    "      sntids.append(s)\n",
    "    df['SENT'] = sntids\n",
    "    df['MWE_FLAG'] = -1\n",
    "    df['WN_ID'] = '_'\n",
    "    for i in range(len(df)):\n",
    "        # if flagged as MWE, copy synset:\n",
    "        flag = df['MWE_FLAG'].loc[i]\n",
    "        if flag > -1:\n",
    "          df['WN_ID'].loc[i] = df['WN_ID'].loc[flag]\n",
    "          continue\n",
    "\n",
    "        # get lemma\n",
    "        lemma = df['LEMMA'].loc[i]\n",
    "        # check if MWE -> if yes, update lemma, write flag to another column (\"MWE_FLAG\")\n",
    "        # for now the simplest case only: znajdować się\n",
    "        if i < (len(df) - 1):\n",
    "          mwe_candidate = df['LEMMA'].loc[i+1]                                #kolejny lemat po i\n",
    "          mwe_flag, lemma = check_if_mwe(lemma, mwe_candidate, lemma_synset_pairs_df)               #obecny lemat, kolejny lemat, zbiór synsetów\n",
    "          if mwe_flag == True: df['MWE_FLAG'].loc[i+1] = i\n",
    "\n",
    "        # get synset candidates\n",
    "        synsets = lemma_synset_pairs_df['synset'][lemma_synset_pairs_df['lemma'] == lemma].tolist()\n",
    "        # if one candidate, update with it\n",
    "        if len(synsets) == 1: df['WN_ID'].loc[i] = synsets[0] \n",
    "        # if zero candidate, update with underscore == do nothing\n",
    "        # if multiple candidates, disambiguate\n",
    "        if len(synsets) > 1: df['WN_ID'].loc[i] = disambiguate(lemma, i, df, lemma_synset_pairs_df, synsets_examples_df, TOKENIZER, model)\n",
    "\n",
    "    #remove unnecessary columns (e.g. MWE_FLAG etc.)\n",
    "    df = df[['ORDER_ID', 'TOKEN_ID', 'ORTH', 'LEMMA', 'CTAG', 'FROM', 'TO', 'WN_ID']]\n",
    "    [folder, fname] = path.split('/')[-2:]\n",
    "    #save csv in conll format in new folder\n",
    "    rpath = 'results/' + folder + '/' + fname\n",
    "    df.to_csv(rpath, sep='\\t', index=False)"
   ]
  },
  {
   "cell_type": "code",
   "execution_count": 29,
   "metadata": {
    "colab": {
     "base_uri": "https://localhost:8080/"
    },
    "id": "cBoGS-hYReSr",
    "outputId": "1b544eaa-c3bd-4aa9-e79c-5a8e9a171d4f"
   },
   "outputs": [
    {
     "name": "stdout",
     "output_type": "stream",
     "text": [
      "\u001b[0m\u001b[01;34mpoleval20-wsd-master\u001b[0m/  \u001b[01;34mtest_gold_standard\u001b[0m/   wsddata.pkl\n",
      "\u001b[01;34mresults\u001b[0m/               train_valid_data.pkl  WSD_polbert_model3.bin\n"
     ]
    }
   ],
   "source": [
    "ls"
   ]
  },
  {
   "cell_type": "code",
   "execution_count": 30,
   "metadata": {
    "colab": {
     "base_uri": "https://localhost:8080/",
     "height": 115,
     "referenced_widgets": [
      "64e4ce8d8b484feaba1a6beb66ace3b8",
      "f1654d8db75c4068a2e207ae7d5c5327",
      "3ef27f8506384411b7dfdba9af27373d",
      "a0814e42c8964e93aa4809806bf8c44b",
      "9eb68a7b28be454c8700a3b478c341b3",
      "85c73029e74c4e78b38227666e7667c0",
      "44e173cbe6ce4178aecf82aef958523d",
      "cdf911919d87435f852cdf6515251c86",
      "596d87ceec0442878cd0d7260be3657e",
      "1188b7e4d0424a40851423e41263d474",
      "6736c3caaf214998a81bbe7542c55946",
      "c8203145aa144a838c74f0f8ed449cc8",
      "d7043a7dc2664d0f996e2aa33e66d6e8",
      "79b7362603fb4538b2d44a608ace3b0e",
      "2077e682708c40d7867bffd19ac0796f",
      "927a7b6a2fec40bc800ee79b0952e73c"
     ]
    },
    "id": "9dW2cJlRRPxo",
    "outputId": "7c246bfa-72c1-44be-d878-d88e23a51965"
   },
   "outputs": [
    {
     "data": {
      "application/vnd.jupyter.widget-view+json": {
       "model_id": "64e4ce8d8b484feaba1a6beb66ace3b8",
       "version_major": 2,
       "version_minor": 0
      },
      "text/plain": [
       "HBox(children=(FloatProgress(value=0.0, description='Downloading', max=459.0, style=ProgressStyle(description_…"
      ]
     },
     "metadata": {
      "tags": []
     },
     "output_type": "display_data"
    },
    {
     "name": "stdout",
     "output_type": "stream",
     "text": [
      "\n"
     ]
    },
    {
     "data": {
      "application/vnd.jupyter.widget-view+json": {
       "model_id": "596d87ceec0442878cd0d7260be3657e",
       "version_major": 2,
       "version_minor": 0
      },
      "text/plain": [
       "HBox(children=(FloatProgress(value=0.0, description='Downloading', max=531146902.0, style=ProgressStyle(descri…"
      ]
     },
     "metadata": {
      "tags": []
     },
     "output_type": "display_data"
    },
    {
     "name": "stdout",
     "output_type": "stream",
     "text": [
      "\n"
     ]
    }
   ],
   "source": [
    "model = PolbertWSD(pretrained_model)\n",
    "model.load_state_dict(torch.load('WSD_polbert_model3.bin'))\n",
    "model.to('cuda')\n",
    "model.eval();"
   ]
  },
  {
   "cell_type": "code",
   "execution_count": null,
   "metadata": {
    "colab": {
     "base_uri": "https://localhost:8080/",
     "height": 49,
     "referenced_widgets": [
      "c603194df11b4df8924547b13cd8abea",
      "5421f36e7a6544cf8773160be5e3ce37",
      "2c8a08b819284403ad233f372ac8d809",
      "2dbe4b237f7646368a5164a7b9e39cd7",
      "ae7f2c3ba7944c83802245d840a1ec20",
      "22dbd07ab97a4a3a98d14227cd834a4a",
      "e2b4a9892734480b8d6d8d6027a92a5f",
      "d9655f1438844d59b9df243a01c1e253"
     ]
    },
    "id": "TFmMODQZKV5t",
    "outputId": "cf0c804a-3a79-4158-db5a-96f52416466b"
   },
   "outputs": [
    {
     "data": {
      "application/vnd.jupyter.widget-view+json": {
       "model_id": "c603194df11b4df8924547b13cd8abea",
       "version_major": 2,
       "version_minor": 0
      },
      "text/plain": [
       "HBox(children=(FloatProgress(value=0.0, max=66.0), HTML(value='')))"
      ]
     },
     "metadata": {
      "tags": []
     },
     "output_type": "display_data"
    }
   ],
   "source": [
    "pathlist = list(Path('poleval20-wsd-master/testdata/testdata').glob('**/*.conll'))\n",
    "pathlist_str = [str(x) for x in pathlist]\n",
    "pathlist_done = list(Path('results').glob('**/*.conll'))\n",
    "pathlist_done_str = [\"poleval20-wsd-master/testdata/testdata\" + str(x)[7:] for x in pathlist_done]\n",
    "\n",
    "pathlist_to_do = list(set(pathlist_str) - set(pathlist_done_str))\n",
    "\n",
    "for path in tqdm(pathlist_to_do):\n",
    "     process_conll(path)"
   ]
  },
  {
   "cell_type": "code",
   "execution_count": null,
   "metadata": {
    "colab": {
     "base_uri": "https://localhost:8080/"
    },
    "id": "cSbJjndVTdk7",
    "outputId": "671a2957-b8cf-49f4-cf31-e4c406aa1da8"
   },
   "outputs": [
    {
     "name": "stdout",
     "output_type": "stream",
     "text": [
      "ORDER_ID\tTOKEN_ID\tORTH\tLEMMA\tCTAG\tFROM\tTO\tWN_ID\n",
      "0\t0\tToronto\tToronto\tsubst:sg:nom:n\t0\t6\t_\n",
      "1\t1\tDominion\tdominion\tsubst:sg:nom:n\t7\t14\ts362230\n",
      "2\t2\tCentre\tcentre\tsubst:sg:nom:n\t15\t20\ts370532\n",
      "3\t0\tToronto\tToronto\tsubst:sg:nom:n\t21\t27\t_\n",
      "4\t1\tDominion\tdominion\tsubst:sg:nom:n\t28\t35\ts362230\n",
      "5\t2\tCentre\tcentre\tsubst:sg:nom:n\t36\t41\ts370532\n",
      "6\t3\t-\t-\tinterp\t42\t42\t_\n",
      "7\t4\tkompleks\tkompleks\tsubst:sg:nom:m3\t43\t50\ts102644\n",
      "8\t5\thandlowo\thandlowo\tadv:pos\t51\t58\ts453527\n",
      "9\t6\t-\t-\tinterp\t59\t59\t_\n",
      "10\t7\tkulturalny\tkulturalny\tadj:sg:nom:m1:pos\t60\t69\ts105670\n",
      "11\t8\tw\tw\tprep:loc:nwok\t70\t70\ts7974\n",
      "12\t9\tkanadyjskim\tkanadyjski\tadj:sg:loc:n:pos\t71\t81\ts104026\n",
      "13\t10\tmieście\tmiasto\tsubst:sg:loc:n\t82\t88\ts4845\n",
      "14\t11\tToronto\tToronto\tsubst:sg:nom:n\t89\t95\t_\n",
      "15\t12\t,\t,\tinterp\t96\t96\t_\n",
      "16\t13\tw\tw\tprep:loc:nwok\t97\t97\ts7974\n",
      "17\t14\tFinancial\tfinancial\tsubst:sg:loc:n\t98\t106\ts279186\n",
      "18\t15\tDistrict\tdistrict\tsubst:sg:loc:n\t107\t114\ts331239\n",
      "19\t16\t.\t.\tinterp\t115\t115\t_\n",
      "20\t0\tSkłada\tskładać\tfin:sg:ter:imperf\t116\t121\ts65290\n",
      "21\t1\tsię\tsię\tqub\t122\t124\ts65290\n",
      "22\t2\tz\tz\tprep:gen:nwok\t125\t125\ts324653\n",
      "23\t3\t3\t3\tnum:pl:gen:m3:congr\t126\t126\ts410389\n",
      "24\t4\tczarnych\tczarny\tadj:pl:gen:m3:pos\t127\t134\ts416581\n",
      "25\t5\tbudynków\tbudynek\tsubst:pl:gen:m3\t135\t142\ts289\n",
      "26\t6\t,\t,\tinterp\t143\t143\t_\n",
      "27\t7\tzaprojektowanych\tzaprojektować\tppas:pl:gen:m3:perf:aff\t144\t159\ts7070134\n",
      "28\t8\tprzez\tprzez\tprep:acc:nwok\t160\t164\t_\n",
      "29\t9\tarchitekta\tarchitekt\tsubst:sg:acc:m1\t165\t174\ts81\n",
      "30\t10\tLudwiga\tLudwig\tsubst:sg:acc:m1\t175\t181\t_\n",
      "31\t11\tMies\tmies\tsubst:sg:acc:m1\t182\t185\t_\n",
      "32\t12\tvan\tvan\tsubst:sg:nom:m2\t186\t188\ts229406\n",
      "33\t13\tder\tdera\tsubst:pl:gen:f\t189\t191\ts34631\n",
      "34\t14\tRohe\trohe\tsubst:sg:gen:m2\t192\t195\t_\n",
      "35\t15\t.\t.\tinterp\t196\t196\t_\n",
      "36\t0\tBudynki\tbudynek\tsubst:pl:nom:m3\t197\t203\ts289\n",
      "37\t1\ttworzą\ttworzyć\tfin:pl:ter:imperf\t204\t209\ts51684\n",
      "38\t2\todgrodzony\todgrodzić\tppas:sg:nom:m3:perf:aff\t210\t219\ts63667\n",
      "39\t3\tod\tod\tprep:gen:nwok\t220\t221\ts321027\n",
      "40\t4\tulic\tulica\tsubst:pl:gen:f\t222\t225\ts35311\n",
      "41\t5\tdziedziniec\tdziedziniec\tsubst:sg:nom:m3\t226\t236\ts736\n",
      "42\t6\t,\t,\tinterp\t237\t237\t_\n",
      "43\t7\tna\tna\tprep:loc\t238\t239\ts15934\n",
      "44\t8\tktórym\tktóry\tadj:sg:loc:m3:pos\t240\t245\ts9558\n",
      "45\t9\tJoe\tJoe\tsubst:sg:nom:m1\t246\t248\t_\n",
      "46\t10\tFafard\tfafard\tsubst:sg:nom:m1\t249\t254\t_\n",
      "47\t11\tustawił\tustawić\tpraet:sg:m1:perf\t255\t261\ts53402\n",
      "48\t12\t6\t6\tnum:pl:nom:f:rec\t262\t262\ts358424\n",
      "49\t13\todpoczywających\todpoczywać\tpact:pl:gen:f:imperf:aff\t263\t277\ts2286\n",
      "50\t14\tkrów\tkrowa\tsubst:pl:gen:f\t278\t281\ts26013\n",
      "51\t15\tz\tz\tprep:gen:nwok\t282\t282\ts324653\n",
      "52\t16\tbrązu\tbrąz\tsubst:sg:gen:m3\t283\t287\ts17848\n",
      "53\t17\t.\t.\tinterp\t288\t288\t_\n",
      "54\t0\tPomiędzy\tpomiędzy\tprep:inst\t289\t296\t_\n",
      "55\t1\tbudynkami\tbudynek\tsubst:pl:inst:m3\t297\t305\ts289\n",
      "56\t2\tstoi\tstać\tfin:sg:ter:imperf\t306\t309\ts61140\n",
      "57\t3\ttakże\ttakże\tqub\t310\t314\t_\n",
      "58\t4\twielkie\twielki\tadj:sg:acc:n:pos\t315\t321\ts10554\n",
      "59\t5\tkrzesło\tkrzesło\tsubst:sg:acc:n\t322\t328\ts7223\n",
      "60\t6\t.\t.\tinterp\t329\t329\t_\n",
      "61\t0\tW\tw\tprep:acc:nwok\t330\t330\ts7974\n",
      "62\t1\tpołudnie\tpołudnie\tsubst:sg:acc:n\t331\t338\ts238751\n",
      "63\t2\todbywają\todbywać\tfin:pl:ter:imperf\t339\t346\ts7078140\n",
      "64\t3\tsię\tsię\tqub\t347\t349\ts7078140\n",
      "65\t4\tkoncerty\tkoncert\tsubst:pl:nom:m3\t350\t357\ts1325\n",
      "66\t5\tjazzowe\tjazzowy\tadj:pl:nom:m3:pos\t358\t364\ts229612\n",
      "67\t6\t.\t.\tinterp\t365\t365\t_\n",
      "68\t0\tW\tw\tprep:loc:nwok\t366\t366\ts7974\n",
      "69\t1\tkompleksie\tkompleks\tsubst:sg:loc:m3\t367\t376\ts102644\n",
      "70\t2\tznajduje\tznajdować\tfin:sg:ter:imperf\t377\t384\ts55135\n",
      "71\t3\tsię\tsię\tqub\t385\t387\ts55135\n",
      "72\t4\tjedna\tjeden\tadj:sg:nom:f:pos\t388\t392\ts1151\n",
      "73\t5\tz\tz\tprep:gen:nwok\t393\t393\ts324653\n",
      "74\t6\tnajważniejszych\tważny\tadj:pl:gen:f:sup\t394\t408\ts103584\n",
      "75\t7\tgalerii\tgaleria\tsubst:pl:gen:f\t409\t415\ts102733\n",
      "76\t8\tsztuki\tsztuka\tsubst:sg:gen:f\t416\t421\ts666\n",
      "77\t9\tInuitów\tinuitów\tsubst:sg:gen:f\t422\t428\t_\n",
      "78\t10\t–\t–\tinterp\t429\t429\t_\n",
      "79\t11\tToronto\tToronto\tsubst:sg:nom:n\t430\t436\t_\n",
      "80\t12\tDominion\tdominion\tsubst:sg:nom:n\t437\t444\ts362230\n",
      "81\t13\tGallery\tgallery\txxx\t445\t451\ts329631\n",
      "82\t14\tof\tof\tsubst:sg:nom:m3\t452\t453\t_\n",
      "83\t15\tInuit\tinuit\tsubst:sg:nom:m3\t454\t458\ts24070\n",
      "84\t16\tArt\tart\tsubst:sg:nom:m3\t459\t461\ts322740\n",
      "85\t17\t.\t.\tinterp\t462\t462\t_\n"
     ]
    }
   ],
   "source": [
    "!head -n 100 results/kpwr/00099883.conll"
   ]
  },
  {
   "cell_type": "markdown",
   "metadata": {
    "id": "tdtzNUbXbhZA"
   },
   "source": [
    "Test data metrics"
   ]
  },
  {
   "cell_type": "code",
   "execution_count": null,
   "metadata": {
    "id": "PJWFHcHFbnhk"
   },
   "outputs": [],
   "source": [
    "path_kpwr = 'test_gold_standard/kpwr/'\n",
    "path_results = 'results/kpwr/'\n",
    "files_kpwr = os.listdir(path_results)\n",
    "full_kpwr_results_df = pd.DataFrame()\n",
    "\n",
    "for file_name in files_kpwr:\n",
    "  result_file_name = path_results + file_name\n",
    "  file_name = path_kpwr + file_name\n",
    "  df = pd.read_csv(file_name, sep = '\\t')[[\"ORDER_ID\", \"WN_ID\"]]\n",
    "  result_df = pd.read_csv(result_file_name, sep = '\\t')\n",
    "  df.rename(columns={'WN_ID': 'WN_ID_ACTUAL'}, inplace=True)\n",
    "  result_df = pd.merge(result_df, df, how='inner', on='ORDER_ID')\n",
    "  full_kpwr_results_df = full_kpwr_results_df.append(result_df)"
   ]
  },
  {
   "cell_type": "code",
   "execution_count": null,
   "metadata": {
    "id": "cnilCh1Djvvz"
   },
   "outputs": [],
   "source": [
    "full_kpwr_results_df['correct_classif'] = np.where(np.logical_and(full_kpwr_results_df['WN_ID'] == full_kpwr_results_df['WN_ID_ACTUAL'], full_kpwr_results_df['WN_ID'] != \"_\"), True, False)\n",
    "full_kpwr_results_df['if_decision_made_by_model'] = full_kpwr_results_df['WN_ID'] != \"_\"\n",
    "full_kpwr_results_df['if_annotated_in_test_data'] = full_kpwr_results_df['WN_ID_ACTUAL'] != \"_\"\n",
    "\n",
    "correctly_predicted_senses_count = sum(full_kpwr_results_df['correct_classif'])\n",
    "count_decisions_made_by_model = sum(full_kpwr_results_df['if_decision_made_by_model'])\n",
    "count_annotated_in_test_data = sum(full_kpwr_results_df['if_annotated_in_test_data'])\n",
    "\n",
    "print(f\"precision for kpwr = {correctly_predicted_senses_count/count_decisions_made_by_model}\")\n",
    "print(f\"recall for kpwr = {correctly_predicted_senses_count/count_annotated_in_test_data}\")"
   ]
  },
  {
   "cell_type": "code",
   "execution_count": null,
   "metadata": {
    "id": "yBT9h3T_j1Ou"
   },
   "outputs": [],
   "source": [
    "path_sherlock = 'test_gold_standard/sherlock/'\n",
    "path_results = 'results/sherlock/'\n",
    "files_sherlock = os.listdir(path_results)\n",
    "full_sherlock_results_df = pd.DataFrame()\n",
    "\n",
    "for file_name in files_sherlock:\n",
    "  result_file_name = path_results + file_name\n",
    "  file_name = path_sherlock + file_name\n",
    "  df = pd.read_csv(file_name, sep = '\\t')[[\"ORDER_ID\", \"WN_ID\"]]\n",
    "  result_df = pd.read_csv(result_file_name, sep = '\\t')\n",
    "  df.rename(columns={'WN_ID': 'WN_ID_ACTUAL'}, inplace=True)\n",
    "  result_df = pd.merge(result_df, df, how='inner', on='ORDER_ID')\n",
    "  full_sherlock_results_df = full_sherlock_results_df.append(result_df)"
   ]
  },
  {
   "cell_type": "code",
   "execution_count": null,
   "metadata": {
    "id": "zf9kX0HWkCEX"
   },
   "outputs": [],
   "source": [
    "full_sherlock_results_df['correct_classif'] = np.where(np.logical_and(full_sherlock_results_df['WN_ID'] == full_sherlock_results_df['WN_ID_ACTUAL'], full_sherlock_results_df['WN_ID'] != \"_\"), True, False)\n",
    "full_sherlock_results_df['if_decision_made_by_model'] = full_sherlock_results_df['WN_ID'] != \"_\"\n",
    "full_sherlock_results_df['if_annotated_in_test_data'] = full_sherlock_results_df['WN_ID_ACTUAL'] != \"_\"\n",
    "\n",
    "correctly_predicted_senses_count = sum(full_sherlock_results_df['correct_classif'])\n",
    "count_decisions_made_by_model = sum(full_sherlock_results_df['if_decision_made_by_model'])\n",
    "count_annotated_in_test_data = sum(full_sherlock_results_df['if_annotated_in_test_data'])\n",
    "\n",
    "print(f\"precision for sherlock = {correctly_predicted_senses_count/count_decisions_made_by_model}\")\n",
    "print(f\"recall for sherlock = {correctly_predicted_senses_count/count_annotated_in_test_data}\")"
   ]
  },
  {
   "cell_type": "code",
   "execution_count": null,
   "metadata": {
    "id": "kqhlIevMkctg"
   },
   "outputs": [],
   "source": [
    "list_final_results = [full_kpwr_results_df, full_sherlock_results_df]\n",
    "with open('list_final_results.pkl', 'wb') as fp:\n",
    "    pickle.dump(list_final_results, fp)"
   ]
  }
 ],
 "metadata": {
  "accelerator": "GPU",
  "colab": {
   "name": "Untitled1(2).ipynb",
   "provenance": []
  },
  "kernelspec": {
   "display_name": "Python 3",
   "language": "python",
   "name": "python3"
  },
  "language_info": {
   "codemirror_mode": {
    "name": "ipython",
    "version": 3
   },
   "file_extension": ".py",
   "mimetype": "text/x-python",
   "name": "python",
   "nbconvert_exporter": "python",
   "pygments_lexer": "ipython3",
   "version": "3.8.5"
  },
  "widgets": {
   "application/vnd.jupyter.widget-state+json": {
    "016d17dae37f4074b9485761e363d20c": {
     "model_module": "@jupyter-widgets/base",
     "model_name": "LayoutModel",
     "state": {
      "_model_module": "@jupyter-widgets/base",
      "_model_module_version": "1.2.0",
      "_model_name": "LayoutModel",
      "_view_count": null,
      "_view_module": "@jupyter-widgets/base",
      "_view_module_version": "1.2.0",
      "_view_name": "LayoutView",
      "align_content": null,
      "align_items": null,
      "align_self": null,
      "border": null,
      "bottom": null,
      "display": null,
      "flex": null,
      "flex_flow": null,
      "grid_area": null,
      "grid_auto_columns": null,
      "grid_auto_flow": null,
      "grid_auto_rows": null,
      "grid_column": null,
      "grid_gap": null,
      "grid_row": null,
      "grid_template_areas": null,
      "grid_template_columns": null,
      "grid_template_rows": null,
      "height": null,
      "justify_content": null,
      "justify_items": null,
      "left": null,
      "margin": null,
      "max_height": null,
      "max_width": null,
      "min_height": null,
      "min_width": null,
      "object_fit": null,
      "object_position": null,
      "order": null,
      "overflow": null,
      "overflow_x": null,
      "overflow_y": null,
      "padding": null,
      "right": null,
      "top": null,
      "visibility": null,
      "width": null
     }
    },
    "03d817ec8a844b57b548d19af2526492": {
     "model_module": "@jupyter-widgets/controls",
     "model_name": "HBoxModel",
     "state": {
      "_dom_classes": [],
      "_model_module": "@jupyter-widgets/controls",
      "_model_module_version": "1.5.0",
      "_model_name": "HBoxModel",
      "_view_count": null,
      "_view_module": "@jupyter-widgets/controls",
      "_view_module_version": "1.5.0",
      "_view_name": "HBoxView",
      "box_style": "",
      "children": [
       "IPY_MODEL_7c751cadbc48435d8d8ad1d0f335ab57",
       "IPY_MODEL_b44a59e0369245e08d292ae3ac11c015"
      ],
      "layout": "IPY_MODEL_497cd40238a64b7ba30c9cdded20c707"
     }
    },
    "056fdd9eeaa84e06b8020a0fbd46f553": {
     "model_module": "@jupyter-widgets/base",
     "model_name": "LayoutModel",
     "state": {
      "_model_module": "@jupyter-widgets/base",
      "_model_module_version": "1.2.0",
      "_model_name": "LayoutModel",
      "_view_count": null,
      "_view_module": "@jupyter-widgets/base",
      "_view_module_version": "1.2.0",
      "_view_name": "LayoutView",
      "align_content": null,
      "align_items": null,
      "align_self": null,
      "border": null,
      "bottom": null,
      "display": null,
      "flex": null,
      "flex_flow": null,
      "grid_area": null,
      "grid_auto_columns": null,
      "grid_auto_flow": null,
      "grid_auto_rows": null,
      "grid_column": null,
      "grid_gap": null,
      "grid_row": null,
      "grid_template_areas": null,
      "grid_template_columns": null,
      "grid_template_rows": null,
      "height": null,
      "justify_content": null,
      "justify_items": null,
      "left": null,
      "margin": null,
      "max_height": null,
      "max_width": null,
      "min_height": null,
      "min_width": null,
      "object_fit": null,
      "object_position": null,
      "order": null,
      "overflow": null,
      "overflow_x": null,
      "overflow_y": null,
      "padding": null,
      "right": null,
      "top": null,
      "visibility": null,
      "width": null
     }
    },
    "0ab264f18d0440d2bd53a79a70dcf4b3": {
     "model_module": "@jupyter-widgets/base",
     "model_name": "LayoutModel",
     "state": {
      "_model_module": "@jupyter-widgets/base",
      "_model_module_version": "1.2.0",
      "_model_name": "LayoutModel",
      "_view_count": null,
      "_view_module": "@jupyter-widgets/base",
      "_view_module_version": "1.2.0",
      "_view_name": "LayoutView",
      "align_content": null,
      "align_items": null,
      "align_self": null,
      "border": null,
      "bottom": null,
      "display": null,
      "flex": null,
      "flex_flow": null,
      "grid_area": null,
      "grid_auto_columns": null,
      "grid_auto_flow": null,
      "grid_auto_rows": null,
      "grid_column": null,
      "grid_gap": null,
      "grid_row": null,
      "grid_template_areas": null,
      "grid_template_columns": null,
      "grid_template_rows": null,
      "height": null,
      "justify_content": null,
      "justify_items": null,
      "left": null,
      "margin": null,
      "max_height": null,
      "max_width": null,
      "min_height": null,
      "min_width": null,
      "object_fit": null,
      "object_position": null,
      "order": null,
      "overflow": null,
      "overflow_x": null,
      "overflow_y": null,
      "padding": null,
      "right": null,
      "top": null,
      "visibility": null,
      "width": null
     }
    },
    "0b3e2da65c7a44368ee27497f4527560": {
     "model_module": "@jupyter-widgets/controls",
     "model_name": "ProgressStyleModel",
     "state": {
      "_model_module": "@jupyter-widgets/controls",
      "_model_module_version": "1.5.0",
      "_model_name": "ProgressStyleModel",
      "_view_count": null,
      "_view_module": "@jupyter-widgets/base",
      "_view_module_version": "1.2.0",
      "_view_name": "StyleView",
      "bar_color": null,
      "description_width": "initial"
     }
    },
    "0f09cbfe0f9e4b5896f71f14db855964": {
     "model_module": "@jupyter-widgets/controls",
     "model_name": "FloatProgressModel",
     "state": {
      "_dom_classes": [],
      "_model_module": "@jupyter-widgets/controls",
      "_model_module_version": "1.5.0",
      "_model_name": "FloatProgressModel",
      "_view_count": null,
      "_view_module": "@jupyter-widgets/controls",
      "_view_module_version": "1.5.0",
      "_view_name": "ProgressView",
      "bar_style": "success",
      "description": "100%",
      "description_tooltip": null,
      "layout": "IPY_MODEL_537825165b284588b41a9798826f4897",
      "max": 13234,
      "min": 0,
      "orientation": "horizontal",
      "style": "IPY_MODEL_4ef5230f8216468186c7bd8831a1b640",
      "value": 13234
     }
    },
    "1027b5cbf5324af0a7e7e4d6cba63bb9": {
     "model_module": "@jupyter-widgets/controls",
     "model_name": "ProgressStyleModel",
     "state": {
      "_model_module": "@jupyter-widgets/controls",
      "_model_module_version": "1.5.0",
      "_model_name": "ProgressStyleModel",
      "_view_count": null,
      "_view_module": "@jupyter-widgets/base",
      "_view_module_version": "1.2.0",
      "_view_name": "StyleView",
      "bar_color": null,
      "description_width": "initial"
     }
    },
    "1188b7e4d0424a40851423e41263d474": {
     "model_module": "@jupyter-widgets/base",
     "model_name": "LayoutModel",
     "state": {
      "_model_module": "@jupyter-widgets/base",
      "_model_module_version": "1.2.0",
      "_model_name": "LayoutModel",
      "_view_count": null,
      "_view_module": "@jupyter-widgets/base",
      "_view_module_version": "1.2.0",
      "_view_name": "LayoutView",
      "align_content": null,
      "align_items": null,
      "align_self": null,
      "border": null,
      "bottom": null,
      "display": null,
      "flex": null,
      "flex_flow": null,
      "grid_area": null,
      "grid_auto_columns": null,
      "grid_auto_flow": null,
      "grid_auto_rows": null,
      "grid_column": null,
      "grid_gap": null,
      "grid_row": null,
      "grid_template_areas": null,
      "grid_template_columns": null,
      "grid_template_rows": null,
      "height": null,
      "justify_content": null,
      "justify_items": null,
      "left": null,
      "margin": null,
      "max_height": null,
      "max_width": null,
      "min_height": null,
      "min_width": null,
      "object_fit": null,
      "object_position": null,
      "order": null,
      "overflow": null,
      "overflow_x": null,
      "overflow_y": null,
      "padding": null,
      "right": null,
      "top": null,
      "visibility": null,
      "width": null
     }
    },
    "119a664b56f7451da525581fb4615ff9": {
     "model_module": "@jupyter-widgets/controls",
     "model_name": "ProgressStyleModel",
     "state": {
      "_model_module": "@jupyter-widgets/controls",
      "_model_module_version": "1.5.0",
      "_model_name": "ProgressStyleModel",
      "_view_count": null,
      "_view_module": "@jupyter-widgets/base",
      "_view_module_version": "1.2.0",
      "_view_name": "StyleView",
      "bar_color": null,
      "description_width": "initial"
     }
    },
    "11ef5ba6487a4326903ae5d80a19f708": {
     "model_module": "@jupyter-widgets/base",
     "model_name": "LayoutModel",
     "state": {
      "_model_module": "@jupyter-widgets/base",
      "_model_module_version": "1.2.0",
      "_model_name": "LayoutModel",
      "_view_count": null,
      "_view_module": "@jupyter-widgets/base",
      "_view_module_version": "1.2.0",
      "_view_name": "LayoutView",
      "align_content": null,
      "align_items": null,
      "align_self": null,
      "border": null,
      "bottom": null,
      "display": null,
      "flex": null,
      "flex_flow": null,
      "grid_area": null,
      "grid_auto_columns": null,
      "grid_auto_flow": null,
      "grid_auto_rows": null,
      "grid_column": null,
      "grid_gap": null,
      "grid_row": null,
      "grid_template_areas": null,
      "grid_template_columns": null,
      "grid_template_rows": null,
      "height": null,
      "justify_content": null,
      "justify_items": null,
      "left": null,
      "margin": null,
      "max_height": null,
      "max_width": null,
      "min_height": null,
      "min_width": null,
      "object_fit": null,
      "object_position": null,
      "order": null,
      "overflow": null,
      "overflow_x": null,
      "overflow_y": null,
      "padding": null,
      "right": null,
      "top": null,
      "visibility": null,
      "width": null
     }
    },
    "181831b0e92b4245a9c09320e7d3930c": {
     "model_module": "@jupyter-widgets/base",
     "model_name": "LayoutModel",
     "state": {
      "_model_module": "@jupyter-widgets/base",
      "_model_module_version": "1.2.0",
      "_model_name": "LayoutModel",
      "_view_count": null,
      "_view_module": "@jupyter-widgets/base",
      "_view_module_version": "1.2.0",
      "_view_name": "LayoutView",
      "align_content": null,
      "align_items": null,
      "align_self": null,
      "border": null,
      "bottom": null,
      "display": null,
      "flex": null,
      "flex_flow": null,
      "grid_area": null,
      "grid_auto_columns": null,
      "grid_auto_flow": null,
      "grid_auto_rows": null,
      "grid_column": null,
      "grid_gap": null,
      "grid_row": null,
      "grid_template_areas": null,
      "grid_template_columns": null,
      "grid_template_rows": null,
      "height": null,
      "justify_content": null,
      "justify_items": null,
      "left": null,
      "margin": null,
      "max_height": null,
      "max_width": null,
      "min_height": null,
      "min_width": null,
      "object_fit": null,
      "object_position": null,
      "order": null,
      "overflow": null,
      "overflow_x": null,
      "overflow_y": null,
      "padding": null,
      "right": null,
      "top": null,
      "visibility": null,
      "width": null
     }
    },
    "1932c8a6e3ba4b6081e2c6069c0c4c0f": {
     "model_module": "@jupyter-widgets/base",
     "model_name": "LayoutModel",
     "state": {
      "_model_module": "@jupyter-widgets/base",
      "_model_module_version": "1.2.0",
      "_model_name": "LayoutModel",
      "_view_count": null,
      "_view_module": "@jupyter-widgets/base",
      "_view_module_version": "1.2.0",
      "_view_name": "LayoutView",
      "align_content": null,
      "align_items": null,
      "align_self": null,
      "border": null,
      "bottom": null,
      "display": null,
      "flex": null,
      "flex_flow": null,
      "grid_area": null,
      "grid_auto_columns": null,
      "grid_auto_flow": null,
      "grid_auto_rows": null,
      "grid_column": null,
      "grid_gap": null,
      "grid_row": null,
      "grid_template_areas": null,
      "grid_template_columns": null,
      "grid_template_rows": null,
      "height": null,
      "justify_content": null,
      "justify_items": null,
      "left": null,
      "margin": null,
      "max_height": null,
      "max_width": null,
      "min_height": null,
      "min_width": null,
      "object_fit": null,
      "object_position": null,
      "order": null,
      "overflow": null,
      "overflow_x": null,
      "overflow_y": null,
      "padding": null,
      "right": null,
      "top": null,
      "visibility": null,
      "width": null
     }
    },
    "1acedd95ea954fae80d51e10c31801af": {
     "model_module": "@jupyter-widgets/base",
     "model_name": "LayoutModel",
     "state": {
      "_model_module": "@jupyter-widgets/base",
      "_model_module_version": "1.2.0",
      "_model_name": "LayoutModel",
      "_view_count": null,
      "_view_module": "@jupyter-widgets/base",
      "_view_module_version": "1.2.0",
      "_view_name": "LayoutView",
      "align_content": null,
      "align_items": null,
      "align_self": null,
      "border": null,
      "bottom": null,
      "display": null,
      "flex": null,
      "flex_flow": null,
      "grid_area": null,
      "grid_auto_columns": null,
      "grid_auto_flow": null,
      "grid_auto_rows": null,
      "grid_column": null,
      "grid_gap": null,
      "grid_row": null,
      "grid_template_areas": null,
      "grid_template_columns": null,
      "grid_template_rows": null,
      "height": null,
      "justify_content": null,
      "justify_items": null,
      "left": null,
      "margin": null,
      "max_height": null,
      "max_width": null,
      "min_height": null,
      "min_width": null,
      "object_fit": null,
      "object_position": null,
      "order": null,
      "overflow": null,
      "overflow_x": null,
      "overflow_y": null,
      "padding": null,
      "right": null,
      "top": null,
      "visibility": null,
      "width": null
     }
    },
    "1af482932cbe43cdb376f7b494339bf5": {
     "model_module": "@jupyter-widgets/controls",
     "model_name": "HBoxModel",
     "state": {
      "_dom_classes": [],
      "_model_module": "@jupyter-widgets/controls",
      "_model_module_version": "1.5.0",
      "_model_name": "HBoxModel",
      "_view_count": null,
      "_view_module": "@jupyter-widgets/controls",
      "_view_module_version": "1.5.0",
      "_view_name": "HBoxView",
      "box_style": "",
      "children": [
       "IPY_MODEL_a50b59ec5084436c9db1787774ef4a17",
       "IPY_MODEL_2cbbd5a4f3c14bd1a4e9b3f220b3d505"
      ],
      "layout": "IPY_MODEL_ee0771ba919f47e6a679aca7928768cf"
     }
    },
    "2077e682708c40d7867bffd19ac0796f": {
     "model_module": "@jupyter-widgets/controls",
     "model_name": "DescriptionStyleModel",
     "state": {
      "_model_module": "@jupyter-widgets/controls",
      "_model_module_version": "1.5.0",
      "_model_name": "DescriptionStyleModel",
      "_view_count": null,
      "_view_module": "@jupyter-widgets/base",
      "_view_module_version": "1.2.0",
      "_view_name": "StyleView",
      "description_width": ""
     }
    },
    "22dbd07ab97a4a3a98d14227cd834a4a": {
     "model_module": "@jupyter-widgets/base",
     "model_name": "LayoutModel",
     "state": {
      "_model_module": "@jupyter-widgets/base",
      "_model_module_version": "1.2.0",
      "_model_name": "LayoutModel",
      "_view_count": null,
      "_view_module": "@jupyter-widgets/base",
      "_view_module_version": "1.2.0",
      "_view_name": "LayoutView",
      "align_content": null,
      "align_items": null,
      "align_self": null,
      "border": null,
      "bottom": null,
      "display": null,
      "flex": null,
      "flex_flow": null,
      "grid_area": null,
      "grid_auto_columns": null,
      "grid_auto_flow": null,
      "grid_auto_rows": null,
      "grid_column": null,
      "grid_gap": null,
      "grid_row": null,
      "grid_template_areas": null,
      "grid_template_columns": null,
      "grid_template_rows": null,
      "height": null,
      "justify_content": null,
      "justify_items": null,
      "left": null,
      "margin": null,
      "max_height": null,
      "max_width": null,
      "min_height": null,
      "min_width": null,
      "object_fit": null,
      "object_position": null,
      "order": null,
      "overflow": null,
      "overflow_x": null,
      "overflow_y": null,
      "padding": null,
      "right": null,
      "top": null,
      "visibility": null,
      "width": null
     }
    },
    "23260c767c1f4ea9a26d215c29d5c66d": {
     "model_module": "@jupyter-widgets/controls",
     "model_name": "DescriptionStyleModel",
     "state": {
      "_model_module": "@jupyter-widgets/controls",
      "_model_module_version": "1.5.0",
      "_model_name": "DescriptionStyleModel",
      "_view_count": null,
      "_view_module": "@jupyter-widgets/base",
      "_view_module_version": "1.2.0",
      "_view_name": "StyleView",
      "description_width": ""
     }
    },
    "2798cb8389cf448e95bf5e31c74777a5": {
     "model_module": "@jupyter-widgets/base",
     "model_name": "LayoutModel",
     "state": {
      "_model_module": "@jupyter-widgets/base",
      "_model_module_version": "1.2.0",
      "_model_name": "LayoutModel",
      "_view_count": null,
      "_view_module": "@jupyter-widgets/base",
      "_view_module_version": "1.2.0",
      "_view_name": "LayoutView",
      "align_content": null,
      "align_items": null,
      "align_self": null,
      "border": null,
      "bottom": null,
      "display": null,
      "flex": null,
      "flex_flow": null,
      "grid_area": null,
      "grid_auto_columns": null,
      "grid_auto_flow": null,
      "grid_auto_rows": null,
      "grid_column": null,
      "grid_gap": null,
      "grid_row": null,
      "grid_template_areas": null,
      "grid_template_columns": null,
      "grid_template_rows": null,
      "height": null,
      "justify_content": null,
      "justify_items": null,
      "left": null,
      "margin": null,
      "max_height": null,
      "max_width": null,
      "min_height": null,
      "min_width": null,
      "object_fit": null,
      "object_position": null,
      "order": null,
      "overflow": null,
      "overflow_x": null,
      "overflow_y": null,
      "padding": null,
      "right": null,
      "top": null,
      "visibility": null,
      "width": null
     }
    },
    "29bc2d141a234d7f93b8440a9c1007d9": {
     "model_module": "@jupyter-widgets/base",
     "model_name": "LayoutModel",
     "state": {
      "_model_module": "@jupyter-widgets/base",
      "_model_module_version": "1.2.0",
      "_model_name": "LayoutModel",
      "_view_count": null,
      "_view_module": "@jupyter-widgets/base",
      "_view_module_version": "1.2.0",
      "_view_name": "LayoutView",
      "align_content": null,
      "align_items": null,
      "align_self": null,
      "border": null,
      "bottom": null,
      "display": null,
      "flex": null,
      "flex_flow": null,
      "grid_area": null,
      "grid_auto_columns": null,
      "grid_auto_flow": null,
      "grid_auto_rows": null,
      "grid_column": null,
      "grid_gap": null,
      "grid_row": null,
      "grid_template_areas": null,
      "grid_template_columns": null,
      "grid_template_rows": null,
      "height": null,
      "justify_content": null,
      "justify_items": null,
      "left": null,
      "margin": null,
      "max_height": null,
      "max_width": null,
      "min_height": null,
      "min_width": null,
      "object_fit": null,
      "object_position": null,
      "order": null,
      "overflow": null,
      "overflow_x": null,
      "overflow_y": null,
      "padding": null,
      "right": null,
      "top": null,
      "visibility": null,
      "width": null
     }
    },
    "2a0e12e923bf4ccab686f6d4729c68f5": {
     "model_module": "@jupyter-widgets/base",
     "model_name": "LayoutModel",
     "state": {
      "_model_module": "@jupyter-widgets/base",
      "_model_module_version": "1.2.0",
      "_model_name": "LayoutModel",
      "_view_count": null,
      "_view_module": "@jupyter-widgets/base",
      "_view_module_version": "1.2.0",
      "_view_name": "LayoutView",
      "align_content": null,
      "align_items": null,
      "align_self": null,
      "border": null,
      "bottom": null,
      "display": null,
      "flex": null,
      "flex_flow": null,
      "grid_area": null,
      "grid_auto_columns": null,
      "grid_auto_flow": null,
      "grid_auto_rows": null,
      "grid_column": null,
      "grid_gap": null,
      "grid_row": null,
      "grid_template_areas": null,
      "grid_template_columns": null,
      "grid_template_rows": null,
      "height": null,
      "justify_content": null,
      "justify_items": null,
      "left": null,
      "margin": null,
      "max_height": null,
      "max_width": null,
      "min_height": null,
      "min_width": null,
      "object_fit": null,
      "object_position": null,
      "order": null,
      "overflow": null,
      "overflow_x": null,
      "overflow_y": null,
      "padding": null,
      "right": null,
      "top": null,
      "visibility": null,
      "width": null
     }
    },
    "2b67d9448f1a47ccb7182af8c5fc7471": {
     "model_module": "@jupyter-widgets/controls",
     "model_name": "HBoxModel",
     "state": {
      "_dom_classes": [],
      "_model_module": "@jupyter-widgets/controls",
      "_model_module_version": "1.5.0",
      "_model_name": "HBoxModel",
      "_view_count": null,
      "_view_module": "@jupyter-widgets/controls",
      "_view_module_version": "1.5.0",
      "_view_name": "HBoxView",
      "box_style": "",
      "children": [
       "IPY_MODEL_0f09cbfe0f9e4b5896f71f14db855964",
       "IPY_MODEL_9bbd4bd6ea034d4bbb0382c0a7918368"
      ],
      "layout": "IPY_MODEL_2798cb8389cf448e95bf5e31c74777a5"
     }
    },
    "2b96ff14c3ce40889231e4061356c97a": {
     "model_module": "@jupyter-widgets/controls",
     "model_name": "HTMLModel",
     "state": {
      "_dom_classes": [],
      "_model_module": "@jupyter-widgets/controls",
      "_model_module_version": "1.5.0",
      "_model_name": "HTMLModel",
      "_view_count": null,
      "_view_module": "@jupyter-widgets/controls",
      "_view_module_version": "1.5.0",
      "_view_name": "HTMLView",
      "description": "",
      "description_tooltip": null,
      "layout": "IPY_MODEL_50975fb585a040c78294fda5138d59a4",
      "placeholder": "​",
      "style": "IPY_MODEL_81af707873804a438f55feb831f309af",
      "value": " 2.00/2.00 [00:00&lt;00:00, 18.5B/s]"
     }
    },
    "2c8a08b819284403ad233f372ac8d809": {
     "model_module": "@jupyter-widgets/controls",
     "model_name": "FloatProgressModel",
     "state": {
      "_dom_classes": [],
      "_model_module": "@jupyter-widgets/controls",
      "_model_module_version": "1.5.0",
      "_model_name": "FloatProgressModel",
      "_view_count": null,
      "_view_module": "@jupyter-widgets/controls",
      "_view_module_version": "1.5.0",
      "_view_name": "ProgressView",
      "bar_style": "",
      "description": " 98%",
      "description_tooltip": null,
      "layout": "IPY_MODEL_22dbd07ab97a4a3a98d14227cd834a4a",
      "max": 66,
      "min": 0,
      "orientation": "horizontal",
      "style": "IPY_MODEL_ae7f2c3ba7944c83802245d840a1ec20",
      "value": 65
     }
    },
    "2cbbd5a4f3c14bd1a4e9b3f220b3d505": {
     "model_module": "@jupyter-widgets/controls",
     "model_name": "HTMLModel",
     "state": {
      "_dom_classes": [],
      "_model_module": "@jupyter-widgets/controls",
      "_model_module_version": "1.5.0",
      "_model_name": "HTMLModel",
      "_view_count": null,
      "_view_module": "@jupyter-widgets/controls",
      "_view_module_version": "1.5.0",
      "_view_name": "HTMLView",
      "description": "",
      "description_tooltip": null,
      "layout": "IPY_MODEL_ffd8c582ead64fdab6c81d830781ef69",
      "placeholder": "​",
      "style": "IPY_MODEL_c36ff6315bd44ea8a251a31d3d98a1c2",
      "value": " 13234/13234 [6:45:15&lt;00:00,  1.84s/it, loss=0.431]"
     }
    },
    "2dbe4b237f7646368a5164a7b9e39cd7": {
     "model_module": "@jupyter-widgets/controls",
     "model_name": "HTMLModel",
     "state": {
      "_dom_classes": [],
      "_model_module": "@jupyter-widgets/controls",
      "_model_module_version": "1.5.0",
      "_model_name": "HTMLModel",
      "_view_count": null,
      "_view_module": "@jupyter-widgets/controls",
      "_view_module_version": "1.5.0",
      "_view_name": "HTMLView",
      "description": "",
      "description_tooltip": null,
      "layout": "IPY_MODEL_d9655f1438844d59b9df243a01c1e253",
      "placeholder": "​",
      "style": "IPY_MODEL_e2b4a9892734480b8d6d8d6027a92a5f",
      "value": " 65/66 [2:25:37&lt;02:48, 168.03s/it]"
     }
    },
    "2e110e21ca9f49d89d319a0cc34bf770": {
     "model_module": "@jupyter-widgets/controls",
     "model_name": "HBoxModel",
     "state": {
      "_dom_classes": [],
      "_model_module": "@jupyter-widgets/controls",
      "_model_module_version": "1.5.0",
      "_model_name": "HBoxModel",
      "_view_count": null,
      "_view_module": "@jupyter-widgets/controls",
      "_view_module_version": "1.5.0",
      "_view_name": "HBoxView",
      "box_style": "",
      "children": [
       "IPY_MODEL_dd64884844b44e52b0fee0bdbb65359e",
       "IPY_MODEL_8555c760c9814f9f99213abbcf136149"
      ],
      "layout": "IPY_MODEL_11ef5ba6487a4326903ae5d80a19f708"
     }
    },
    "2f34b475dd394bc7a505dd4633772768": {
     "model_module": "@jupyter-widgets/controls",
     "model_name": "DescriptionStyleModel",
     "state": {
      "_model_module": "@jupyter-widgets/controls",
      "_model_module_version": "1.5.0",
      "_model_name": "DescriptionStyleModel",
      "_view_count": null,
      "_view_module": "@jupyter-widgets/base",
      "_view_module_version": "1.2.0",
      "_view_name": "StyleView",
      "description_width": ""
     }
    },
    "3402e47e6b0441d48d0bf921ec811f03": {
     "model_module": "@jupyter-widgets/base",
     "model_name": "LayoutModel",
     "state": {
      "_model_module": "@jupyter-widgets/base",
      "_model_module_version": "1.2.0",
      "_model_name": "LayoutModel",
      "_view_count": null,
      "_view_module": "@jupyter-widgets/base",
      "_view_module_version": "1.2.0",
      "_view_name": "LayoutView",
      "align_content": null,
      "align_items": null,
      "align_self": null,
      "border": null,
      "bottom": null,
      "display": null,
      "flex": null,
      "flex_flow": null,
      "grid_area": null,
      "grid_auto_columns": null,
      "grid_auto_flow": null,
      "grid_auto_rows": null,
      "grid_column": null,
      "grid_gap": null,
      "grid_row": null,
      "grid_template_areas": null,
      "grid_template_columns": null,
      "grid_template_rows": null,
      "height": null,
      "justify_content": null,
      "justify_items": null,
      "left": null,
      "margin": null,
      "max_height": null,
      "max_width": null,
      "min_height": null,
      "min_width": null,
      "object_fit": null,
      "object_position": null,
      "order": null,
      "overflow": null,
      "overflow_x": null,
      "overflow_y": null,
      "padding": null,
      "right": null,
      "top": null,
      "visibility": null,
      "width": null
     }
    },
    "383d7c23cf2e483daa4b11502b13df20": {
     "model_module": "@jupyter-widgets/controls",
     "model_name": "FloatProgressModel",
     "state": {
      "_dom_classes": [],
      "_model_module": "@jupyter-widgets/controls",
      "_model_module_version": "1.5.0",
      "_model_name": "FloatProgressModel",
      "_view_count": null,
      "_view_module": "@jupyter-widgets/controls",
      "_view_module_version": "1.5.0",
      "_view_name": "ProgressView",
      "bar_style": "success",
      "description": "100%",
      "description_tooltip": null,
      "layout": "IPY_MODEL_9a00f46008b243f886ef03ccd0597c73",
      "max": 13234,
      "min": 0,
      "orientation": "horizontal",
      "style": "IPY_MODEL_6a61d29d1f6149d484980a0fbe45b211",
      "value": 13234
     }
    },
    "3e11f50adef34484ba1da5967764df5c": {
     "model_module": "@jupyter-widgets/controls",
     "model_name": "HBoxModel",
     "state": {
      "_dom_classes": [],
      "_model_module": "@jupyter-widgets/controls",
      "_model_module_version": "1.5.0",
      "_model_name": "HBoxModel",
      "_view_count": null,
      "_view_module": "@jupyter-widgets/controls",
      "_view_module_version": "1.5.0",
      "_view_name": "HBoxView",
      "box_style": "",
      "children": [
       "IPY_MODEL_51487afb4c384e028089fc6302ad4487",
       "IPY_MODEL_bb71e4f07d024355a1cc8ffdb40067de"
      ],
      "layout": "IPY_MODEL_2a0e12e923bf4ccab686f6d4729c68f5"
     }
    },
    "3ef27f8506384411b7dfdba9af27373d": {
     "model_module": "@jupyter-widgets/controls",
     "model_name": "FloatProgressModel",
     "state": {
      "_dom_classes": [],
      "_model_module": "@jupyter-widgets/controls",
      "_model_module_version": "1.5.0",
      "_model_name": "FloatProgressModel",
      "_view_count": null,
      "_view_module": "@jupyter-widgets/controls",
      "_view_module_version": "1.5.0",
      "_view_name": "ProgressView",
      "bar_style": "success",
      "description": "Downloading: 100%",
      "description_tooltip": null,
      "layout": "IPY_MODEL_85c73029e74c4e78b38227666e7667c0",
      "max": 459,
      "min": 0,
      "orientation": "horizontal",
      "style": "IPY_MODEL_9eb68a7b28be454c8700a3b478c341b3",
      "value": 459
     }
    },
    "4147b85d8984468cb6f02879aa649653": {
     "model_module": "@jupyter-widgets/base",
     "model_name": "LayoutModel",
     "state": {
      "_model_module": "@jupyter-widgets/base",
      "_model_module_version": "1.2.0",
      "_model_name": "LayoutModel",
      "_view_count": null,
      "_view_module": "@jupyter-widgets/base",
      "_view_module_version": "1.2.0",
      "_view_name": "LayoutView",
      "align_content": null,
      "align_items": null,
      "align_self": null,
      "border": null,
      "bottom": null,
      "display": null,
      "flex": null,
      "flex_flow": null,
      "grid_area": null,
      "grid_auto_columns": null,
      "grid_auto_flow": null,
      "grid_auto_rows": null,
      "grid_column": null,
      "grid_gap": null,
      "grid_row": null,
      "grid_template_areas": null,
      "grid_template_columns": null,
      "grid_template_rows": null,
      "height": null,
      "justify_content": null,
      "justify_items": null,
      "left": null,
      "margin": null,
      "max_height": null,
      "max_width": null,
      "min_height": null,
      "min_width": null,
      "object_fit": null,
      "object_position": null,
      "order": null,
      "overflow": null,
      "overflow_x": null,
      "overflow_y": null,
      "padding": null,
      "right": null,
      "top": null,
      "visibility": null,
      "width": null
     }
    },
    "42096046c73d42bb90d4d3c3cc82f69f": {
     "model_module": "@jupyter-widgets/controls",
     "model_name": "HTMLModel",
     "state": {
      "_dom_classes": [],
      "_model_module": "@jupyter-widgets/controls",
      "_model_module_version": "1.5.0",
      "_model_name": "HTMLModel",
      "_view_count": null,
      "_view_module": "@jupyter-widgets/controls",
      "_view_module_version": "1.5.0",
      "_view_name": "HTMLView",
      "description": "",
      "description_tooltip": null,
      "layout": "IPY_MODEL_29bc2d141a234d7f93b8440a9c1007d9",
      "placeholder": "​",
      "style": "IPY_MODEL_abcb33629df941118ff45ad82803aa22",
      "value": " 1250/1250 [02:11&lt;00:00,  9.47it/s]"
     }
    },
    "43109e9af42a41a08d6f253731acb59d": {
     "model_module": "@jupyter-widgets/base",
     "model_name": "LayoutModel",
     "state": {
      "_model_module": "@jupyter-widgets/base",
      "_model_module_version": "1.2.0",
      "_model_name": "LayoutModel",
      "_view_count": null,
      "_view_module": "@jupyter-widgets/base",
      "_view_module_version": "1.2.0",
      "_view_name": "LayoutView",
      "align_content": null,
      "align_items": null,
      "align_self": null,
      "border": null,
      "bottom": null,
      "display": null,
      "flex": null,
      "flex_flow": null,
      "grid_area": null,
      "grid_auto_columns": null,
      "grid_auto_flow": null,
      "grid_auto_rows": null,
      "grid_column": null,
      "grid_gap": null,
      "grid_row": null,
      "grid_template_areas": null,
      "grid_template_columns": null,
      "grid_template_rows": null,
      "height": null,
      "justify_content": null,
      "justify_items": null,
      "left": null,
      "margin": null,
      "max_height": null,
      "max_width": null,
      "min_height": null,
      "min_width": null,
      "object_fit": null,
      "object_position": null,
      "order": null,
      "overflow": null,
      "overflow_x": null,
      "overflow_y": null,
      "padding": null,
      "right": null,
      "top": null,
      "visibility": null,
      "width": null
     }
    },
    "4451990ad99e46cb997ec81d6a9f4d5b": {
     "model_module": "@jupyter-widgets/controls",
     "model_name": "HTMLModel",
     "state": {
      "_dom_classes": [],
      "_model_module": "@jupyter-widgets/controls",
      "_model_module_version": "1.5.0",
      "_model_name": "HTMLModel",
      "_view_count": null,
      "_view_module": "@jupyter-widgets/controls",
      "_view_module_version": "1.5.0",
      "_view_name": "HTMLView",
      "description": "",
      "description_tooltip": null,
      "layout": "IPY_MODEL_73542906b1c24e08b0224d5421a101c0",
      "placeholder": "​",
      "style": "IPY_MODEL_9bf663a5ecd44737a9e8cecd9ee1b66b",
      "value": " 495k/495k [00:00&lt;00:00, 1.50MB/s]"
     }
    },
    "44e173cbe6ce4178aecf82aef958523d": {
     "model_module": "@jupyter-widgets/controls",
     "model_name": "DescriptionStyleModel",
     "state": {
      "_model_module": "@jupyter-widgets/controls",
      "_model_module_version": "1.5.0",
      "_model_name": "DescriptionStyleModel",
      "_view_count": null,
      "_view_module": "@jupyter-widgets/base",
      "_view_module_version": "1.2.0",
      "_view_name": "StyleView",
      "description_width": ""
     }
    },
    "45760af16b7341f59643d010d9e6f99a": {
     "model_module": "@jupyter-widgets/base",
     "model_name": "LayoutModel",
     "state": {
      "_model_module": "@jupyter-widgets/base",
      "_model_module_version": "1.2.0",
      "_model_name": "LayoutModel",
      "_view_count": null,
      "_view_module": "@jupyter-widgets/base",
      "_view_module_version": "1.2.0",
      "_view_name": "LayoutView",
      "align_content": null,
      "align_items": null,
      "align_self": null,
      "border": null,
      "bottom": null,
      "display": null,
      "flex": null,
      "flex_flow": null,
      "grid_area": null,
      "grid_auto_columns": null,
      "grid_auto_flow": null,
      "grid_auto_rows": null,
      "grid_column": null,
      "grid_gap": null,
      "grid_row": null,
      "grid_template_areas": null,
      "grid_template_columns": null,
      "grid_template_rows": null,
      "height": null,
      "justify_content": null,
      "justify_items": null,
      "left": null,
      "margin": null,
      "max_height": null,
      "max_width": null,
      "min_height": null,
      "min_width": null,
      "object_fit": null,
      "object_position": null,
      "order": null,
      "overflow": null,
      "overflow_x": null,
      "overflow_y": null,
      "padding": null,
      "right": null,
      "top": null,
      "visibility": null,
      "width": null
     }
    },
    "45847f0073864751a441ccd25d83af4c": {
     "model_module": "@jupyter-widgets/base",
     "model_name": "LayoutModel",
     "state": {
      "_model_module": "@jupyter-widgets/base",
      "_model_module_version": "1.2.0",
      "_model_name": "LayoutModel",
      "_view_count": null,
      "_view_module": "@jupyter-widgets/base",
      "_view_module_version": "1.2.0",
      "_view_name": "LayoutView",
      "align_content": null,
      "align_items": null,
      "align_self": null,
      "border": null,
      "bottom": null,
      "display": null,
      "flex": null,
      "flex_flow": null,
      "grid_area": null,
      "grid_auto_columns": null,
      "grid_auto_flow": null,
      "grid_auto_rows": null,
      "grid_column": null,
      "grid_gap": null,
      "grid_row": null,
      "grid_template_areas": null,
      "grid_template_columns": null,
      "grid_template_rows": null,
      "height": null,
      "justify_content": null,
      "justify_items": null,
      "left": null,
      "margin": null,
      "max_height": null,
      "max_width": null,
      "min_height": null,
      "min_width": null,
      "object_fit": null,
      "object_position": null,
      "order": null,
      "overflow": null,
      "overflow_x": null,
      "overflow_y": null,
      "padding": null,
      "right": null,
      "top": null,
      "visibility": null,
      "width": null
     }
    },
    "497cd40238a64b7ba30c9cdded20c707": {
     "model_module": "@jupyter-widgets/base",
     "model_name": "LayoutModel",
     "state": {
      "_model_module": "@jupyter-widgets/base",
      "_model_module_version": "1.2.0",
      "_model_name": "LayoutModel",
      "_view_count": null,
      "_view_module": "@jupyter-widgets/base",
      "_view_module_version": "1.2.0",
      "_view_name": "LayoutView",
      "align_content": null,
      "align_items": null,
      "align_self": null,
      "border": null,
      "bottom": null,
      "display": null,
      "flex": null,
      "flex_flow": null,
      "grid_area": null,
      "grid_auto_columns": null,
      "grid_auto_flow": null,
      "grid_auto_rows": null,
      "grid_column": null,
      "grid_gap": null,
      "grid_row": null,
      "grid_template_areas": null,
      "grid_template_columns": null,
      "grid_template_rows": null,
      "height": null,
      "justify_content": null,
      "justify_items": null,
      "left": null,
      "margin": null,
      "max_height": null,
      "max_width": null,
      "min_height": null,
      "min_width": null,
      "object_fit": null,
      "object_position": null,
      "order": null,
      "overflow": null,
      "overflow_x": null,
      "overflow_y": null,
      "padding": null,
      "right": null,
      "top": null,
      "visibility": null,
      "width": null
     }
    },
    "4e95b7331a9447c2b3d29cbccfe5fc21": {
     "model_module": "@jupyter-widgets/controls",
     "model_name": "DescriptionStyleModel",
     "state": {
      "_model_module": "@jupyter-widgets/controls",
      "_model_module_version": "1.5.0",
      "_model_name": "DescriptionStyleModel",
      "_view_count": null,
      "_view_module": "@jupyter-widgets/base",
      "_view_module_version": "1.2.0",
      "_view_name": "StyleView",
      "description_width": ""
     }
    },
    "4ef5230f8216468186c7bd8831a1b640": {
     "model_module": "@jupyter-widgets/controls",
     "model_name": "ProgressStyleModel",
     "state": {
      "_model_module": "@jupyter-widgets/controls",
      "_model_module_version": "1.5.0",
      "_model_name": "ProgressStyleModel",
      "_view_count": null,
      "_view_module": "@jupyter-widgets/base",
      "_view_module_version": "1.2.0",
      "_view_name": "StyleView",
      "bar_color": null,
      "description_width": "initial"
     }
    },
    "50975fb585a040c78294fda5138d59a4": {
     "model_module": "@jupyter-widgets/base",
     "model_name": "LayoutModel",
     "state": {
      "_model_module": "@jupyter-widgets/base",
      "_model_module_version": "1.2.0",
      "_model_name": "LayoutModel",
      "_view_count": null,
      "_view_module": "@jupyter-widgets/base",
      "_view_module_version": "1.2.0",
      "_view_name": "LayoutView",
      "align_content": null,
      "align_items": null,
      "align_self": null,
      "border": null,
      "bottom": null,
      "display": null,
      "flex": null,
      "flex_flow": null,
      "grid_area": null,
      "grid_auto_columns": null,
      "grid_auto_flow": null,
      "grid_auto_rows": null,
      "grid_column": null,
      "grid_gap": null,
      "grid_row": null,
      "grid_template_areas": null,
      "grid_template_columns": null,
      "grid_template_rows": null,
      "height": null,
      "justify_content": null,
      "justify_items": null,
      "left": null,
      "margin": null,
      "max_height": null,
      "max_width": null,
      "min_height": null,
      "min_width": null,
      "object_fit": null,
      "object_position": null,
      "order": null,
      "overflow": null,
      "overflow_x": null,
      "overflow_y": null,
      "padding": null,
      "right": null,
      "top": null,
      "visibility": null,
      "width": null
     }
    },
    "51487afb4c384e028089fc6302ad4487": {
     "model_module": "@jupyter-widgets/controls",
     "model_name": "FloatProgressModel",
     "state": {
      "_dom_classes": [],
      "_model_module": "@jupyter-widgets/controls",
      "_model_module_version": "1.5.0",
      "_model_name": "FloatProgressModel",
      "_view_count": null,
      "_view_module": "@jupyter-widgets/controls",
      "_view_module_version": "1.5.0",
      "_view_name": "ProgressView",
      "bar_style": "success",
      "description": "Downloading: 100%",
      "description_tooltip": null,
      "layout": "IPY_MODEL_e41a546489cf4cafabf75c09056fe92f",
      "max": 531146902,
      "min": 0,
      "orientation": "horizontal",
      "style": "IPY_MODEL_f6423eea4bc149e89b00527a9bcc67b9",
      "value": 531146902
     }
    },
    "52ac546bacfc465dbe8ea727972ad4ca": {
     "model_module": "@jupyter-widgets/base",
     "model_name": "LayoutModel",
     "state": {
      "_model_module": "@jupyter-widgets/base",
      "_model_module_version": "1.2.0",
      "_model_name": "LayoutModel",
      "_view_count": null,
      "_view_module": "@jupyter-widgets/base",
      "_view_module_version": "1.2.0",
      "_view_name": "LayoutView",
      "align_content": null,
      "align_items": null,
      "align_self": null,
      "border": null,
      "bottom": null,
      "display": null,
      "flex": null,
      "flex_flow": null,
      "grid_area": null,
      "grid_auto_columns": null,
      "grid_auto_flow": null,
      "grid_auto_rows": null,
      "grid_column": null,
      "grid_gap": null,
      "grid_row": null,
      "grid_template_areas": null,
      "grid_template_columns": null,
      "grid_template_rows": null,
      "height": null,
      "justify_content": null,
      "justify_items": null,
      "left": null,
      "margin": null,
      "max_height": null,
      "max_width": null,
      "min_height": null,
      "min_width": null,
      "object_fit": null,
      "object_position": null,
      "order": null,
      "overflow": null,
      "overflow_x": null,
      "overflow_y": null,
      "padding": null,
      "right": null,
      "top": null,
      "visibility": null,
      "width": null
     }
    },
    "537825165b284588b41a9798826f4897": {
     "model_module": "@jupyter-widgets/base",
     "model_name": "LayoutModel",
     "state": {
      "_model_module": "@jupyter-widgets/base",
      "_model_module_version": "1.2.0",
      "_model_name": "LayoutModel",
      "_view_count": null,
      "_view_module": "@jupyter-widgets/base",
      "_view_module_version": "1.2.0",
      "_view_name": "LayoutView",
      "align_content": null,
      "align_items": null,
      "align_self": null,
      "border": null,
      "bottom": null,
      "display": null,
      "flex": null,
      "flex_flow": null,
      "grid_area": null,
      "grid_auto_columns": null,
      "grid_auto_flow": null,
      "grid_auto_rows": null,
      "grid_column": null,
      "grid_gap": null,
      "grid_row": null,
      "grid_template_areas": null,
      "grid_template_columns": null,
      "grid_template_rows": null,
      "height": null,
      "justify_content": null,
      "justify_items": null,
      "left": null,
      "margin": null,
      "max_height": null,
      "max_width": null,
      "min_height": null,
      "min_width": null,
      "object_fit": null,
      "object_position": null,
      "order": null,
      "overflow": null,
      "overflow_x": null,
      "overflow_y": null,
      "padding": null,
      "right": null,
      "top": null,
      "visibility": null,
      "width": null
     }
    },
    "5421f36e7a6544cf8773160be5e3ce37": {
     "model_module": "@jupyter-widgets/base",
     "model_name": "LayoutModel",
     "state": {
      "_model_module": "@jupyter-widgets/base",
      "_model_module_version": "1.2.0",
      "_model_name": "LayoutModel",
      "_view_count": null,
      "_view_module": "@jupyter-widgets/base",
      "_view_module_version": "1.2.0",
      "_view_name": "LayoutView",
      "align_content": null,
      "align_items": null,
      "align_self": null,
      "border": null,
      "bottom": null,
      "display": null,
      "flex": null,
      "flex_flow": null,
      "grid_area": null,
      "grid_auto_columns": null,
      "grid_auto_flow": null,
      "grid_auto_rows": null,
      "grid_column": null,
      "grid_gap": null,
      "grid_row": null,
      "grid_template_areas": null,
      "grid_template_columns": null,
      "grid_template_rows": null,
      "height": null,
      "justify_content": null,
      "justify_items": null,
      "left": null,
      "margin": null,
      "max_height": null,
      "max_width": null,
      "min_height": null,
      "min_width": null,
      "object_fit": null,
      "object_position": null,
      "order": null,
      "overflow": null,
      "overflow_x": null,
      "overflow_y": null,
      "padding": null,
      "right": null,
      "top": null,
      "visibility": null,
      "width": null
     }
    },
    "596d87ceec0442878cd0d7260be3657e": {
     "model_module": "@jupyter-widgets/controls",
     "model_name": "HBoxModel",
     "state": {
      "_dom_classes": [],
      "_model_module": "@jupyter-widgets/controls",
      "_model_module_version": "1.5.0",
      "_model_name": "HBoxModel",
      "_view_count": null,
      "_view_module": "@jupyter-widgets/controls",
      "_view_module_version": "1.5.0",
      "_view_name": "HBoxView",
      "box_style": "",
      "children": [
       "IPY_MODEL_6736c3caaf214998a81bbe7542c55946",
       "IPY_MODEL_c8203145aa144a838c74f0f8ed449cc8"
      ],
      "layout": "IPY_MODEL_1188b7e4d0424a40851423e41263d474"
     }
    },
    "5a989f3926b04415bad193646e527c99": {
     "model_module": "@jupyter-widgets/controls",
     "model_name": "DescriptionStyleModel",
     "state": {
      "_model_module": "@jupyter-widgets/controls",
      "_model_module_version": "1.5.0",
      "_model_name": "DescriptionStyleModel",
      "_view_count": null,
      "_view_module": "@jupyter-widgets/base",
      "_view_module_version": "1.2.0",
      "_view_name": "StyleView",
      "description_width": ""
     }
    },
    "5ad656e442f94b0ab2ba15268dfe2879": {
     "model_module": "@jupyter-widgets/base",
     "model_name": "LayoutModel",
     "state": {
      "_model_module": "@jupyter-widgets/base",
      "_model_module_version": "1.2.0",
      "_model_name": "LayoutModel",
      "_view_count": null,
      "_view_module": "@jupyter-widgets/base",
      "_view_module_version": "1.2.0",
      "_view_name": "LayoutView",
      "align_content": null,
      "align_items": null,
      "align_self": null,
      "border": null,
      "bottom": null,
      "display": null,
      "flex": null,
      "flex_flow": null,
      "grid_area": null,
      "grid_auto_columns": null,
      "grid_auto_flow": null,
      "grid_auto_rows": null,
      "grid_column": null,
      "grid_gap": null,
      "grid_row": null,
      "grid_template_areas": null,
      "grid_template_columns": null,
      "grid_template_rows": null,
      "height": null,
      "justify_content": null,
      "justify_items": null,
      "left": null,
      "margin": null,
      "max_height": null,
      "max_width": null,
      "min_height": null,
      "min_width": null,
      "object_fit": null,
      "object_position": null,
      "order": null,
      "overflow": null,
      "overflow_x": null,
      "overflow_y": null,
      "padding": null,
      "right": null,
      "top": null,
      "visibility": null,
      "width": null
     }
    },
    "5b00a80c66d240c5aedbaab4a6e6acac": {
     "model_module": "@jupyter-widgets/controls",
     "model_name": "FloatProgressModel",
     "state": {
      "_dom_classes": [],
      "_model_module": "@jupyter-widgets/controls",
      "_model_module_version": "1.5.0",
      "_model_name": "FloatProgressModel",
      "_view_count": null,
      "_view_module": "@jupyter-widgets/controls",
      "_view_module_version": "1.5.0",
      "_view_name": "ProgressView",
      "bar_style": "success",
      "description": "100%",
      "description_tooltip": null,
      "layout": "IPY_MODEL_45760af16b7341f59643d010d9e6f99a",
      "max": 1250,
      "min": 0,
      "orientation": "horizontal",
      "style": "IPY_MODEL_eb60511f27844ce3b9c89d605f028e29",
      "value": 1250
     }
    },
    "5bffc38992da4cf6aded83cd1dde6a18": {
     "model_module": "@jupyter-widgets/controls",
     "model_name": "ProgressStyleModel",
     "state": {
      "_model_module": "@jupyter-widgets/controls",
      "_model_module_version": "1.5.0",
      "_model_name": "ProgressStyleModel",
      "_view_count": null,
      "_view_module": "@jupyter-widgets/base",
      "_view_module_version": "1.2.0",
      "_view_name": "StyleView",
      "bar_color": null,
      "description_width": "initial"
     }
    },
    "6046cced038c46fd8a72445cf11f01c8": {
     "model_module": "@jupyter-widgets/base",
     "model_name": "LayoutModel",
     "state": {
      "_model_module": "@jupyter-widgets/base",
      "_model_module_version": "1.2.0",
      "_model_name": "LayoutModel",
      "_view_count": null,
      "_view_module": "@jupyter-widgets/base",
      "_view_module_version": "1.2.0",
      "_view_name": "LayoutView",
      "align_content": null,
      "align_items": null,
      "align_self": null,
      "border": null,
      "bottom": null,
      "display": null,
      "flex": null,
      "flex_flow": null,
      "grid_area": null,
      "grid_auto_columns": null,
      "grid_auto_flow": null,
      "grid_auto_rows": null,
      "grid_column": null,
      "grid_gap": null,
      "grid_row": null,
      "grid_template_areas": null,
      "grid_template_columns": null,
      "grid_template_rows": null,
      "height": null,
      "justify_content": null,
      "justify_items": null,
      "left": null,
      "margin": null,
      "max_height": null,
      "max_width": null,
      "min_height": null,
      "min_width": null,
      "object_fit": null,
      "object_position": null,
      "order": null,
      "overflow": null,
      "overflow_x": null,
      "overflow_y": null,
      "padding": null,
      "right": null,
      "top": null,
      "visibility": null,
      "width": null
     }
    },
    "616ad06edbad4601ad6736b93f5157c0": {
     "model_module": "@jupyter-widgets/controls",
     "model_name": "HBoxModel",
     "state": {
      "_dom_classes": [],
      "_model_module": "@jupyter-widgets/controls",
      "_model_module_version": "1.5.0",
      "_model_name": "HBoxModel",
      "_view_count": null,
      "_view_module": "@jupyter-widgets/controls",
      "_view_module_version": "1.5.0",
      "_view_name": "HBoxView",
      "box_style": "",
      "children": [
       "IPY_MODEL_732e82b3b2004a5c846489e55905f70f",
       "IPY_MODEL_9f3cb648b94c4b0ab627dfad0d0a5b6b"
      ],
      "layout": "IPY_MODEL_5ad656e442f94b0ab2ba15268dfe2879"
     }
    },
    "6218bec85e6247439267a7ed0247181a": {
     "model_module": "@jupyter-widgets/controls",
     "model_name": "ProgressStyleModel",
     "state": {
      "_model_module": "@jupyter-widgets/controls",
      "_model_module_version": "1.5.0",
      "_model_name": "ProgressStyleModel",
      "_view_count": null,
      "_view_module": "@jupyter-widgets/base",
      "_view_module_version": "1.2.0",
      "_view_name": "StyleView",
      "bar_color": null,
      "description_width": "initial"
     }
    },
    "64e4ce8d8b484feaba1a6beb66ace3b8": {
     "model_module": "@jupyter-widgets/controls",
     "model_name": "HBoxModel",
     "state": {
      "_dom_classes": [],
      "_model_module": "@jupyter-widgets/controls",
      "_model_module_version": "1.5.0",
      "_model_name": "HBoxModel",
      "_view_count": null,
      "_view_module": "@jupyter-widgets/controls",
      "_view_module_version": "1.5.0",
      "_view_name": "HBoxView",
      "box_style": "",
      "children": [
       "IPY_MODEL_3ef27f8506384411b7dfdba9af27373d",
       "IPY_MODEL_a0814e42c8964e93aa4809806bf8c44b"
      ],
      "layout": "IPY_MODEL_f1654d8db75c4068a2e207ae7d5c5327"
     }
    },
    "64ec6168fd36486d87ea889a655cb3e7": {
     "model_module": "@jupyter-widgets/controls",
     "model_name": "HBoxModel",
     "state": {
      "_dom_classes": [],
      "_model_module": "@jupyter-widgets/controls",
      "_model_module_version": "1.5.0",
      "_model_name": "HBoxModel",
      "_view_count": null,
      "_view_module": "@jupyter-widgets/controls",
      "_view_module_version": "1.5.0",
      "_view_name": "HBoxView",
      "box_style": "",
      "children": [
       "IPY_MODEL_a29c69345c10497d8e03e067c96c030a",
       "IPY_MODEL_7d44bada56bd4285ac8f4b20b1164070"
      ],
      "layout": "IPY_MODEL_a38d2bf6b4a542c98c6d861a07f9fd0e"
     }
    },
    "6736c3caaf214998a81bbe7542c55946": {
     "model_module": "@jupyter-widgets/controls",
     "model_name": "FloatProgressModel",
     "state": {
      "_dom_classes": [],
      "_model_module": "@jupyter-widgets/controls",
      "_model_module_version": "1.5.0",
      "_model_name": "FloatProgressModel",
      "_view_count": null,
      "_view_module": "@jupyter-widgets/controls",
      "_view_module_version": "1.5.0",
      "_view_name": "ProgressView",
      "bar_style": "success",
      "description": "Downloading: 100%",
      "description_tooltip": null,
      "layout": "IPY_MODEL_79b7362603fb4538b2d44a608ace3b0e",
      "max": 531146902,
      "min": 0,
      "orientation": "horizontal",
      "style": "IPY_MODEL_d7043a7dc2664d0f996e2aa33e66d6e8",
      "value": 531146902
     }
    },
    "683004f5bf074caab0e0b93e1510b8aa": {
     "model_module": "@jupyter-widgets/controls",
     "model_name": "ProgressStyleModel",
     "state": {
      "_model_module": "@jupyter-widgets/controls",
      "_model_module_version": "1.5.0",
      "_model_name": "ProgressStyleModel",
      "_view_count": null,
      "_view_module": "@jupyter-widgets/base",
      "_view_module_version": "1.2.0",
      "_view_name": "StyleView",
      "bar_color": null,
      "description_width": "initial"
     }
    },
    "6a61d29d1f6149d484980a0fbe45b211": {
     "model_module": "@jupyter-widgets/controls",
     "model_name": "ProgressStyleModel",
     "state": {
      "_model_module": "@jupyter-widgets/controls",
      "_model_module_version": "1.5.0",
      "_model_name": "ProgressStyleModel",
      "_view_count": null,
      "_view_module": "@jupyter-widgets/base",
      "_view_module_version": "1.2.0",
      "_view_name": "StyleView",
      "bar_color": null,
      "description_width": "initial"
     }
    },
    "6d8d819096d94b7a81908eba4a4d6b4b": {
     "model_module": "@jupyter-widgets/controls",
     "model_name": "HTMLModel",
     "state": {
      "_dom_classes": [],
      "_model_module": "@jupyter-widgets/controls",
      "_model_module_version": "1.5.0",
      "_model_name": "HTMLModel",
      "_view_count": null,
      "_view_module": "@jupyter-widgets/controls",
      "_view_module_version": "1.5.0",
      "_view_name": "HTMLView",
      "description": "",
      "description_tooltip": null,
      "layout": "IPY_MODEL_d9930990db8e42909eefe8246691c7a4",
      "placeholder": "​",
      "style": "IPY_MODEL_6f6aff013e1141888eadefadd98c2cba",
      "value": " 112/112 [00:00&lt;00:00, 1.30kB/s]"
     }
    },
    "6f4b47ee142f4d20bf72e7d5534436ce": {
     "model_module": "@jupyter-widgets/base",
     "model_name": "LayoutModel",
     "state": {
      "_model_module": "@jupyter-widgets/base",
      "_model_module_version": "1.2.0",
      "_model_name": "LayoutModel",
      "_view_count": null,
      "_view_module": "@jupyter-widgets/base",
      "_view_module_version": "1.2.0",
      "_view_name": "LayoutView",
      "align_content": null,
      "align_items": null,
      "align_self": null,
      "border": null,
      "bottom": null,
      "display": null,
      "flex": null,
      "flex_flow": null,
      "grid_area": null,
      "grid_auto_columns": null,
      "grid_auto_flow": null,
      "grid_auto_rows": null,
      "grid_column": null,
      "grid_gap": null,
      "grid_row": null,
      "grid_template_areas": null,
      "grid_template_columns": null,
      "grid_template_rows": null,
      "height": null,
      "justify_content": null,
      "justify_items": null,
      "left": null,
      "margin": null,
      "max_height": null,
      "max_width": null,
      "min_height": null,
      "min_width": null,
      "object_fit": null,
      "object_position": null,
      "order": null,
      "overflow": null,
      "overflow_x": null,
      "overflow_y": null,
      "padding": null,
      "right": null,
      "top": null,
      "visibility": null,
      "width": null
     }
    },
    "6f6aff013e1141888eadefadd98c2cba": {
     "model_module": "@jupyter-widgets/controls",
     "model_name": "DescriptionStyleModel",
     "state": {
      "_model_module": "@jupyter-widgets/controls",
      "_model_module_version": "1.5.0",
      "_model_name": "DescriptionStyleModel",
      "_view_count": null,
      "_view_module": "@jupyter-widgets/base",
      "_view_module_version": "1.2.0",
      "_view_name": "StyleView",
      "description_width": ""
     }
    },
    "71777fea35194ac4a15dd45b7d15a11e": {
     "model_module": "@jupyter-widgets/base",
     "model_name": "LayoutModel",
     "state": {
      "_model_module": "@jupyter-widgets/base",
      "_model_module_version": "1.2.0",
      "_model_name": "LayoutModel",
      "_view_count": null,
      "_view_module": "@jupyter-widgets/base",
      "_view_module_version": "1.2.0",
      "_view_name": "LayoutView",
      "align_content": null,
      "align_items": null,
      "align_self": null,
      "border": null,
      "bottom": null,
      "display": null,
      "flex": null,
      "flex_flow": null,
      "grid_area": null,
      "grid_auto_columns": null,
      "grid_auto_flow": null,
      "grid_auto_rows": null,
      "grid_column": null,
      "grid_gap": null,
      "grid_row": null,
      "grid_template_areas": null,
      "grid_template_columns": null,
      "grid_template_rows": null,
      "height": null,
      "justify_content": null,
      "justify_items": null,
      "left": null,
      "margin": null,
      "max_height": null,
      "max_width": null,
      "min_height": null,
      "min_width": null,
      "object_fit": null,
      "object_position": null,
      "order": null,
      "overflow": null,
      "overflow_x": null,
      "overflow_y": null,
      "padding": null,
      "right": null,
      "top": null,
      "visibility": null,
      "width": null
     }
    },
    "71b4c7aee91f4de4abd7eb494b474ef8": {
     "model_module": "@jupyter-widgets/base",
     "model_name": "LayoutModel",
     "state": {
      "_model_module": "@jupyter-widgets/base",
      "_model_module_version": "1.2.0",
      "_model_name": "LayoutModel",
      "_view_count": null,
      "_view_module": "@jupyter-widgets/base",
      "_view_module_version": "1.2.0",
      "_view_name": "LayoutView",
      "align_content": null,
      "align_items": null,
      "align_self": null,
      "border": null,
      "bottom": null,
      "display": null,
      "flex": null,
      "flex_flow": null,
      "grid_area": null,
      "grid_auto_columns": null,
      "grid_auto_flow": null,
      "grid_auto_rows": null,
      "grid_column": null,
      "grid_gap": null,
      "grid_row": null,
      "grid_template_areas": null,
      "grid_template_columns": null,
      "grid_template_rows": null,
      "height": null,
      "justify_content": null,
      "justify_items": null,
      "left": null,
      "margin": null,
      "max_height": null,
      "max_width": null,
      "min_height": null,
      "min_width": null,
      "object_fit": null,
      "object_position": null,
      "order": null,
      "overflow": null,
      "overflow_x": null,
      "overflow_y": null,
      "padding": null,
      "right": null,
      "top": null,
      "visibility": null,
      "width": null
     }
    },
    "7240d3ffb40747a58893123ec3735fc5": {
     "model_module": "@jupyter-widgets/controls",
     "model_name": "FloatProgressModel",
     "state": {
      "_dom_classes": [],
      "_model_module": "@jupyter-widgets/controls",
      "_model_module_version": "1.5.0",
      "_model_name": "FloatProgressModel",
      "_view_count": null,
      "_view_module": "@jupyter-widgets/controls",
      "_view_module_version": "1.5.0",
      "_view_name": "ProgressView",
      "bar_style": "success",
      "description": "Downloading: 100%",
      "description_tooltip": null,
      "layout": "IPY_MODEL_f53b18e6750241adafee5e79df1df824",
      "max": 494801,
      "min": 0,
      "orientation": "horizontal",
      "style": "IPY_MODEL_0b3e2da65c7a44368ee27497f4527560",
      "value": 494801
     }
    },
    "732e82b3b2004a5c846489e55905f70f": {
     "model_module": "@jupyter-widgets/controls",
     "model_name": "FloatProgressModel",
     "state": {
      "_dom_classes": [],
      "_model_module": "@jupyter-widgets/controls",
      "_model_module_version": "1.5.0",
      "_model_name": "FloatProgressModel",
      "_view_count": null,
      "_view_module": "@jupyter-widgets/controls",
      "_view_module_version": "1.5.0",
      "_view_name": "ProgressView",
      "bar_style": "success",
      "description": "100%",
      "description_tooltip": null,
      "layout": "IPY_MODEL_8535a8bf8fd248a488fe1f7949a8500b",
      "max": 13234,
      "min": 0,
      "orientation": "horizontal",
      "style": "IPY_MODEL_119a664b56f7451da525581fb4615ff9",
      "value": 13234
     }
    },
    "73542906b1c24e08b0224d5421a101c0": {
     "model_module": "@jupyter-widgets/base",
     "model_name": "LayoutModel",
     "state": {
      "_model_module": "@jupyter-widgets/base",
      "_model_module_version": "1.2.0",
      "_model_name": "LayoutModel",
      "_view_count": null,
      "_view_module": "@jupyter-widgets/base",
      "_view_module_version": "1.2.0",
      "_view_name": "LayoutView",
      "align_content": null,
      "align_items": null,
      "align_self": null,
      "border": null,
      "bottom": null,
      "display": null,
      "flex": null,
      "flex_flow": null,
      "grid_area": null,
      "grid_auto_columns": null,
      "grid_auto_flow": null,
      "grid_auto_rows": null,
      "grid_column": null,
      "grid_gap": null,
      "grid_row": null,
      "grid_template_areas": null,
      "grid_template_columns": null,
      "grid_template_rows": null,
      "height": null,
      "justify_content": null,
      "justify_items": null,
      "left": null,
      "margin": null,
      "max_height": null,
      "max_width": null,
      "min_height": null,
      "min_width": null,
      "object_fit": null,
      "object_position": null,
      "order": null,
      "overflow": null,
      "overflow_x": null,
      "overflow_y": null,
      "padding": null,
      "right": null,
      "top": null,
      "visibility": null,
      "width": null
     }
    },
    "76da4735fb9242159e443c255910d1a3": {
     "model_module": "@jupyter-widgets/controls",
     "model_name": "HTMLModel",
     "state": {
      "_dom_classes": [],
      "_model_module": "@jupyter-widgets/controls",
      "_model_module_version": "1.5.0",
      "_model_name": "HTMLModel",
      "_view_count": null,
      "_view_module": "@jupyter-widgets/controls",
      "_view_module_version": "1.5.0",
      "_view_name": "HTMLView",
      "description": "",
      "description_tooltip": null,
      "layout": "IPY_MODEL_a6adb703eeaa4cec84c0014d0a75ee85",
      "placeholder": "​",
      "style": "IPY_MODEL_7f7a042484e44c37815b83eb7fba524e",
      "value": " 1250/1250 [01:21&lt;00:00, 15.40it/s]"
     }
    },
    "7722774416ce490a86d3bd9a5b2d7942": {
     "model_module": "@jupyter-widgets/base",
     "model_name": "LayoutModel",
     "state": {
      "_model_module": "@jupyter-widgets/base",
      "_model_module_version": "1.2.0",
      "_model_name": "LayoutModel",
      "_view_count": null,
      "_view_module": "@jupyter-widgets/base",
      "_view_module_version": "1.2.0",
      "_view_name": "LayoutView",
      "align_content": null,
      "align_items": null,
      "align_self": null,
      "border": null,
      "bottom": null,
      "display": null,
      "flex": null,
      "flex_flow": null,
      "grid_area": null,
      "grid_auto_columns": null,
      "grid_auto_flow": null,
      "grid_auto_rows": null,
      "grid_column": null,
      "grid_gap": null,
      "grid_row": null,
      "grid_template_areas": null,
      "grid_template_columns": null,
      "grid_template_rows": null,
      "height": null,
      "justify_content": null,
      "justify_items": null,
      "left": null,
      "margin": null,
      "max_height": null,
      "max_width": null,
      "min_height": null,
      "min_width": null,
      "object_fit": null,
      "object_position": null,
      "order": null,
      "overflow": null,
      "overflow_x": null,
      "overflow_y": null,
      "padding": null,
      "right": null,
      "top": null,
      "visibility": null,
      "width": null
     }
    },
    "79b7362603fb4538b2d44a608ace3b0e": {
     "model_module": "@jupyter-widgets/base",
     "model_name": "LayoutModel",
     "state": {
      "_model_module": "@jupyter-widgets/base",
      "_model_module_version": "1.2.0",
      "_model_name": "LayoutModel",
      "_view_count": null,
      "_view_module": "@jupyter-widgets/base",
      "_view_module_version": "1.2.0",
      "_view_name": "LayoutView",
      "align_content": null,
      "align_items": null,
      "align_self": null,
      "border": null,
      "bottom": null,
      "display": null,
      "flex": null,
      "flex_flow": null,
      "grid_area": null,
      "grid_auto_columns": null,
      "grid_auto_flow": null,
      "grid_auto_rows": null,
      "grid_column": null,
      "grid_gap": null,
      "grid_row": null,
      "grid_template_areas": null,
      "grid_template_columns": null,
      "grid_template_rows": null,
      "height": null,
      "justify_content": null,
      "justify_items": null,
      "left": null,
      "margin": null,
      "max_height": null,
      "max_width": null,
      "min_height": null,
      "min_width": null,
      "object_fit": null,
      "object_position": null,
      "order": null,
      "overflow": null,
      "overflow_x": null,
      "overflow_y": null,
      "padding": null,
      "right": null,
      "top": null,
      "visibility": null,
      "width": null
     }
    },
    "7c751cadbc48435d8d8ad1d0f335ab57": {
     "model_module": "@jupyter-widgets/controls",
     "model_name": "FloatProgressModel",
     "state": {
      "_dom_classes": [],
      "_model_module": "@jupyter-widgets/controls",
      "_model_module_version": "1.5.0",
      "_model_name": "FloatProgressModel",
      "_view_count": null,
      "_view_module": "@jupyter-widgets/controls",
      "_view_module_version": "1.5.0",
      "_view_name": "ProgressView",
      "bar_style": "success",
      "description": "100%",
      "description_tooltip": null,
      "layout": "IPY_MODEL_016d17dae37f4074b9485761e363d20c",
      "max": 1250,
      "min": 0,
      "orientation": "horizontal",
      "style": "IPY_MODEL_d3ff214447774a5aaaca9f0a61b0c071",
      "value": 1250
     }
    },
    "7d44bada56bd4285ac8f4b20b1164070": {
     "model_module": "@jupyter-widgets/controls",
     "model_name": "HTMLModel",
     "state": {
      "_dom_classes": [],
      "_model_module": "@jupyter-widgets/controls",
      "_model_module_version": "1.5.0",
      "_model_name": "HTMLModel",
      "_view_count": null,
      "_view_module": "@jupyter-widgets/controls",
      "_view_module_version": "1.5.0",
      "_view_name": "HTMLView",
      "description": "",
      "description_tooltip": null,
      "layout": "IPY_MODEL_0ab264f18d0440d2bd53a79a70dcf4b3",
      "placeholder": "​",
      "style": "IPY_MODEL_23260c767c1f4ea9a26d215c29d5c66d",
      "value": " 459/459 [00:00&lt;00:00, 1.29kB/s]"
     }
    },
    "7f7a042484e44c37815b83eb7fba524e": {
     "model_module": "@jupyter-widgets/controls",
     "model_name": "DescriptionStyleModel",
     "state": {
      "_model_module": "@jupyter-widgets/controls",
      "_model_module_version": "1.5.0",
      "_model_name": "DescriptionStyleModel",
      "_view_count": null,
      "_view_module": "@jupyter-widgets/base",
      "_view_module_version": "1.2.0",
      "_view_name": "StyleView",
      "description_width": ""
     }
    },
    "7f97412df8f54747955fcae1d31be364": {
     "model_module": "@jupyter-widgets/controls",
     "model_name": "HTMLModel",
     "state": {
      "_dom_classes": [],
      "_model_module": "@jupyter-widgets/controls",
      "_model_module_version": "1.5.0",
      "_model_name": "HTMLModel",
      "_view_count": null,
      "_view_module": "@jupyter-widgets/controls",
      "_view_module_version": "1.5.0",
      "_view_name": "HTMLView",
      "description": "",
      "description_tooltip": null,
      "layout": "IPY_MODEL_6046cced038c46fd8a72445cf11f01c8",
      "placeholder": "​",
      "style": "IPY_MODEL_5a989f3926b04415bad193646e527c99",
      "value": " 13234/13234 [5:21:20&lt;00:00,  1.46s/it, loss=0.274]"
     }
    },
    "81af707873804a438f55feb831f309af": {
     "model_module": "@jupyter-widgets/controls",
     "model_name": "DescriptionStyleModel",
     "state": {
      "_model_module": "@jupyter-widgets/controls",
      "_model_module_version": "1.5.0",
      "_model_name": "DescriptionStyleModel",
      "_view_count": null,
      "_view_module": "@jupyter-widgets/base",
      "_view_module_version": "1.2.0",
      "_view_name": "StyleView",
      "description_width": ""
     }
    },
    "8535a8bf8fd248a488fe1f7949a8500b": {
     "model_module": "@jupyter-widgets/base",
     "model_name": "LayoutModel",
     "state": {
      "_model_module": "@jupyter-widgets/base",
      "_model_module_version": "1.2.0",
      "_model_name": "LayoutModel",
      "_view_count": null,
      "_view_module": "@jupyter-widgets/base",
      "_view_module_version": "1.2.0",
      "_view_name": "LayoutView",
      "align_content": null,
      "align_items": null,
      "align_self": null,
      "border": null,
      "bottom": null,
      "display": null,
      "flex": null,
      "flex_flow": null,
      "grid_area": null,
      "grid_auto_columns": null,
      "grid_auto_flow": null,
      "grid_auto_rows": null,
      "grid_column": null,
      "grid_gap": null,
      "grid_row": null,
      "grid_template_areas": null,
      "grid_template_columns": null,
      "grid_template_rows": null,
      "height": null,
      "justify_content": null,
      "justify_items": null,
      "left": null,
      "margin": null,
      "max_height": null,
      "max_width": null,
      "min_height": null,
      "min_width": null,
      "object_fit": null,
      "object_position": null,
      "order": null,
      "overflow": null,
      "overflow_x": null,
      "overflow_y": null,
      "padding": null,
      "right": null,
      "top": null,
      "visibility": null,
      "width": null
     }
    },
    "8555c760c9814f9f99213abbcf136149": {
     "model_module": "@jupyter-widgets/controls",
     "model_name": "HTMLModel",
     "state": {
      "_dom_classes": [],
      "_model_module": "@jupyter-widgets/controls",
      "_model_module_version": "1.5.0",
      "_model_name": "HTMLModel",
      "_view_count": null,
      "_view_module": "@jupyter-widgets/controls",
      "_view_module_version": "1.5.0",
      "_view_name": "HTMLView",
      "description": "",
      "description_tooltip": null,
      "layout": "IPY_MODEL_3402e47e6b0441d48d0bf921ec811f03",
      "placeholder": "​",
      "style": "IPY_MODEL_cc5fc3674f1a4fdf8279094b9c1566b1",
      "value": " 233238/233238 [2:23:42&lt;00:00, 27.05it/s]"
     }
    },
    "85c73029e74c4e78b38227666e7667c0": {
     "model_module": "@jupyter-widgets/base",
     "model_name": "LayoutModel",
     "state": {
      "_model_module": "@jupyter-widgets/base",
      "_model_module_version": "1.2.0",
      "_model_name": "LayoutModel",
      "_view_count": null,
      "_view_module": "@jupyter-widgets/base",
      "_view_module_version": "1.2.0",
      "_view_name": "LayoutView",
      "align_content": null,
      "align_items": null,
      "align_self": null,
      "border": null,
      "bottom": null,
      "display": null,
      "flex": null,
      "flex_flow": null,
      "grid_area": null,
      "grid_auto_columns": null,
      "grid_auto_flow": null,
      "grid_auto_rows": null,
      "grid_column": null,
      "grid_gap": null,
      "grid_row": null,
      "grid_template_areas": null,
      "grid_template_columns": null,
      "grid_template_rows": null,
      "height": null,
      "justify_content": null,
      "justify_items": null,
      "left": null,
      "margin": null,
      "max_height": null,
      "max_width": null,
      "min_height": null,
      "min_width": null,
      "object_fit": null,
      "object_position": null,
      "order": null,
      "overflow": null,
      "overflow_x": null,
      "overflow_y": null,
      "padding": null,
      "right": null,
      "top": null,
      "visibility": null,
      "width": null
     }
    },
    "87109cf7e3694f95831880fab140b52b": {
     "model_module": "@jupyter-widgets/controls",
     "model_name": "FloatProgressModel",
     "state": {
      "_dom_classes": [],
      "_model_module": "@jupyter-widgets/controls",
      "_model_module_version": "1.5.0",
      "_model_name": "FloatProgressModel",
      "_view_count": null,
      "_view_module": "@jupyter-widgets/controls",
      "_view_module_version": "1.5.0",
      "_view_name": "ProgressView",
      "bar_style": "success",
      "description": "100%",
      "description_tooltip": null,
      "layout": "IPY_MODEL_181831b0e92b4245a9c09320e7d3930c",
      "max": 1250,
      "min": 0,
      "orientation": "horizontal",
      "style": "IPY_MODEL_c097ea82770a41d6ad68e1978936fea2",
      "value": 1250
     }
    },
    "8bcd511bb5f54b97a6f1325bfd910a2d": {
     "model_module": "@jupyter-widgets/controls",
     "model_name": "HBoxModel",
     "state": {
      "_dom_classes": [],
      "_model_module": "@jupyter-widgets/controls",
      "_model_module_version": "1.5.0",
      "_model_name": "HBoxModel",
      "_view_count": null,
      "_view_module": "@jupyter-widgets/controls",
      "_view_module_version": "1.5.0",
      "_view_name": "HBoxView",
      "box_style": "",
      "children": [
       "IPY_MODEL_383d7c23cf2e483daa4b11502b13df20",
       "IPY_MODEL_7f97412df8f54747955fcae1d31be364"
      ],
      "layout": "IPY_MODEL_b89943cc4099415fbecd12b725d60bcf"
     }
    },
    "8c7144ae08ab4977b401b18f4055726f": {
     "model_module": "@jupyter-widgets/controls",
     "model_name": "HBoxModel",
     "state": {
      "_dom_classes": [],
      "_model_module": "@jupyter-widgets/controls",
      "_model_module_version": "1.5.0",
      "_model_name": "HBoxModel",
      "_view_count": null,
      "_view_module": "@jupyter-widgets/controls",
      "_view_module_version": "1.5.0",
      "_view_name": "HBoxView",
      "box_style": "",
      "children": [
       "IPY_MODEL_7240d3ffb40747a58893123ec3735fc5",
       "IPY_MODEL_4451990ad99e46cb997ec81d6a9f4d5b"
      ],
      "layout": "IPY_MODEL_43109e9af42a41a08d6f253731acb59d"
     }
    },
    "903da59b4c554d3498d117a8cd2ff362": {
     "model_module": "@jupyter-widgets/controls",
     "model_name": "ProgressStyleModel",
     "state": {
      "_model_module": "@jupyter-widgets/controls",
      "_model_module_version": "1.5.0",
      "_model_name": "ProgressStyleModel",
      "_view_count": null,
      "_view_module": "@jupyter-widgets/base",
      "_view_module_version": "1.2.0",
      "_view_name": "StyleView",
      "bar_color": null,
      "description_width": "initial"
     }
    },
    "927a7b6a2fec40bc800ee79b0952e73c": {
     "model_module": "@jupyter-widgets/base",
     "model_name": "LayoutModel",
     "state": {
      "_model_module": "@jupyter-widgets/base",
      "_model_module_version": "1.2.0",
      "_model_name": "LayoutModel",
      "_view_count": null,
      "_view_module": "@jupyter-widgets/base",
      "_view_module_version": "1.2.0",
      "_view_name": "LayoutView",
      "align_content": null,
      "align_items": null,
      "align_self": null,
      "border": null,
      "bottom": null,
      "display": null,
      "flex": null,
      "flex_flow": null,
      "grid_area": null,
      "grid_auto_columns": null,
      "grid_auto_flow": null,
      "grid_auto_rows": null,
      "grid_column": null,
      "grid_gap": null,
      "grid_row": null,
      "grid_template_areas": null,
      "grid_template_columns": null,
      "grid_template_rows": null,
      "height": null,
      "justify_content": null,
      "justify_items": null,
      "left": null,
      "margin": null,
      "max_height": null,
      "max_width": null,
      "min_height": null,
      "min_width": null,
      "object_fit": null,
      "object_position": null,
      "order": null,
      "overflow": null,
      "overflow_x": null,
      "overflow_y": null,
      "padding": null,
      "right": null,
      "top": null,
      "visibility": null,
      "width": null
     }
    },
    "97ac2f090d174495ae2fc53134eb5ffd": {
     "model_module": "@jupyter-widgets/base",
     "model_name": "LayoutModel",
     "state": {
      "_model_module": "@jupyter-widgets/base",
      "_model_module_version": "1.2.0",
      "_model_name": "LayoutModel",
      "_view_count": null,
      "_view_module": "@jupyter-widgets/base",
      "_view_module_version": "1.2.0",
      "_view_name": "LayoutView",
      "align_content": null,
      "align_items": null,
      "align_self": null,
      "border": null,
      "bottom": null,
      "display": null,
      "flex": null,
      "flex_flow": null,
      "grid_area": null,
      "grid_auto_columns": null,
      "grid_auto_flow": null,
      "grid_auto_rows": null,
      "grid_column": null,
      "grid_gap": null,
      "grid_row": null,
      "grid_template_areas": null,
      "grid_template_columns": null,
      "grid_template_rows": null,
      "height": null,
      "justify_content": null,
      "justify_items": null,
      "left": null,
      "margin": null,
      "max_height": null,
      "max_width": null,
      "min_height": null,
      "min_width": null,
      "object_fit": null,
      "object_position": null,
      "order": null,
      "overflow": null,
      "overflow_x": null,
      "overflow_y": null,
      "padding": null,
      "right": null,
      "top": null,
      "visibility": null,
      "width": null
     }
    },
    "9a00f46008b243f886ef03ccd0597c73": {
     "model_module": "@jupyter-widgets/base",
     "model_name": "LayoutModel",
     "state": {
      "_model_module": "@jupyter-widgets/base",
      "_model_module_version": "1.2.0",
      "_model_name": "LayoutModel",
      "_view_count": null,
      "_view_module": "@jupyter-widgets/base",
      "_view_module_version": "1.2.0",
      "_view_name": "LayoutView",
      "align_content": null,
      "align_items": null,
      "align_self": null,
      "border": null,
      "bottom": null,
      "display": null,
      "flex": null,
      "flex_flow": null,
      "grid_area": null,
      "grid_auto_columns": null,
      "grid_auto_flow": null,
      "grid_auto_rows": null,
      "grid_column": null,
      "grid_gap": null,
      "grid_row": null,
      "grid_template_areas": null,
      "grid_template_columns": null,
      "grid_template_rows": null,
      "height": null,
      "justify_content": null,
      "justify_items": null,
      "left": null,
      "margin": null,
      "max_height": null,
      "max_width": null,
      "min_height": null,
      "min_width": null,
      "object_fit": null,
      "object_position": null,
      "order": null,
      "overflow": null,
      "overflow_x": null,
      "overflow_y": null,
      "padding": null,
      "right": null,
      "top": null,
      "visibility": null,
      "width": null
     }
    },
    "9bbd4bd6ea034d4bbb0382c0a7918368": {
     "model_module": "@jupyter-widgets/controls",
     "model_name": "HTMLModel",
     "state": {
      "_dom_classes": [],
      "_model_module": "@jupyter-widgets/controls",
      "_model_module_version": "1.5.0",
      "_model_name": "HTMLModel",
      "_view_count": null,
      "_view_module": "@jupyter-widgets/controls",
      "_view_module_version": "1.5.0",
      "_view_name": "HTMLView",
      "description": "",
      "description_tooltip": null,
      "layout": "IPY_MODEL_f84434289a6e40aea216e8cbeda09275",
      "placeholder": "​",
      "style": "IPY_MODEL_fa029ae1c199402a96038c6928763e7c",
      "value": " 13234/13234 [2:33:20&lt;00:00,  1.44it/s, loss=0.0381]"
     }
    },
    "9bf663a5ecd44737a9e8cecd9ee1b66b": {
     "model_module": "@jupyter-widgets/controls",
     "model_name": "DescriptionStyleModel",
     "state": {
      "_model_module": "@jupyter-widgets/controls",
      "_model_module_version": "1.5.0",
      "_model_name": "DescriptionStyleModel",
      "_view_count": null,
      "_view_module": "@jupyter-widgets/base",
      "_view_module_version": "1.2.0",
      "_view_name": "StyleView",
      "description_width": ""
     }
    },
    "9eaf0a97088a4083aca3cb3e12ad8206": {
     "model_module": "@jupyter-widgets/controls",
     "model_name": "DescriptionStyleModel",
     "state": {
      "_model_module": "@jupyter-widgets/controls",
      "_model_module_version": "1.5.0",
      "_model_name": "DescriptionStyleModel",
      "_view_count": null,
      "_view_module": "@jupyter-widgets/base",
      "_view_module_version": "1.2.0",
      "_view_name": "StyleView",
      "description_width": ""
     }
    },
    "9eb68a7b28be454c8700a3b478c341b3": {
     "model_module": "@jupyter-widgets/controls",
     "model_name": "ProgressStyleModel",
     "state": {
      "_model_module": "@jupyter-widgets/controls",
      "_model_module_version": "1.5.0",
      "_model_name": "ProgressStyleModel",
      "_view_count": null,
      "_view_module": "@jupyter-widgets/base",
      "_view_module_version": "1.2.0",
      "_view_name": "StyleView",
      "bar_color": null,
      "description_width": "initial"
     }
    },
    "9f3cb648b94c4b0ab627dfad0d0a5b6b": {
     "model_module": "@jupyter-widgets/controls",
     "model_name": "HTMLModel",
     "state": {
      "_dom_classes": [],
      "_model_module": "@jupyter-widgets/controls",
      "_model_module_version": "1.5.0",
      "_model_name": "HTMLModel",
      "_view_count": null,
      "_view_module": "@jupyter-widgets/controls",
      "_view_module_version": "1.5.0",
      "_view_name": "HTMLView",
      "description": "",
      "description_tooltip": null,
      "layout": "IPY_MODEL_97ac2f090d174495ae2fc53134eb5ffd",
      "placeholder": "​",
      "style": "IPY_MODEL_fe62406edad24774b179fa59ddaa3d0c",
      "value": " 13234/13234 [3:57:22&lt;00:00,  1.08s/it, loss=0.124]"
     }
    },
    "a0814e42c8964e93aa4809806bf8c44b": {
     "model_module": "@jupyter-widgets/controls",
     "model_name": "HTMLModel",
     "state": {
      "_dom_classes": [],
      "_model_module": "@jupyter-widgets/controls",
      "_model_module_version": "1.5.0",
      "_model_name": "HTMLModel",
      "_view_count": null,
      "_view_module": "@jupyter-widgets/controls",
      "_view_module_version": "1.5.0",
      "_view_name": "HTMLView",
      "description": "",
      "description_tooltip": null,
      "layout": "IPY_MODEL_cdf911919d87435f852cdf6515251c86",
      "placeholder": "​",
      "style": "IPY_MODEL_44e173cbe6ce4178aecf82aef958523d",
      "value": " 459/459 [00:00&lt;00:00, 1.55kB/s]"
     }
    },
    "a1dd74da8d164c59946af79076a369da": {
     "model_module": "@jupyter-widgets/controls",
     "model_name": "HBoxModel",
     "state": {
      "_dom_classes": [],
      "_model_module": "@jupyter-widgets/controls",
      "_model_module_version": "1.5.0",
      "_model_name": "HBoxModel",
      "_view_count": null,
      "_view_module": "@jupyter-widgets/controls",
      "_view_module_version": "1.5.0",
      "_view_name": "HBoxView",
      "box_style": "",
      "children": [
       "IPY_MODEL_87109cf7e3694f95831880fab140b52b",
       "IPY_MODEL_ff465577f67a4ebabb1d488d91491d75"
      ],
      "layout": "IPY_MODEL_ba98c819854245e8970312bc59c35524"
     }
    },
    "a29c69345c10497d8e03e067c96c030a": {
     "model_module": "@jupyter-widgets/controls",
     "model_name": "FloatProgressModel",
     "state": {
      "_dom_classes": [],
      "_model_module": "@jupyter-widgets/controls",
      "_model_module_version": "1.5.0",
      "_model_name": "FloatProgressModel",
      "_view_count": null,
      "_view_module": "@jupyter-widgets/controls",
      "_view_module_version": "1.5.0",
      "_view_name": "ProgressView",
      "bar_style": "success",
      "description": "Downloading: 100%",
      "description_tooltip": null,
      "layout": "IPY_MODEL_056fdd9eeaa84e06b8020a0fbd46f553",
      "max": 459,
      "min": 0,
      "orientation": "horizontal",
      "style": "IPY_MODEL_1027b5cbf5324af0a7e7e4d6cba63bb9",
      "value": 459
     }
    },
    "a38d2bf6b4a542c98c6d861a07f9fd0e": {
     "model_module": "@jupyter-widgets/base",
     "model_name": "LayoutModel",
     "state": {
      "_model_module": "@jupyter-widgets/base",
      "_model_module_version": "1.2.0",
      "_model_name": "LayoutModel",
      "_view_count": null,
      "_view_module": "@jupyter-widgets/base",
      "_view_module_version": "1.2.0",
      "_view_name": "LayoutView",
      "align_content": null,
      "align_items": null,
      "align_self": null,
      "border": null,
      "bottom": null,
      "display": null,
      "flex": null,
      "flex_flow": null,
      "grid_area": null,
      "grid_auto_columns": null,
      "grid_auto_flow": null,
      "grid_auto_rows": null,
      "grid_column": null,
      "grid_gap": null,
      "grid_row": null,
      "grid_template_areas": null,
      "grid_template_columns": null,
      "grid_template_rows": null,
      "height": null,
      "justify_content": null,
      "justify_items": null,
      "left": null,
      "margin": null,
      "max_height": null,
      "max_width": null,
      "min_height": null,
      "min_width": null,
      "object_fit": null,
      "object_position": null,
      "order": null,
      "overflow": null,
      "overflow_x": null,
      "overflow_y": null,
      "padding": null,
      "right": null,
      "top": null,
      "visibility": null,
      "width": null
     }
    },
    "a4a36bf755f74a2c9c5fdc25cc5cbc67": {
     "model_module": "@jupyter-widgets/base",
     "model_name": "LayoutModel",
     "state": {
      "_model_module": "@jupyter-widgets/base",
      "_model_module_version": "1.2.0",
      "_model_name": "LayoutModel",
      "_view_count": null,
      "_view_module": "@jupyter-widgets/base",
      "_view_module_version": "1.2.0",
      "_view_name": "LayoutView",
      "align_content": null,
      "align_items": null,
      "align_self": null,
      "border": null,
      "bottom": null,
      "display": null,
      "flex": null,
      "flex_flow": null,
      "grid_area": null,
      "grid_auto_columns": null,
      "grid_auto_flow": null,
      "grid_auto_rows": null,
      "grid_column": null,
      "grid_gap": null,
      "grid_row": null,
      "grid_template_areas": null,
      "grid_template_columns": null,
      "grid_template_rows": null,
      "height": null,
      "justify_content": null,
      "justify_items": null,
      "left": null,
      "margin": null,
      "max_height": null,
      "max_width": null,
      "min_height": null,
      "min_width": null,
      "object_fit": null,
      "object_position": null,
      "order": null,
      "overflow": null,
      "overflow_x": null,
      "overflow_y": null,
      "padding": null,
      "right": null,
      "top": null,
      "visibility": null,
      "width": null
     }
    },
    "a50b59ec5084436c9db1787774ef4a17": {
     "model_module": "@jupyter-widgets/controls",
     "model_name": "FloatProgressModel",
     "state": {
      "_dom_classes": [],
      "_model_module": "@jupyter-widgets/controls",
      "_model_module_version": "1.5.0",
      "_model_name": "FloatProgressModel",
      "_view_count": null,
      "_view_module": "@jupyter-widgets/controls",
      "_view_module_version": "1.5.0",
      "_view_name": "ProgressView",
      "bar_style": "success",
      "description": "100%",
      "description_tooltip": null,
      "layout": "IPY_MODEL_6f4b47ee142f4d20bf72e7d5534436ce",
      "max": 13234,
      "min": 0,
      "orientation": "horizontal",
      "style": "IPY_MODEL_a7208ad4d8f24241a20d3f7ce05bc053",
      "value": 13234
     }
    },
    "a6adb703eeaa4cec84c0014d0a75ee85": {
     "model_module": "@jupyter-widgets/base",
     "model_name": "LayoutModel",
     "state": {
      "_model_module": "@jupyter-widgets/base",
      "_model_module_version": "1.2.0",
      "_model_name": "LayoutModel",
      "_view_count": null,
      "_view_module": "@jupyter-widgets/base",
      "_view_module_version": "1.2.0",
      "_view_name": "LayoutView",
      "align_content": null,
      "align_items": null,
      "align_self": null,
      "border": null,
      "bottom": null,
      "display": null,
      "flex": null,
      "flex_flow": null,
      "grid_area": null,
      "grid_auto_columns": null,
      "grid_auto_flow": null,
      "grid_auto_rows": null,
      "grid_column": null,
      "grid_gap": null,
      "grid_row": null,
      "grid_template_areas": null,
      "grid_template_columns": null,
      "grid_template_rows": null,
      "height": null,
      "justify_content": null,
      "justify_items": null,
      "left": null,
      "margin": null,
      "max_height": null,
      "max_width": null,
      "min_height": null,
      "min_width": null,
      "object_fit": null,
      "object_position": null,
      "order": null,
      "overflow": null,
      "overflow_x": null,
      "overflow_y": null,
      "padding": null,
      "right": null,
      "top": null,
      "visibility": null,
      "width": null
     }
    },
    "a7208ad4d8f24241a20d3f7ce05bc053": {
     "model_module": "@jupyter-widgets/controls",
     "model_name": "ProgressStyleModel",
     "state": {
      "_model_module": "@jupyter-widgets/controls",
      "_model_module_version": "1.5.0",
      "_model_name": "ProgressStyleModel",
      "_view_count": null,
      "_view_module": "@jupyter-widgets/base",
      "_view_module_version": "1.2.0",
      "_view_name": "StyleView",
      "bar_color": null,
      "description_width": "initial"
     }
    },
    "abcb33629df941118ff45ad82803aa22": {
     "model_module": "@jupyter-widgets/controls",
     "model_name": "DescriptionStyleModel",
     "state": {
      "_model_module": "@jupyter-widgets/controls",
      "_model_module_version": "1.5.0",
      "_model_name": "DescriptionStyleModel",
      "_view_count": null,
      "_view_module": "@jupyter-widgets/base",
      "_view_module_version": "1.2.0",
      "_view_name": "StyleView",
      "description_width": ""
     }
    },
    "ae7f2c3ba7944c83802245d840a1ec20": {
     "model_module": "@jupyter-widgets/controls",
     "model_name": "ProgressStyleModel",
     "state": {
      "_model_module": "@jupyter-widgets/controls",
      "_model_module_version": "1.5.0",
      "_model_name": "ProgressStyleModel",
      "_view_count": null,
      "_view_module": "@jupyter-widgets/base",
      "_view_module_version": "1.2.0",
      "_view_name": "StyleView",
      "bar_color": null,
      "description_width": "initial"
     }
    },
    "b44a59e0369245e08d292ae3ac11c015": {
     "model_module": "@jupyter-widgets/controls",
     "model_name": "HTMLModel",
     "state": {
      "_dom_classes": [],
      "_model_module": "@jupyter-widgets/controls",
      "_model_module_version": "1.5.0",
      "_model_name": "HTMLModel",
      "_view_count": null,
      "_view_module": "@jupyter-widgets/controls",
      "_view_module_version": "1.5.0",
      "_view_name": "HTMLView",
      "description": "",
      "description_tooltip": null,
      "layout": "IPY_MODEL_1932c8a6e3ba4b6081e2c6069c0c4c0f",
      "placeholder": "​",
      "style": "IPY_MODEL_4e95b7331a9447c2b3d29cbccfe5fc21",
      "value": " 1250/1250 [5:22:40&lt;00:00, 15.49s/it]"
     }
    },
    "b806fb7ba17a4a6cb62eced957391223": {
     "model_module": "@jupyter-widgets/controls",
     "model_name": "HBoxModel",
     "state": {
      "_dom_classes": [],
      "_model_module": "@jupyter-widgets/controls",
      "_model_module_version": "1.5.0",
      "_model_name": "HBoxModel",
      "_view_count": null,
      "_view_module": "@jupyter-widgets/controls",
      "_view_module_version": "1.5.0",
      "_view_name": "HBoxView",
      "box_style": "",
      "children": [
       "IPY_MODEL_5b00a80c66d240c5aedbaab4a6e6acac",
       "IPY_MODEL_76da4735fb9242159e443c255910d1a3"
      ],
      "layout": "IPY_MODEL_45847f0073864751a441ccd25d83af4c"
     }
    },
    "b89943cc4099415fbecd12b725d60bcf": {
     "model_module": "@jupyter-widgets/base",
     "model_name": "LayoutModel",
     "state": {
      "_model_module": "@jupyter-widgets/base",
      "_model_module_version": "1.2.0",
      "_model_name": "LayoutModel",
      "_view_count": null,
      "_view_module": "@jupyter-widgets/base",
      "_view_module_version": "1.2.0",
      "_view_name": "LayoutView",
      "align_content": null,
      "align_items": null,
      "align_self": null,
      "border": null,
      "bottom": null,
      "display": null,
      "flex": null,
      "flex_flow": null,
      "grid_area": null,
      "grid_auto_columns": null,
      "grid_auto_flow": null,
      "grid_auto_rows": null,
      "grid_column": null,
      "grid_gap": null,
      "grid_row": null,
      "grid_template_areas": null,
      "grid_template_columns": null,
      "grid_template_rows": null,
      "height": null,
      "justify_content": null,
      "justify_items": null,
      "left": null,
      "margin": null,
      "max_height": null,
      "max_width": null,
      "min_height": null,
      "min_width": null,
      "object_fit": null,
      "object_position": null,
      "order": null,
      "overflow": null,
      "overflow_x": null,
      "overflow_y": null,
      "padding": null,
      "right": null,
      "top": null,
      "visibility": null,
      "width": null
     }
    },
    "ba98c819854245e8970312bc59c35524": {
     "model_module": "@jupyter-widgets/base",
     "model_name": "LayoutModel",
     "state": {
      "_model_module": "@jupyter-widgets/base",
      "_model_module_version": "1.2.0",
      "_model_name": "LayoutModel",
      "_view_count": null,
      "_view_module": "@jupyter-widgets/base",
      "_view_module_version": "1.2.0",
      "_view_name": "LayoutView",
      "align_content": null,
      "align_items": null,
      "align_self": null,
      "border": null,
      "bottom": null,
      "display": null,
      "flex": null,
      "flex_flow": null,
      "grid_area": null,
      "grid_auto_columns": null,
      "grid_auto_flow": null,
      "grid_auto_rows": null,
      "grid_column": null,
      "grid_gap": null,
      "grid_row": null,
      "grid_template_areas": null,
      "grid_template_columns": null,
      "grid_template_rows": null,
      "height": null,
      "justify_content": null,
      "justify_items": null,
      "left": null,
      "margin": null,
      "max_height": null,
      "max_width": null,
      "min_height": null,
      "min_width": null,
      "object_fit": null,
      "object_position": null,
      "order": null,
      "overflow": null,
      "overflow_x": null,
      "overflow_y": null,
      "padding": null,
      "right": null,
      "top": null,
      "visibility": null,
      "width": null
     }
    },
    "bb71e4f07d024355a1cc8ffdb40067de": {
     "model_module": "@jupyter-widgets/controls",
     "model_name": "HTMLModel",
     "state": {
      "_dom_classes": [],
      "_model_module": "@jupyter-widgets/controls",
      "_model_module_version": "1.5.0",
      "_model_name": "HTMLModel",
      "_view_count": null,
      "_view_module": "@jupyter-widgets/controls",
      "_view_module_version": "1.5.0",
      "_view_name": "HTMLView",
      "description": "",
      "description_tooltip": null,
      "layout": "IPY_MODEL_7722774416ce490a86d3bd9a5b2d7942",
      "placeholder": "​",
      "style": "IPY_MODEL_2f34b475dd394bc7a505dd4633772768",
      "value": " 531M/531M [01:07&lt;00:00, 7.89MB/s]"
     }
    },
    "c097ea82770a41d6ad68e1978936fea2": {
     "model_module": "@jupyter-widgets/controls",
     "model_name": "ProgressStyleModel",
     "state": {
      "_model_module": "@jupyter-widgets/controls",
      "_model_module_version": "1.5.0",
      "_model_name": "ProgressStyleModel",
      "_view_count": null,
      "_view_module": "@jupyter-widgets/base",
      "_view_module_version": "1.2.0",
      "_view_name": "StyleView",
      "bar_color": null,
      "description_width": "initial"
     }
    },
    "c36ff6315bd44ea8a251a31d3d98a1c2": {
     "model_module": "@jupyter-widgets/controls",
     "model_name": "DescriptionStyleModel",
     "state": {
      "_model_module": "@jupyter-widgets/controls",
      "_model_module_version": "1.5.0",
      "_model_name": "DescriptionStyleModel",
      "_view_count": null,
      "_view_module": "@jupyter-widgets/base",
      "_view_module_version": "1.2.0",
      "_view_name": "StyleView",
      "description_width": ""
     }
    },
    "c4118b6a0c764b2690d70b09b64f4f0f": {
     "model_module": "@jupyter-widgets/controls",
     "model_name": "HBoxModel",
     "state": {
      "_dom_classes": [],
      "_model_module": "@jupyter-widgets/controls",
      "_model_module_version": "1.5.0",
      "_model_name": "HBoxModel",
      "_view_count": null,
      "_view_module": "@jupyter-widgets/controls",
      "_view_module_version": "1.5.0",
      "_view_name": "HBoxView",
      "box_style": "",
      "children": [
       "IPY_MODEL_fb0a6cd5cb2244c9bb05e345d39c6732",
       "IPY_MODEL_6d8d819096d94b7a81908eba4a4d6b4b"
      ],
      "layout": "IPY_MODEL_1acedd95ea954fae80d51e10c31801af"
     }
    },
    "c603194df11b4df8924547b13cd8abea": {
     "model_module": "@jupyter-widgets/controls",
     "model_name": "HBoxModel",
     "state": {
      "_dom_classes": [],
      "_model_module": "@jupyter-widgets/controls",
      "_model_module_version": "1.5.0",
      "_model_name": "HBoxModel",
      "_view_count": null,
      "_view_module": "@jupyter-widgets/controls",
      "_view_module_version": "1.5.0",
      "_view_name": "HBoxView",
      "box_style": "",
      "children": [
       "IPY_MODEL_2c8a08b819284403ad233f372ac8d809",
       "IPY_MODEL_2dbe4b237f7646368a5164a7b9e39cd7"
      ],
      "layout": "IPY_MODEL_5421f36e7a6544cf8773160be5e3ce37"
     }
    },
    "c8203145aa144a838c74f0f8ed449cc8": {
     "model_module": "@jupyter-widgets/controls",
     "model_name": "HTMLModel",
     "state": {
      "_dom_classes": [],
      "_model_module": "@jupyter-widgets/controls",
      "_model_module_version": "1.5.0",
      "_model_name": "HTMLModel",
      "_view_count": null,
      "_view_module": "@jupyter-widgets/controls",
      "_view_module_version": "1.5.0",
      "_view_name": "HTMLView",
      "description": "",
      "description_tooltip": null,
      "layout": "IPY_MODEL_927a7b6a2fec40bc800ee79b0952e73c",
      "placeholder": "​",
      "style": "IPY_MODEL_2077e682708c40d7867bffd19ac0796f",
      "value": " 531M/531M [00:08&lt;00:00, 59.4MB/s]"
     }
    },
    "c85ca435aa364a8f9e8395ebca2cacac": {
     "model_module": "@jupyter-widgets/base",
     "model_name": "LayoutModel",
     "state": {
      "_model_module": "@jupyter-widgets/base",
      "_model_module_version": "1.2.0",
      "_model_name": "LayoutModel",
      "_view_count": null,
      "_view_module": "@jupyter-widgets/base",
      "_view_module_version": "1.2.0",
      "_view_name": "LayoutView",
      "align_content": null,
      "align_items": null,
      "align_self": null,
      "border": null,
      "bottom": null,
      "display": null,
      "flex": null,
      "flex_flow": null,
      "grid_area": null,
      "grid_auto_columns": null,
      "grid_auto_flow": null,
      "grid_auto_rows": null,
      "grid_column": null,
      "grid_gap": null,
      "grid_row": null,
      "grid_template_areas": null,
      "grid_template_columns": null,
      "grid_template_rows": null,
      "height": null,
      "justify_content": null,
      "justify_items": null,
      "left": null,
      "margin": null,
      "max_height": null,
      "max_width": null,
      "min_height": null,
      "min_width": null,
      "object_fit": null,
      "object_position": null,
      "order": null,
      "overflow": null,
      "overflow_x": null,
      "overflow_y": null,
      "padding": null,
      "right": null,
      "top": null,
      "visibility": null,
      "width": null
     }
    },
    "cc5fc3674f1a4fdf8279094b9c1566b1": {
     "model_module": "@jupyter-widgets/controls",
     "model_name": "DescriptionStyleModel",
     "state": {
      "_model_module": "@jupyter-widgets/controls",
      "_model_module_version": "1.5.0",
      "_model_name": "DescriptionStyleModel",
      "_view_count": null,
      "_view_module": "@jupyter-widgets/base",
      "_view_module_version": "1.2.0",
      "_view_name": "StyleView",
      "description_width": ""
     }
    },
    "cdf911919d87435f852cdf6515251c86": {
     "model_module": "@jupyter-widgets/base",
     "model_name": "LayoutModel",
     "state": {
      "_model_module": "@jupyter-widgets/base",
      "_model_module_version": "1.2.0",
      "_model_name": "LayoutModel",
      "_view_count": null,
      "_view_module": "@jupyter-widgets/base",
      "_view_module_version": "1.2.0",
      "_view_name": "LayoutView",
      "align_content": null,
      "align_items": null,
      "align_self": null,
      "border": null,
      "bottom": null,
      "display": null,
      "flex": null,
      "flex_flow": null,
      "grid_area": null,
      "grid_auto_columns": null,
      "grid_auto_flow": null,
      "grid_auto_rows": null,
      "grid_column": null,
      "grid_gap": null,
      "grid_row": null,
      "grid_template_areas": null,
      "grid_template_columns": null,
      "grid_template_rows": null,
      "height": null,
      "justify_content": null,
      "justify_items": null,
      "left": null,
      "margin": null,
      "max_height": null,
      "max_width": null,
      "min_height": null,
      "min_width": null,
      "object_fit": null,
      "object_position": null,
      "order": null,
      "overflow": null,
      "overflow_x": null,
      "overflow_y": null,
      "padding": null,
      "right": null,
      "top": null,
      "visibility": null,
      "width": null
     }
    },
    "d3ff214447774a5aaaca9f0a61b0c071": {
     "model_module": "@jupyter-widgets/controls",
     "model_name": "ProgressStyleModel",
     "state": {
      "_model_module": "@jupyter-widgets/controls",
      "_model_module_version": "1.5.0",
      "_model_name": "ProgressStyleModel",
      "_view_count": null,
      "_view_module": "@jupyter-widgets/base",
      "_view_module_version": "1.2.0",
      "_view_name": "StyleView",
      "bar_color": null,
      "description_width": "initial"
     }
    },
    "d7043a7dc2664d0f996e2aa33e66d6e8": {
     "model_module": "@jupyter-widgets/controls",
     "model_name": "ProgressStyleModel",
     "state": {
      "_model_module": "@jupyter-widgets/controls",
      "_model_module_version": "1.5.0",
      "_model_name": "ProgressStyleModel",
      "_view_count": null,
      "_view_module": "@jupyter-widgets/base",
      "_view_module_version": "1.2.0",
      "_view_name": "StyleView",
      "bar_color": null,
      "description_width": "initial"
     }
    },
    "d814471d05f841a0bf13db7f80f2f2ce": {
     "model_module": "@jupyter-widgets/controls",
     "model_name": "HBoxModel",
     "state": {
      "_dom_classes": [],
      "_model_module": "@jupyter-widgets/controls",
      "_model_module_version": "1.5.0",
      "_model_name": "HBoxModel",
      "_view_count": null,
      "_view_module": "@jupyter-widgets/controls",
      "_view_module_version": "1.5.0",
      "_view_name": "HBoxView",
      "box_style": "",
      "children": [
       "IPY_MODEL_fd15fd8daace498dbcf5f3604c9ac7e6",
       "IPY_MODEL_2b96ff14c3ce40889231e4061356c97a"
      ],
      "layout": "IPY_MODEL_4147b85d8984468cb6f02879aa649653"
     }
    },
    "d9655f1438844d59b9df243a01c1e253": {
     "model_module": "@jupyter-widgets/base",
     "model_name": "LayoutModel",
     "state": {
      "_model_module": "@jupyter-widgets/base",
      "_model_module_version": "1.2.0",
      "_model_name": "LayoutModel",
      "_view_count": null,
      "_view_module": "@jupyter-widgets/base",
      "_view_module_version": "1.2.0",
      "_view_name": "LayoutView",
      "align_content": null,
      "align_items": null,
      "align_self": null,
      "border": null,
      "bottom": null,
      "display": null,
      "flex": null,
      "flex_flow": null,
      "grid_area": null,
      "grid_auto_columns": null,
      "grid_auto_flow": null,
      "grid_auto_rows": null,
      "grid_column": null,
      "grid_gap": null,
      "grid_row": null,
      "grid_template_areas": null,
      "grid_template_columns": null,
      "grid_template_rows": null,
      "height": null,
      "justify_content": null,
      "justify_items": null,
      "left": null,
      "margin": null,
      "max_height": null,
      "max_width": null,
      "min_height": null,
      "min_width": null,
      "object_fit": null,
      "object_position": null,
      "order": null,
      "overflow": null,
      "overflow_x": null,
      "overflow_y": null,
      "padding": null,
      "right": null,
      "top": null,
      "visibility": null,
      "width": null
     }
    },
    "d9930990db8e42909eefe8246691c7a4": {
     "model_module": "@jupyter-widgets/base",
     "model_name": "LayoutModel",
     "state": {
      "_model_module": "@jupyter-widgets/base",
      "_model_module_version": "1.2.0",
      "_model_name": "LayoutModel",
      "_view_count": null,
      "_view_module": "@jupyter-widgets/base",
      "_view_module_version": "1.2.0",
      "_view_name": "LayoutView",
      "align_content": null,
      "align_items": null,
      "align_self": null,
      "border": null,
      "bottom": null,
      "display": null,
      "flex": null,
      "flex_flow": null,
      "grid_area": null,
      "grid_auto_columns": null,
      "grid_auto_flow": null,
      "grid_auto_rows": null,
      "grid_column": null,
      "grid_gap": null,
      "grid_row": null,
      "grid_template_areas": null,
      "grid_template_columns": null,
      "grid_template_rows": null,
      "height": null,
      "justify_content": null,
      "justify_items": null,
      "left": null,
      "margin": null,
      "max_height": null,
      "max_width": null,
      "min_height": null,
      "min_width": null,
      "object_fit": null,
      "object_position": null,
      "order": null,
      "overflow": null,
      "overflow_x": null,
      "overflow_y": null,
      "padding": null,
      "right": null,
      "top": null,
      "visibility": null,
      "width": null
     }
    },
    "dcae589d07c741caaf12072ad7be35f4": {
     "model_module": "@jupyter-widgets/controls",
     "model_name": "FloatProgressModel",
     "state": {
      "_dom_classes": [],
      "_model_module": "@jupyter-widgets/controls",
      "_model_module_version": "1.5.0",
      "_model_name": "FloatProgressModel",
      "_view_count": null,
      "_view_module": "@jupyter-widgets/controls",
      "_view_module_version": "1.5.0",
      "_view_name": "ProgressView",
      "bar_style": "success",
      "description": "100%",
      "description_tooltip": null,
      "layout": "IPY_MODEL_71777fea35194ac4a15dd45b7d15a11e",
      "max": 1250,
      "min": 0,
      "orientation": "horizontal",
      "style": "IPY_MODEL_5bffc38992da4cf6aded83cd1dde6a18",
      "value": 1250
     }
    },
    "dd64884844b44e52b0fee0bdbb65359e": {
     "model_module": "@jupyter-widgets/controls",
     "model_name": "FloatProgressModel",
     "state": {
      "_dom_classes": [],
      "_model_module": "@jupyter-widgets/controls",
      "_model_module_version": "1.5.0",
      "_model_name": "FloatProgressModel",
      "_view_count": null,
      "_view_module": "@jupyter-widgets/controls",
      "_view_module_version": "1.5.0",
      "_view_name": "ProgressView",
      "bar_style": "success",
      "description": "100%",
      "description_tooltip": null,
      "layout": "IPY_MODEL_c85ca435aa364a8f9e8395ebca2cacac",
      "max": 233238,
      "min": 0,
      "orientation": "horizontal",
      "style": "IPY_MODEL_903da59b4c554d3498d117a8cd2ff362",
      "value": 233238
     }
    },
    "e2b4a9892734480b8d6d8d6027a92a5f": {
     "model_module": "@jupyter-widgets/controls",
     "model_name": "DescriptionStyleModel",
     "state": {
      "_model_module": "@jupyter-widgets/controls",
      "_model_module_version": "1.5.0",
      "_model_name": "DescriptionStyleModel",
      "_view_count": null,
      "_view_module": "@jupyter-widgets/base",
      "_view_module_version": "1.2.0",
      "_view_name": "StyleView",
      "description_width": ""
     }
    },
    "e41a546489cf4cafabf75c09056fe92f": {
     "model_module": "@jupyter-widgets/base",
     "model_name": "LayoutModel",
     "state": {
      "_model_module": "@jupyter-widgets/base",
      "_model_module_version": "1.2.0",
      "_model_name": "LayoutModel",
      "_view_count": null,
      "_view_module": "@jupyter-widgets/base",
      "_view_module_version": "1.2.0",
      "_view_name": "LayoutView",
      "align_content": null,
      "align_items": null,
      "align_self": null,
      "border": null,
      "bottom": null,
      "display": null,
      "flex": null,
      "flex_flow": null,
      "grid_area": null,
      "grid_auto_columns": null,
      "grid_auto_flow": null,
      "grid_auto_rows": null,
      "grid_column": null,
      "grid_gap": null,
      "grid_row": null,
      "grid_template_areas": null,
      "grid_template_columns": null,
      "grid_template_rows": null,
      "height": null,
      "justify_content": null,
      "justify_items": null,
      "left": null,
      "margin": null,
      "max_height": null,
      "max_width": null,
      "min_height": null,
      "min_width": null,
      "object_fit": null,
      "object_position": null,
      "order": null,
      "overflow": null,
      "overflow_x": null,
      "overflow_y": null,
      "padding": null,
      "right": null,
      "top": null,
      "visibility": null,
      "width": null
     }
    },
    "eb60511f27844ce3b9c89d605f028e29": {
     "model_module": "@jupyter-widgets/controls",
     "model_name": "ProgressStyleModel",
     "state": {
      "_model_module": "@jupyter-widgets/controls",
      "_model_module_version": "1.5.0",
      "_model_name": "ProgressStyleModel",
      "_view_count": null,
      "_view_module": "@jupyter-widgets/base",
      "_view_module_version": "1.2.0",
      "_view_name": "StyleView",
      "bar_color": null,
      "description_width": "initial"
     }
    },
    "ee0771ba919f47e6a679aca7928768cf": {
     "model_module": "@jupyter-widgets/base",
     "model_name": "LayoutModel",
     "state": {
      "_model_module": "@jupyter-widgets/base",
      "_model_module_version": "1.2.0",
      "_model_name": "LayoutModel",
      "_view_count": null,
      "_view_module": "@jupyter-widgets/base",
      "_view_module_version": "1.2.0",
      "_view_name": "LayoutView",
      "align_content": null,
      "align_items": null,
      "align_self": null,
      "border": null,
      "bottom": null,
      "display": null,
      "flex": null,
      "flex_flow": null,
      "grid_area": null,
      "grid_auto_columns": null,
      "grid_auto_flow": null,
      "grid_auto_rows": null,
      "grid_column": null,
      "grid_gap": null,
      "grid_row": null,
      "grid_template_areas": null,
      "grid_template_columns": null,
      "grid_template_rows": null,
      "height": null,
      "justify_content": null,
      "justify_items": null,
      "left": null,
      "margin": null,
      "max_height": null,
      "max_width": null,
      "min_height": null,
      "min_width": null,
      "object_fit": null,
      "object_position": null,
      "order": null,
      "overflow": null,
      "overflow_x": null,
      "overflow_y": null,
      "padding": null,
      "right": null,
      "top": null,
      "visibility": null,
      "width": null
     }
    },
    "efd133e617ba4cca9f0010e70ba30bbe": {
     "model_module": "@jupyter-widgets/controls",
     "model_name": "HBoxModel",
     "state": {
      "_dom_classes": [],
      "_model_module": "@jupyter-widgets/controls",
      "_model_module_version": "1.5.0",
      "_model_name": "HBoxModel",
      "_view_count": null,
      "_view_module": "@jupyter-widgets/controls",
      "_view_module_version": "1.5.0",
      "_view_name": "HBoxView",
      "box_style": "",
      "children": [
       "IPY_MODEL_dcae589d07c741caaf12072ad7be35f4",
       "IPY_MODEL_42096046c73d42bb90d4d3c3cc82f69f"
      ],
      "layout": "IPY_MODEL_a4a36bf755f74a2c9c5fdc25cc5cbc67"
     }
    },
    "f1654d8db75c4068a2e207ae7d5c5327": {
     "model_module": "@jupyter-widgets/base",
     "model_name": "LayoutModel",
     "state": {
      "_model_module": "@jupyter-widgets/base",
      "_model_module_version": "1.2.0",
      "_model_name": "LayoutModel",
      "_view_count": null,
      "_view_module": "@jupyter-widgets/base",
      "_view_module_version": "1.2.0",
      "_view_name": "LayoutView",
      "align_content": null,
      "align_items": null,
      "align_self": null,
      "border": null,
      "bottom": null,
      "display": null,
      "flex": null,
      "flex_flow": null,
      "grid_area": null,
      "grid_auto_columns": null,
      "grid_auto_flow": null,
      "grid_auto_rows": null,
      "grid_column": null,
      "grid_gap": null,
      "grid_row": null,
      "grid_template_areas": null,
      "grid_template_columns": null,
      "grid_template_rows": null,
      "height": null,
      "justify_content": null,
      "justify_items": null,
      "left": null,
      "margin": null,
      "max_height": null,
      "max_width": null,
      "min_height": null,
      "min_width": null,
      "object_fit": null,
      "object_position": null,
      "order": null,
      "overflow": null,
      "overflow_x": null,
      "overflow_y": null,
      "padding": null,
      "right": null,
      "top": null,
      "visibility": null,
      "width": null
     }
    },
    "f53b18e6750241adafee5e79df1df824": {
     "model_module": "@jupyter-widgets/base",
     "model_name": "LayoutModel",
     "state": {
      "_model_module": "@jupyter-widgets/base",
      "_model_module_version": "1.2.0",
      "_model_name": "LayoutModel",
      "_view_count": null,
      "_view_module": "@jupyter-widgets/base",
      "_view_module_version": "1.2.0",
      "_view_name": "LayoutView",
      "align_content": null,
      "align_items": null,
      "align_self": null,
      "border": null,
      "bottom": null,
      "display": null,
      "flex": null,
      "flex_flow": null,
      "grid_area": null,
      "grid_auto_columns": null,
      "grid_auto_flow": null,
      "grid_auto_rows": null,
      "grid_column": null,
      "grid_gap": null,
      "grid_row": null,
      "grid_template_areas": null,
      "grid_template_columns": null,
      "grid_template_rows": null,
      "height": null,
      "justify_content": null,
      "justify_items": null,
      "left": null,
      "margin": null,
      "max_height": null,
      "max_width": null,
      "min_height": null,
      "min_width": null,
      "object_fit": null,
      "object_position": null,
      "order": null,
      "overflow": null,
      "overflow_x": null,
      "overflow_y": null,
      "padding": null,
      "right": null,
      "top": null,
      "visibility": null,
      "width": null
     }
    },
    "f6423eea4bc149e89b00527a9bcc67b9": {
     "model_module": "@jupyter-widgets/controls",
     "model_name": "ProgressStyleModel",
     "state": {
      "_model_module": "@jupyter-widgets/controls",
      "_model_module_version": "1.5.0",
      "_model_name": "ProgressStyleModel",
      "_view_count": null,
      "_view_module": "@jupyter-widgets/base",
      "_view_module_version": "1.2.0",
      "_view_name": "StyleView",
      "bar_color": null,
      "description_width": "initial"
     }
    },
    "f84434289a6e40aea216e8cbeda09275": {
     "model_module": "@jupyter-widgets/base",
     "model_name": "LayoutModel",
     "state": {
      "_model_module": "@jupyter-widgets/base",
      "_model_module_version": "1.2.0",
      "_model_name": "LayoutModel",
      "_view_count": null,
      "_view_module": "@jupyter-widgets/base",
      "_view_module_version": "1.2.0",
      "_view_name": "LayoutView",
      "align_content": null,
      "align_items": null,
      "align_self": null,
      "border": null,
      "bottom": null,
      "display": null,
      "flex": null,
      "flex_flow": null,
      "grid_area": null,
      "grid_auto_columns": null,
      "grid_auto_flow": null,
      "grid_auto_rows": null,
      "grid_column": null,
      "grid_gap": null,
      "grid_row": null,
      "grid_template_areas": null,
      "grid_template_columns": null,
      "grid_template_rows": null,
      "height": null,
      "justify_content": null,
      "justify_items": null,
      "left": null,
      "margin": null,
      "max_height": null,
      "max_width": null,
      "min_height": null,
      "min_width": null,
      "object_fit": null,
      "object_position": null,
      "order": null,
      "overflow": null,
      "overflow_x": null,
      "overflow_y": null,
      "padding": null,
      "right": null,
      "top": null,
      "visibility": null,
      "width": null
     }
    },
    "fa029ae1c199402a96038c6928763e7c": {
     "model_module": "@jupyter-widgets/controls",
     "model_name": "DescriptionStyleModel",
     "state": {
      "_model_module": "@jupyter-widgets/controls",
      "_model_module_version": "1.5.0",
      "_model_name": "DescriptionStyleModel",
      "_view_count": null,
      "_view_module": "@jupyter-widgets/base",
      "_view_module_version": "1.2.0",
      "_view_name": "StyleView",
      "description_width": ""
     }
    },
    "fb0a6cd5cb2244c9bb05e345d39c6732": {
     "model_module": "@jupyter-widgets/controls",
     "model_name": "FloatProgressModel",
     "state": {
      "_dom_classes": [],
      "_model_module": "@jupyter-widgets/controls",
      "_model_module_version": "1.5.0",
      "_model_name": "FloatProgressModel",
      "_view_count": null,
      "_view_module": "@jupyter-widgets/controls",
      "_view_module_version": "1.5.0",
      "_view_name": "ProgressView",
      "bar_style": "success",
      "description": "Downloading: 100%",
      "description_tooltip": null,
      "layout": "IPY_MODEL_71b4c7aee91f4de4abd7eb494b474ef8",
      "max": 112,
      "min": 0,
      "orientation": "horizontal",
      "style": "IPY_MODEL_6218bec85e6247439267a7ed0247181a",
      "value": 112
     }
    },
    "fd15fd8daace498dbcf5f3604c9ac7e6": {
     "model_module": "@jupyter-widgets/controls",
     "model_name": "FloatProgressModel",
     "state": {
      "_dom_classes": [],
      "_model_module": "@jupyter-widgets/controls",
      "_model_module_version": "1.5.0",
      "_model_name": "FloatProgressModel",
      "_view_count": null,
      "_view_module": "@jupyter-widgets/controls",
      "_view_module_version": "1.5.0",
      "_view_name": "ProgressView",
      "bar_style": "success",
      "description": "Downloading: 100%",
      "description_tooltip": null,
      "layout": "IPY_MODEL_52ac546bacfc465dbe8ea727972ad4ca",
      "max": 2,
      "min": 0,
      "orientation": "horizontal",
      "style": "IPY_MODEL_683004f5bf074caab0e0b93e1510b8aa",
      "value": 2
     }
    },
    "fe62406edad24774b179fa59ddaa3d0c": {
     "model_module": "@jupyter-widgets/controls",
     "model_name": "DescriptionStyleModel",
     "state": {
      "_model_module": "@jupyter-widgets/controls",
      "_model_module_version": "1.5.0",
      "_model_name": "DescriptionStyleModel",
      "_view_count": null,
      "_view_module": "@jupyter-widgets/base",
      "_view_module_version": "1.2.0",
      "_view_name": "StyleView",
      "description_width": ""
     }
    },
    "ff465577f67a4ebabb1d488d91491d75": {
     "model_module": "@jupyter-widgets/controls",
     "model_name": "HTMLModel",
     "state": {
      "_dom_classes": [],
      "_model_module": "@jupyter-widgets/controls",
      "_model_module_version": "1.5.0",
      "_model_name": "HTMLModel",
      "_view_count": null,
      "_view_module": "@jupyter-widgets/controls",
      "_view_module_version": "1.5.0",
      "_view_name": "HTMLView",
      "description": "",
      "description_tooltip": null,
      "layout": "IPY_MODEL_ffb86cd4add241549f7716e577b9ae2f",
      "placeholder": "​",
      "style": "IPY_MODEL_9eaf0a97088a4083aca3cb3e12ad8206",
      "value": " 1250/1250 [2:34:40&lt;00:00,  7.42s/it]"
     }
    },
    "ffb86cd4add241549f7716e577b9ae2f": {
     "model_module": "@jupyter-widgets/base",
     "model_name": "LayoutModel",
     "state": {
      "_model_module": "@jupyter-widgets/base",
      "_model_module_version": "1.2.0",
      "_model_name": "LayoutModel",
      "_view_count": null,
      "_view_module": "@jupyter-widgets/base",
      "_view_module_version": "1.2.0",
      "_view_name": "LayoutView",
      "align_content": null,
      "align_items": null,
      "align_self": null,
      "border": null,
      "bottom": null,
      "display": null,
      "flex": null,
      "flex_flow": null,
      "grid_area": null,
      "grid_auto_columns": null,
      "grid_auto_flow": null,
      "grid_auto_rows": null,
      "grid_column": null,
      "grid_gap": null,
      "grid_row": null,
      "grid_template_areas": null,
      "grid_template_columns": null,
      "grid_template_rows": null,
      "height": null,
      "justify_content": null,
      "justify_items": null,
      "left": null,
      "margin": null,
      "max_height": null,
      "max_width": null,
      "min_height": null,
      "min_width": null,
      "object_fit": null,
      "object_position": null,
      "order": null,
      "overflow": null,
      "overflow_x": null,
      "overflow_y": null,
      "padding": null,
      "right": null,
      "top": null,
      "visibility": null,
      "width": null
     }
    },
    "ffd8c582ead64fdab6c81d830781ef69": {
     "model_module": "@jupyter-widgets/base",
     "model_name": "LayoutModel",
     "state": {
      "_model_module": "@jupyter-widgets/base",
      "_model_module_version": "1.2.0",
      "_model_name": "LayoutModel",
      "_view_count": null,
      "_view_module": "@jupyter-widgets/base",
      "_view_module_version": "1.2.0",
      "_view_name": "LayoutView",
      "align_content": null,
      "align_items": null,
      "align_self": null,
      "border": null,
      "bottom": null,
      "display": null,
      "flex": null,
      "flex_flow": null,
      "grid_area": null,
      "grid_auto_columns": null,
      "grid_auto_flow": null,
      "grid_auto_rows": null,
      "grid_column": null,
      "grid_gap": null,
      "grid_row": null,
      "grid_template_areas": null,
      "grid_template_columns": null,
      "grid_template_rows": null,
      "height": null,
      "justify_content": null,
      "justify_items": null,
      "left": null,
      "margin": null,
      "max_height": null,
      "max_width": null,
      "min_height": null,
      "min_width": null,
      "object_fit": null,
      "object_position": null,
      "order": null,
      "overflow": null,
      "overflow_x": null,
      "overflow_y": null,
      "padding": null,
      "right": null,
      "top": null,
      "visibility": null,
      "width": null
     }
    }
   }
  }
 },
 "nbformat": 4,
 "nbformat_minor": 1
}
